{
 "cells": [
  {
   "cell_type": "code",
   "execution_count": 1,
   "metadata": {
    "collapsed": true
   },
   "outputs": [],
   "source": [
    "import tensorflow as tf\n",
    "import numpy as np\n",
    "import matplotlib.pyplot as plt\n",
    "%matplotlib inline\n",
    "plt.rcParams[\"figure.figsize\"] = (20, 10)\n",
    "import cv2\n",
    "import tifffile as tiff\n",
    "import sys\n",
    "import time"
   ]
  },
  {
   "cell_type": "code",
   "execution_count": 2,
   "metadata": {
    "collapsed": true
   },
   "outputs": [],
   "source": [
    "part1_data = np.load('/data/zonghua/satellite/Final/my_data/part1_data.npy', 'r')\n",
    "part2_data = np.load('/data/zonghua/satellite/Final/my_data/part2_data.npy', 'r')\n",
    "part1_label = np.load('/data/zonghua/satellite/Final/my_data/part1_label.npy', 'r')\n",
    "part2_label = np.load('/data/zonghua/satellite/Final/my_data/part2_label_add_bridge.npy', 'r')"
   ]
  },
  {
   "cell_type": "code",
   "execution_count": 4,
   "metadata": {
    "collapsed": false
   },
   "outputs": [
    {
     "data": {
      "text/plain": [
       "True"
      ]
     },
     "execution_count": 4,
     "metadata": {},
     "output_type": "execute_result"
    }
   ],
   "source": [
    "cv2.imwrite('part1_2015.bmp', part1_data[:, :, :3]*255)\n",
    "cv2.imwrite('part1_2017.bmp', part1_data[:, :, 4:7]*255)"
   ]
  },
  {
   "cell_type": "code",
   "execution_count": 3,
   "metadata": {
    "collapsed": false
   },
   "outputs": [
    {
     "data": {
      "text/plain": [
       "True"
      ]
     },
     "execution_count": 3,
     "metadata": {},
     "output_type": "execute_result"
    }
   ],
   "source": [
    "cv2.imwrite('part1_label.bmp', part1_data[:, :, :3]*255)"
   ]
  },
  {
   "cell_type": "code",
   "execution_count": 3,
   "metadata": {
    "collapsed": true
   },
   "outputs": [],
   "source": [
    "valid_data = part1_data[-2400:, :, :]\n",
    "valid_label = part1_label[-2400:, :, :]\n",
    "train_data = part1_data[:-2400, :, :]\n",
    "train_label = part1_label[:-2400, :, :]"
   ]
  },
  {
   "cell_type": "code",
   "execution_count": 4,
   "metadata": {
    "collapsed": false
   },
   "outputs": [
    {
     "data": {
      "text/plain": [
       "((2400, 15106, 8),\n",
       " (2400, 15106, 1),\n",
       " (2706, 15106, 8),\n",
       " (2706, 15106, 1),\n",
       " (3000, 15106, 8),\n",
       " (3000, 15106, 1))"
      ]
     },
     "execution_count": 4,
     "metadata": {},
     "output_type": "execute_result"
    }
   ],
   "source": [
    "valid_data.shape, valid_label.shape, train_data.shape, train_label.shape, part2_data.shape, part2_label.shape, "
   ]
  },
  {
   "cell_type": "code",
   "execution_count": 4,
   "metadata": {
    "collapsed": true
   },
   "outputs": [],
   "source": [
    "def fill_data_edge(data):\n",
    "    bound_data = np.copy(data)\n",
    "    bound_data = np.concatenate([bound_data[:56,:,:],bound_data,bound_data[-112:,:,:]],axis=0)\n",
    "    bound_data = np.concatenate([bound_data[:,:56,:],bound_data,bound_data[:,-112:,:]],axis=1)\n",
    "    return bound_data"
   ]
  },
  {
   "cell_type": "code",
   "execution_count": 6,
   "metadata": {
    "collapsed": true
   },
   "outputs": [],
   "source": [
    "valid_data = fill_data_edge(valid_data)\n",
    "valid_label = fill_data_edge(valid_label)\n",
    "train_data = fill_data_edge(train_data)\n",
    "train_label = fill_data_edge(train_label)\n",
    "part2_data = fill_data_edge(part2_data)\n",
    "part2_label = fill_data_edge(part2_label)"
   ]
  },
  {
   "cell_type": "code",
   "execution_count": 7,
   "metadata": {
    "collapsed": false
   },
   "outputs": [
    {
     "data": {
      "text/plain": [
       "((2568, 15274, 8),\n",
       " (2568, 15274, 1),\n",
       " (2874, 15274, 8),\n",
       " (2874, 15274, 1),\n",
       " (3168, 15274, 8),\n",
       " (3168, 15274, 1))"
      ]
     },
     "execution_count": 7,
     "metadata": {},
     "output_type": "execute_result"
    }
   ],
   "source": [
    "valid_data.shape, valid_label.shape, train_data.shape, train_label.shape, part2_data.shape, part2_label.shape, "
   ]
  },
  {
   "cell_type": "code",
   "execution_count": 8,
   "metadata": {
    "collapsed": true
   },
   "outputs": [],
   "source": [
    "i = 0\n",
    "j = 0\n",
    "X_valid = []\n",
    "y_valid = []\n",
    "for i in range(0,valid_data.shape[0],56):\n",
    "    if i + 112 > valid_data.shape[0]:\n",
    "        continue\n",
    "    for j in range(0,valid_data.shape[1],56):\n",
    "        if j + 112 > valid_data.shape[1]:\n",
    "            continue\n",
    "        one_X_valid = valid_data[i:i + 112,j:j + 112,:]\n",
    "        one_y_valid = valid_label[i:i + 112,j:j + 112,:]\n",
    "        X_valid.append(one_X_valid)\n",
    "        y_valid.append(one_y_valid)"
   ]
  },
  {
   "cell_type": "code",
   "execution_count": 9,
   "metadata": {
    "collapsed": false
   },
   "outputs": [
    {
     "data": {
      "text/plain": [
       "((11924, 112, 112, 8), (11924, 112, 112, 1))"
      ]
     },
     "execution_count": 9,
     "metadata": {},
     "output_type": "execute_result"
    }
   ],
   "source": [
    "X_valid = np.asarray(X_valid)\n",
    "y_valid = np.asarray(y_valid)\n",
    "X_valid.shape, y_valid.shape"
   ]
  },
  {
   "cell_type": "code",
   "execution_count": 10,
   "metadata": {
    "collapsed": true
   },
   "outputs": [],
   "source": [
    "np.save('/data/zonghua/satellite/Final/Step_1_Prediction/part1_down_2400_as_test_data', X_valid)\n",
    "np.save('/data/zonghua/satellite/Final/Step_1_Prediction/part1_down_2400_as_test_label', y_valid)"
   ]
  },
  {
   "cell_type": "code",
   "execution_count": 18,
   "metadata": {
    "collapsed": true
   },
   "outputs": [],
   "source": [
    "i = 0\n",
    "j = 0\n",
    "X_train = []\n",
    "y_train = []\n",
    "for i in range(0,train_data.shape[0],56):\n",
    "    if i + 112 > train_data.shape[0]:\n",
    "        continue\n",
    "    for j in range(0,train_data.shape[1],56):\n",
    "        if j + 112 > train_data.shape[1]:\n",
    "            continue\n",
    "        one_X_train = train_data[i:i + 112,j:j + 112,:]\n",
    "        one_y_train = train_label[i:i + 112,j:j + 112,:]\n",
    "        X_train.append(one_X_train)\n",
    "        y_train.append(one_y_train)"
   ]
  },
  {
   "cell_type": "code",
   "execution_count": 19,
   "metadata": {
    "collapsed": false
   },
   "outputs": [
    {
     "data": {
      "text/plain": [
       "(13550, 13550)"
      ]
     },
     "execution_count": 19,
     "metadata": {},
     "output_type": "execute_result"
    }
   ],
   "source": [
    "len(X_train), len(y_train)"
   ]
  },
  {
   "cell_type": "code",
   "execution_count": 20,
   "metadata": {
    "collapsed": true
   },
   "outputs": [],
   "source": [
    "i = 0\n",
    "j = 0\n",
    "for i in range(0,part2_data.shape[0],56):\n",
    "    if i + 112 > part2_data.shape[0]:\n",
    "        continue\n",
    "    for j in range(0,part2_data.shape[1],56):\n",
    "        if j + 112 > part2_data.shape[1]:\n",
    "            continue\n",
    "        one_X_train = part2_data[i:i + 112,j:j + 112,:]\n",
    "        one_y_train = part2_label[i:i + 112,j:j + 112,:]\n",
    "        X_train.append(one_X_train)\n",
    "        y_train.append(one_y_train)"
   ]
  },
  {
   "cell_type": "code",
   "execution_count": 21,
   "metadata": {
    "collapsed": false
   },
   "outputs": [
    {
     "data": {
      "text/plain": [
       "((28455, 112, 112, 8), (28455, 112, 112, 1))"
      ]
     },
     "execution_count": 21,
     "metadata": {},
     "output_type": "execute_result"
    }
   ],
   "source": [
    "X_train = np.asarray(X_train)\n",
    "y_train = np.asarray(y_train)\n",
    "X_train.shape, y_train.shape"
   ]
  },
  {
   "cell_type": "code",
   "execution_count": 22,
   "metadata": {
    "collapsed": true
   },
   "outputs": [],
   "source": [
    "np.save('/data/zonghua/satellite/Final/Step_1_Prediction/part1_up_and_part2_as_train_data', X_train)\n",
    "np.save('/data/zonghua/satellite/Final/Step_1_Prediction/part1_up_and_part2_as_train_label', y_train)"
   ]
  },
  {
   "cell_type": "code",
   "execution_count": 2,
   "metadata": {
    "collapsed": false
   },
   "outputs": [
    {
     "data": {
      "text/plain": [
       "((4000, 15106, 8), (4000, 15106))"
      ]
     },
     "execution_count": 2,
     "metadata": {},
     "output_type": "execute_result"
    }
   ],
   "source": [
    "part3_data = np.load('../my_data/part3_data.npy', 'r')\n",
    "part3_label = np.load('../my_data/part3_label.npy', 'r')\n",
    "part3_data.shape, part3_label.shape"
   ]
  },
  {
   "cell_type": "code",
   "execution_count": 3,
   "metadata": {
    "collapsed": true
   },
   "outputs": [],
   "source": [
    "part3_label = part3_label.reshape(4000, 15106, 1)"
   ]
  },
  {
   "cell_type": "code",
   "execution_count": 5,
   "metadata": {
    "collapsed": true
   },
   "outputs": [],
   "source": [
    "part3_data = fill_data_edge(part3_data)\n",
    "part3_label = fill_data_edge(part3_label)"
   ]
  },
  {
   "cell_type": "code",
   "execution_count": 6,
   "metadata": {
    "collapsed": false
   },
   "outputs": [
    {
     "data": {
      "text/plain": [
       "((4168, 15274, 8), (4168, 15274, 1))"
      ]
     },
     "execution_count": 6,
     "metadata": {},
     "output_type": "execute_result"
    }
   ],
   "source": [
    "part3_data.shape, part3_label.shape"
   ]
  },
  {
   "cell_type": "code",
   "execution_count": 7,
   "metadata": {
    "collapsed": true
   },
   "outputs": [],
   "source": [
    "i = 0\n",
    "j = 0\n",
    "X_train = []\n",
    "y_train = []\n",
    "for i in range(0,part3_data.shape[0],56):\n",
    "    if i + 112 > part3_data.shape[0]:\n",
    "        continue\n",
    "    for j in range(0,part3_data.shape[1],56):\n",
    "        if j + 112 > part3_data.shape[1]:\n",
    "            continue\n",
    "        one_X_train = part3_data[i:i + 112,j:j + 112,:]\n",
    "        one_y_train = part3_label[i:i + 112,j:j + 112,:]\n",
    "        X_train.append(one_X_train)\n",
    "        y_train.append(one_y_train)"
   ]
  },
  {
   "cell_type": "code",
   "execution_count": 8,
   "metadata": {
    "collapsed": false
   },
   "outputs": [
    {
     "data": {
      "text/plain": [
       "((19783, 112, 112, 8), (19783, 112, 112, 1))"
      ]
     },
     "execution_count": 8,
     "metadata": {},
     "output_type": "execute_result"
    }
   ],
   "source": [
    "X_train = np.asarray(X_train)\n",
    "y_train = np.asarray(y_train)\n",
    "X_train.shape, y_train.shape"
   ]
  },
  {
   "cell_type": "code",
   "execution_count": 9,
   "metadata": {
    "collapsed": true
   },
   "outputs": [],
   "source": [
    "np.save('/data/zonghua/satellite/Final/Step_1_Prediction/part3_train_data', X_train)\n",
    "np.save('/data/zonghua/satellite/Final/Step_1_Prediction/part3_train_label', y_train)"
   ]
  },
  {
   "cell_type": "code",
   "execution_count": 10,
   "metadata": {
    "collapsed": false
   },
   "outputs": [
    {
     "data": {
      "text/plain": [
       "((28455, 112, 112, 8), (28455, 112, 112, 1))"
      ]
     },
     "execution_count": 10,
     "metadata": {},
     "output_type": "execute_result"
    }
   ],
   "source": [
    "X = np.load('/data/zonghua/satellite/Final/Step_1_Prediction/my_data/part1_up_and_part2_as_train_data.npy', 'r')\n",
    "y = np.load('/data/zonghua/satellite/Final/Step_1_Prediction/my_data/part1_up_and_part2_as_train_label.npy', 'r')\n",
    "X.shape, y.shape"
   ]
  },
  {
   "cell_type": "code",
   "execution_count": 11,
   "metadata": {
    "collapsed": true
   },
   "outputs": [],
   "source": [
    "X_train = np.concatenate([X_train, X], axis=0)\n",
    "y_train = np.concatenate([y_train, y], axis=0)"
   ]
  },
  {
   "cell_type": "code",
   "execution_count": 12,
   "metadata": {
    "collapsed": false
   },
   "outputs": [
    {
     "data": {
      "text/plain": [
       "((48238, 112, 112, 8), (48238, 112, 112, 1))"
      ]
     },
     "execution_count": 12,
     "metadata": {},
     "output_type": "execute_result"
    }
   ],
   "source": [
    "X_train.shape, y_train.shape"
   ]
  },
  {
   "cell_type": "code",
   "execution_count": 13,
   "metadata": {
    "collapsed": true
   },
   "outputs": [],
   "source": [
    "np.save('/data/zonghua/satellite/Final/Step_1_Prediction/train_data', X_train)\n",
    "np.save('/data/zonghua/satellite/Final/Step_1_Prediction/train_label', y_train)"
   ]
  },
  {
   "cell_type": "code",
   "execution_count": null,
   "metadata": {
    "collapsed": true
   },
   "outputs": [],
   "source": []
  }
 ],
 "metadata": {
  "kernelspec": {
   "display_name": "Python 3",
   "language": "python",
   "name": "python3"
  },
  "language_info": {
   "codemirror_mode": {
    "name": "ipython",
    "version": 3
   },
   "file_extension": ".py",
   "mimetype": "text/x-python",
   "name": "python",
   "nbconvert_exporter": "python",
   "pygments_lexer": "ipython3",
   "version": "3.5.2"
  }
 },
 "nbformat": 4,
 "nbformat_minor": 1
}
