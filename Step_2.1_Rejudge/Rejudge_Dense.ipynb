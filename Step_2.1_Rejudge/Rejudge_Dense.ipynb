{
 "cells": [
  {
   "cell_type": "code",
   "execution_count": 1,
   "metadata": {
    "collapsed": false
   },
   "outputs": [
    {
     "name": "stderr",
     "output_type": "stream",
     "text": [
      "/usr/local/lib/python3.5/dist-packages/h5py/__init__.py:36: FutureWarning: Conversion of the second argument of issubdtype from `float` to `np.floating` is deprecated. In future, it will be treated as `np.float64 == np.dtype(float).type`.\n",
      "  from ._conv import register_converters as _register_converters\n"
     ]
    }
   ],
   "source": [
    "from collections import defaultdict\n",
    "import tensorflow as tf\n",
    "import numpy as np\n",
    "import tflearn\n",
    "import matplotlib.pyplot as plt\n",
    "%matplotlib inline\n",
    "plt.rcParams[\"figure.figsize\"] = (20, 10)\n",
    "import cv2\n",
    "from shapely.geometry import MultiPolygon, Polygon\n",
    "import shapely.wkt\n",
    "import shapely.affinity\n",
    "import tifffile as tiff\n",
    "import sys\n",
    "import sklearn\n",
    "import time\n",
    "import PIL\n",
    "from scipy import misc\n",
    "import image_tool"
   ]
  },
  {
   "cell_type": "code",
   "execution_count": 2,
   "metadata": {
    "collapsed": true
   },
   "outputs": [],
   "source": [
    "X_train = np.load('my_data/new_data.npy', 'r')\n",
    "y_train = np.load('my_data/new_label.npy', 'r')\n",
    "y_train = 1. - y_train"
   ]
  },
  {
   "cell_type": "code",
   "execution_count": 3,
   "metadata": {
    "collapsed": false
   },
   "outputs": [
    {
     "data": {
      "text/plain": [
       "((2650, 112, 112, 8), (2650, 112, 112, 1))"
      ]
     },
     "execution_count": 3,
     "metadata": {},
     "output_type": "execute_result"
    }
   ],
   "source": [
    "X_train.shape, y_train.shape"
   ]
  },
  {
   "cell_type": "code",
   "execution_count": null,
   "metadata": {
    "collapsed": true
   },
   "outputs": [],
   "source": []
  },
  {
   "cell_type": "code",
   "execution_count": 2,
   "metadata": {
    "collapsed": false
   },
   "outputs": [],
   "source": [
    "def bn_relu_conv_concat(bottom, training, name, filters=12, stride=(1, 1), activation=tf.nn.relu):\n",
    "    with tf.variable_scope(\"dense_layer_{}\".format(name)):\n",
    "        net = tf.layers.batch_normalization(bottom, training=training, name='bn_dense_{}'.format(name))\n",
    "        net = activation(net, name='relu_dense_{}'.format(name))\n",
    "        net = tf.layers.conv2d(net, filters, (3, 3), strides=stride, activation=None, padding='same', name='conv_dense_{}'.format(name))\n",
    "        net = tf.concat([net, bottom], axis=3, name='concat_dense_{}'.format(name))\n",
    "        return net\n",
    "\n",
    "def transition(bottom, training, name, stride=(1, 1), activation=tf.nn.relu, pool=True):\n",
    "    with tf.variable_scope(\"transition_layer_{}\".format(name)):\n",
    "        filters = bottom.get_shape().as_list()[3]\n",
    "        net = tf.layers.batch_normalization(bottom, training=training, name='bn_transition_{}'.format(name))\n",
    "        base = activation(net, name='relu_transition_{}'.format(name))\n",
    "        net = tf.layers.conv2d(base, filters, (1, 1), strides=stride, activation=None, padding='same', name='conv_transition_{}'.format(name))\n",
    "        if pool:\n",
    "            net = tf.layers.average_pooling2d(net, (2, 2), strides=(2, 2), name=\"pool_{}\".format(name))\n",
    "        return base, net\n",
    "\n",
    "def upsampling_2D(tensor, name, size=(2, 2)):\n",
    "    H, W, _ = tensor.get_shape().as_list()[1:]\n",
    "\n",
    "    H_multi, W_multi = size\n",
    "    target_H = H * H_multi\n",
    "    target_W = W * W_multi\n",
    "\n",
    "    return tf.image.resize_nearest_neighbor(tensor, (target_H, target_W), name=\"upsample_{}\".format(name))\n",
    "\n",
    "def up_sample_conv(net, filters, strides, training, name, activation=tf.nn.relu):\n",
    "    with tf.variable_scope(\"up_sample_{}\".format(name)):\n",
    "        net = tf.layers.conv2d(net, filters, (1, 1), activation=activation, padding=\"same\", name=\"up_conv\")\n",
    "        if strides != 1:\n",
    "            net = upsampling_2D(net, name, size=(strides, strides))\n",
    "        with tf.variable_scope(\"conv_1\"):\n",
    "            conv_1 = tf.layers.conv2d(net, 1, (3, 3), activation=None, padding=\"same\", name=\"conv\")\n",
    "            net = tf.layers.batch_normalization(conv_1, training=training, name=\"bn\")\n",
    "            net = activation(net, name=\"relu\")\n",
    "        with tf.variable_scope(\"conv_2\"):\n",
    "            conv_1 = tf.layers.conv2d(net, 1, (3, 3), activation=None, padding=\"same\", name=\"conv\")\n",
    "            net = tf.layers.batch_normalization(conv_1, training=training, name=\"bn\")\n",
    "            net = activation(net, name=\"relu\")\n",
    "        net = tf.layers.conv2d(net, 1,  [1, 1], activation=None, name=\"Final\")\n",
    "        return net\n",
    "\n",
    "def dense_net(X, training):\n",
    "    with tf.variable_scope(\"Preprocessing\"):\n",
    "        net = X * 2 - 1\n",
    "        net = tf.layers.conv2d(net, 8, (1, 1), name=\"color_space1_adjust\")\n",
    "    dsn1 = tf.layers.conv2d(net, 16, (7, 7), padding='same', name='first_conv', activation=tf.nn.relu)\n",
    "    net = tf.layers.max_pooling2d(dsn1, 3, strides=2, padding='same', name='first_pool')\n",
    "    \n",
    "    with tf.variable_scope(\"dense_block_1\"):\n",
    "        for i in range(0, 6):\n",
    "            net = bn_relu_conv_concat(net, training, i)\n",
    "            \n",
    "    dsn2, net = transition(net, training, 101)\n",
    "    \n",
    "    with tf.variable_scope(\"dense_block_2\"):\n",
    "        for i in range(8, 20):\n",
    "            net = bn_relu_conv_concat(net, training, i)\n",
    "            \n",
    "    dsn3, net = transition(net, training, 102)\n",
    "    \n",
    "    with tf.variable_scope(\"dense_block_3\"):\n",
    "        for i in range(20, 48):\n",
    "            net = bn_relu_conv_concat(net, training, i)\n",
    "            \n",
    "    dsn4, net = transition(net, training, 103)\n",
    "    \n",
    "    with tf.variable_scope(\"dense_block_4\"):\n",
    "        for i in range(48, 64):\n",
    "            net = bn_relu_conv_concat(net, training, i)\n",
    "            \n",
    "    dsn5, net = transition(net, training, 104)\n",
    "    \n",
    "    return dsn1, dsn2, dsn3, dsn4, dsn5\n",
    "    \n",
    "def make_hed(X, training):\n",
    "    dsn1, dsn2, dsn3, dsn4, dsn5 = dense_net(X, training)\n",
    "    \n",
    "    dsn1 = up_sample_conv(dsn1, 16, 1, training, \"1\")\n",
    "    dsn2 = up_sample_conv(dsn2, 32, 2, training, \"2\")\n",
    "    dsn3 = up_sample_conv(dsn3, 64, 4, training, \"3\")\n",
    "    dsn4 = up_sample_conv(dsn4, 128, 8, training, \"4\")\n",
    "    dsn5 = up_sample_conv(dsn5, 256, 16, training, \"5\")\n",
    "    \n",
    "    dsn = tf.concat([dsn1, dsn2, dsn3, dsn4, dsn5], axis=3, name='concat')\n",
    "    dsn = tf.reshape(dsn, [-1, 112, 112, 5])\n",
    "    dsn = tf.layers.conv2d(dsn, 1, (1, 1), name='output', activation=None, padding='same')\n",
    "\n",
    "    return dsn1, dsn2, dsn3, dsn4, dsn5, dsn\n",
    "\n",
    "def IOU_loss(y_pred, y_true):\n",
    "    y_pred = tf.round(1. - y_pred)\n",
    "    y_true = tf.round(1. - y_true)\n",
    "    y_pred = tf.cast(y_pred, tf.float32)\n",
    "    y_true = tf.cast(y_true, tf.float32)\n",
    "    \n",
    "    H, W, _ = y_pred.get_shape().as_list()[1:]\n",
    "    pred_flat = tf.reshape(y_pred, [-1, H * W])\n",
    "    true_flat = tf.reshape(y_true, [-1, H * W])\n",
    "    intersection = 2 * tf.reduce_sum(pred_flat * true_flat, axis=1) + 1e-12\n",
    "    denominator = tf.reduce_sum(pred_flat, axis=1) + tf.reduce_sum(true_flat, axis=1) + 1e-7\n",
    "\n",
    "    return tf.reduce_mean(intersection / denominator)\n",
    "\n",
    "def IOU_no_classified(y_pred, y_true):\n",
    "    y_pred = 1. - y_pred\n",
    "    y_true = 1. - y_true\n",
    "    \n",
    "    H, W, _ = y_pred.get_shape().as_list()[1:]\n",
    "    pred_flat = tf.reshape(y_pred, [-1, H * W])\n",
    "    true_flat = tf.reshape(y_true, [-1, H * W])\n",
    "    intersection = 2 * tf.reduce_sum(pred_flat * true_flat, axis=1) + 1e-12\n",
    "    denominator = tf.reduce_sum(pred_flat, axis=1) + tf.reduce_sum(true_flat, axis=1) + 1e-7\n",
    "\n",
    "    return tf.reduce_mean(intersection / denominator)\n",
    "\n",
    "def class_balanced_sigmoid_cross_entropy(y_true, y_pred):\n",
    "    y = tf.cast(y_true, tf.float32)\n",
    "    \n",
    "    count_neg = tf.reduce_sum(1. - y) + 1\n",
    "    count_pos = tf.reduce_sum(y) + 1\n",
    "    beta = count_neg / (count_neg + count_pos + 2)\n",
    "    \n",
    "    pos_weight = beta / (1 - beta)\n",
    "    cost = tf.nn.weighted_cross_entropy_with_logits(y, y_pred, pos_weight)\n",
    "    cost = tf.reduce_mean(cost * (1 - beta))\n",
    "    \n",
    "    return cost"
   ]
  },
  {
   "cell_type": "code",
   "execution_count": 3,
   "metadata": {
    "collapsed": true
   },
   "outputs": [],
   "source": [
    "tf.reset_default_graph()\n",
    "config = tf.ConfigProto()\n",
    "config.gpu_options.allow_growth = True\n",
    "config.allow_soft_placement=True\n",
    "sess = tf.Session(config=config)\n",
    "with tf.device(\"/gpu:7\"):\n",
    "    global_step_tensor = tf.Variable(1, trainable=False, name='global_step')\n",
    "    with tf.variable_scope(\"X_Input_Layer\"):\n",
    "        X_layer = tf.placeholder(shape=[None, 112, 112, 8], dtype=tf.float32, name=\"X_layer\")\n",
    "    with tf.variable_scope(\"Y_Input_Layer\"):\n",
    "        y_layer = tf.placeholder(shape=[None, 112, 112, 1], dtype=tf.float32, name=\"y_layer\")\n",
    "    with tf.variable_scope(\"Mode_Layer\"):\n",
    "        trainning_mode = tf.placeholder(tf.bool, name=\"Mode\")\n",
    "    d1, d2, d3, d4, d5, pred_not_sigmoid = make_hed(X_layer, trainning_mode)\n",
    "    pred = tf.nn.sigmoid(pred_not_sigmoid)\n",
    "    tf.summary.image(\"Predicted_Mask\", pred)\n",
    "    X_layer_2015 = X_layer[:, :, :, :3]\n",
    "    X_layer_2017 = X_layer[:, :, :, 4:7]\n",
    "    tf.summary.image(\"2015\", X_layer_2015)\n",
    "    tf.summary.image(\"2017\", X_layer_2017)\n",
    "    tf.summary.image(\"Label\", y_layer)\n",
    "    \n",
    "    with tf.variable_scope(\"Accuracy\"):\n",
    "        pred_int = tf.cast(tf.round(pred, name=\"round_pred\"), dtype=tf.int32, name=\"cast_pred\")\n",
    "        y_int = tf.cast(tf.round(y_layer, name=\"round_y\"), dtype=tf.int32, name=\"cast_y\")\n",
    "        acc = tf.contrib.metrics.accuracy(y_int, pred_int)\n",
    "        tf.summary.scalar(\"Accuracy\", acc)\n",
    "        \n",
    "    with tf.variable_scope(\"Loss\"):\n",
    "        loss = class_balanced_sigmoid_cross_entropy(y_layer, pred_not_sigmoid)\n",
    "        tf.summary.scalar(\"Loss\", loss)\n",
    "    \n",
    "    with tf.variable_scope(\"IOU\"):\n",
    "        IOU_op = IOU_loss(pred, y_layer)\n",
    "        tf.summary.scalar(\"IOU\", IOU_op)\n",
    "        \n",
    "    with tf.variable_scope(\"IOU_no_classified\"):\n",
    "        IOU_op_no_class = IOU_no_classified(pred, y_layer)\n",
    "        tf.summary.scalar(\"IOU_no_classified\", IOU_op_no_class)\n",
    "        \n",
    "    summary_op = tf.summary.merge_all()\n",
    "    \n",
    "    with tf.variable_scope(\"Test_Summary_INPUT\"):\n",
    "        test_IOU_input = tf.placeholder(dtype=tf.float32, name=\"Summary_INPUT_IOU\")\n",
    "        test_IOU_no_class_input = tf.placeholder(dtype=tf.float32, name=\"Summary_INPUT_IOU_NO_CLASSIFY\")\n",
    "        test_acc_input = tf.placeholder(dtype=tf.float32, name=\"Summary_INPUT_Acc\")\n",
    "        test_loss_input = tf.placeholder(dtype=tf.float32, name=\"Summary_INPUT_Loss\")\n",
    "    test_summary_IOU_op = tf.summary.scalar(\"epoch/IOU\", test_IOU_input)\n",
    "    test_summary_IOU_op_no_classified = tf.summary.scalar(\"epoch/IOU_no_classified\", test_IOU_no_class_input)\n",
    "    test_summary_acc_op = tf.summary.scalar(\"epoch/Accuracy\", test_acc_input)\n",
    "    test_summary_loss_op = tf.summary.scalar(\"epoch/Loss\", test_loss_input)\n",
    "\n",
    "    lr = tf.placeholder(tf.float32, name='Learning_Rate')\n",
    "    choose_momentum = tf.placeholder(tf.int32, name='Choose_Optimizer')\n",
    "    update_ops = tf.get_collection(tf.GraphKeys.UPDATE_OPS)\n",
    "    with tf.control_dependencies(update_ops):\n",
    "        global_step = tf.train.get_global_step()\n",
    "        if choose_momentum == 1:\n",
    "            train_step = tf.train.MomentumOptimizer(learning_rate=lr, momentum=0.9).minimize(loss, global_step=global_step)\n",
    "        else:\n",
    "            train_step = tf.train.AdamOptimizer().minimize(loss, global_step=global_step)"
   ]
  },
  {
   "cell_type": "code",
   "execution_count": 6,
   "metadata": {
    "collapsed": true
   },
   "outputs": [],
   "source": [
    "!rm -rf tmp/Dense_HED/log_train\n",
    "!rm -rf tmp/Dense_HED/log_test"
   ]
  },
  {
   "cell_type": "code",
   "execution_count": 7,
   "metadata": {
    "collapsed": true
   },
   "outputs": [],
   "source": [
    "train_summary_writer = tf.summary.FileWriter(\"tmp/Dense_HED/log_train\", sess.graph)\n",
    "test_summary_writer  = tf.summary.FileWriter(\"tmp/Dense_HED/log_test\", sess.graph)"
   ]
  },
  {
   "cell_type": "code",
   "execution_count": 4,
   "metadata": {
    "collapsed": false,
    "scrolled": true
   },
   "outputs": [
    {
     "name": "stdout",
     "output_type": "stream",
     "text": [
      "INFO:tensorflow:Restoring parameters from ../Step_1_Prediction/my_model/Dense_HED/-121\n"
     ]
    },
    {
     "data": {
      "text/plain": [
       "183977"
      ]
     },
     "execution_count": 4,
     "metadata": {},
     "output_type": "execute_result"
    }
   ],
   "source": [
    "# sess.run(tf.global_variables_initializer())\n",
    "saver = tf.train.Saver()\n",
    "saver.restore(sess, \"../Step_1_Prediction/my_model/Dense_HED/-121\")\n",
    "tf.train.global_step(sess, global_step_tensor)"
   ]
  },
  {
   "cell_type": "code",
   "execution_count": 5,
   "metadata": {
    "collapsed": true
   },
   "outputs": [],
   "source": [
    "def random_augmentation(imges, labels):\n",
    "    au_images = []\n",
    "    au_labels = []\n",
    "    for i in range(len(imges)):\n",
    "        img_tmp = np.copy(imges[i])\n",
    "        label_tmp = np.copy(labels[i])\n",
    "        rand_flip = np.random.randint(0, 4)\n",
    "        rand_rotat = np.random.randint(0, 4)\n",
    "        rand_change = np.random.randint(0, 2)\n",
    "        if rand_flip != 3:\n",
    "            img_tmp = cv2.flip(img_tmp, rand_flip - 1)\n",
    "            label_tmp = cv2.flip(label_tmp, rand_flip - 1)\n",
    "        M = cv2.getRotationMatrix2D((56, 56), rand_rotat*90, 1.0)\n",
    "        img_tmp = cv2.warpAffine(img_tmp, M, (112, 112))\n",
    "        label_tmp = cv2.warpAffine(label_tmp, M, (112, 112))\n",
    "        if rand_change == 1:\n",
    "            mean1 = np.mean(img_tmp[:, :, :4])\n",
    "            mean2 = np.mean(img_tmp[:, :, 4:])\n",
    "            rand_std1 = np.random.ranf() * 0.4 + 0.8\n",
    "            rand_std2 = np.random.ranf() * 0.4 + 0.8\n",
    "            rand_mean1 = (np.random.ranf() * 0.4 - 0.2) * mean1\n",
    "            rand_mean2 = (np.random.ranf() * 0.4 - 0.2) * mean2\n",
    "            img_tmp[:, :, :4] = (img_tmp[:, :, :4] * rand_std1 + rand_mean1).clip(0, 1)\n",
    "            img_tmp[:, :, 4:] = (img_tmp[:, :, 4:] * rand_std2 + rand_mean2).clip(0, 1)\n",
    "        au_images.append(img_tmp)\n",
    "        au_labels.append(label_tmp)\n",
    "    au_images = np.asarray(au_images)\n",
    "    au_labels = np.asarray(au_labels).reshape(-1, 112, 112, 1)\n",
    "    return au_images, au_labels"
   ]
  },
  {
   "cell_type": "code",
   "execution_count": 16,
   "metadata": {
    "collapsed": false,
    "scrolled": true
   },
   "outputs": [
    {
     "name": "stdout",
     "output_type": "stream",
     "text": [
      "Training: [=================================================> ], 99%, 2624/2650, IOU:0.78, IOU_no:0.71, Accuracy:0.94, Loss:0.04, 157s\n",
      "EPOCH 0, IOU: 0.75, IOU_no:0.67, Accuracy: 0.93, Loss: 103.11\n",
      "Training: [=================================================> ], 99%, 2624/2650, IOU:0.63, IOU_no:0.56, Accuracy:0.92, Loss:0.03, 395s\n",
      "EPOCH 1, IOU: 0.73, IOU_no:0.66, Accuracy: 0.93, Loss: 103.02\n",
      "Training: [=================================================> ], 99%, 2624/2650, IOU:0.79, IOU_no:0.72, Accuracy:0.94, Loss:0.04, 678s\n",
      "EPOCH 2, IOU: 0.75, IOU_no:0.67, Accuracy: 0.93, Loss: 104.14\n",
      "Training: [=================================================> ], 99%, 2624/2650, IOU:0.84, IOU_no:0.77, Accuracy:0.94, Loss:0.04, 946s\n",
      "EPOCH 3, IOU: 0.75, IOU_no:0.68, Accuracy: 0.93, Loss: 103.52\n",
      "Training: [=================================================> ], 99%, 2624/2650, IOU:0.69, IOU_no:0.61, Accuracy:0.94, Loss:0.04, 1156s\n",
      "EPOCH 4, IOU: 0.74, IOU_no:0.67, Accuracy: 0.93, Loss: 102.80\n",
      "Training: [=================================================> ], 99%, 2624/2650, IOU:0.64, IOU_no:0.59, Accuracy:0.90, Loss:0.04, 1371s\n",
      "EPOCH 5, IOU: 0.74, IOU_no:0.67, Accuracy: 0.93, Loss: 104.04\n",
      "Training: [=====================================>             ], 74%, 1984/2650, IOU:0.74, IOU_no:0.69, Accuracy:0.91, Loss:0.05, 1509s"
     ]
    },
    {
     "ename": "KeyboardInterrupt",
     "evalue": "",
     "output_type": "error",
     "traceback": [
      "\u001b[0;31m---------------------------------------------------------------------------\u001b[0m",
      "\u001b[0;31mKeyboardInterrupt\u001b[0m                         Traceback (most recent call last)",
      "\u001b[0;32m<ipython-input-16-d33d336b8da1>\u001b[0m in \u001b[0;36m<module>\u001b[0;34m()\u001b[0m\n\u001b[1;32m     17\u001b[0m             \u001b[0;34m[\u001b[0m\u001b[0mtrain_step\u001b[0m\u001b[0;34m,\u001b[0m \u001b[0mIOU_op\u001b[0m\u001b[0;34m,\u001b[0m \u001b[0mIOU_op_no_class\u001b[0m\u001b[0;34m,\u001b[0m \u001b[0macc\u001b[0m\u001b[0;34m,\u001b[0m \u001b[0mloss\u001b[0m\u001b[0;34m,\u001b[0m \u001b[0msummary_op\u001b[0m\u001b[0;34m,\u001b[0m \u001b[0mglobal_step\u001b[0m\u001b[0;34m]\u001b[0m\u001b[0;34m,\u001b[0m\u001b[0;34m\u001b[0m\u001b[0m\n\u001b[1;32m     18\u001b[0m             feed_dict = {X_layer: X_batch, y_layer: y_batch, trainning_mode: True,\\\n\u001b[0;32m---> 19\u001b[0;31m                          lr: learning_rate, choose_momentum: momentum_optimizer})\n\u001b[0m\u001b[1;32m     20\u001b[0m         \u001b[0mtrain_IOU\u001b[0m \u001b[0;34m+=\u001b[0m \u001b[0mstep_iou\u001b[0m \u001b[0;34m*\u001b[0m \u001b[0mX_batch\u001b[0m\u001b[0;34m.\u001b[0m\u001b[0mshape\u001b[0m\u001b[0;34m[\u001b[0m\u001b[0;36m0\u001b[0m\u001b[0;34m]\u001b[0m\u001b[0;34m\u001b[0m\u001b[0m\n\u001b[1;32m     21\u001b[0m         \u001b[0mtrain_IOU_no_classified\u001b[0m \u001b[0;34m+=\u001b[0m \u001b[0mstep_iou_no_classified\u001b[0m \u001b[0;34m*\u001b[0m \u001b[0mX_batch\u001b[0m\u001b[0;34m.\u001b[0m\u001b[0mshape\u001b[0m\u001b[0;34m[\u001b[0m\u001b[0;36m0\u001b[0m\u001b[0;34m]\u001b[0m\u001b[0;34m\u001b[0m\u001b[0m\n",
      "\u001b[0;32m/usr/local/lib/python3.5/dist-packages/tensorflow/python/client/session.py\u001b[0m in \u001b[0;36mrun\u001b[0;34m(self, fetches, feed_dict, options, run_metadata)\u001b[0m\n\u001b[1;32m    787\u001b[0m     \u001b[0;32mtry\u001b[0m\u001b[0;34m:\u001b[0m\u001b[0;34m\u001b[0m\u001b[0m\n\u001b[1;32m    788\u001b[0m       result = self._run(None, fetches, feed_dict, options_ptr,\n\u001b[0;32m--> 789\u001b[0;31m                          run_metadata_ptr)\n\u001b[0m\u001b[1;32m    790\u001b[0m       \u001b[0;32mif\u001b[0m \u001b[0mrun_metadata\u001b[0m\u001b[0;34m:\u001b[0m\u001b[0;34m\u001b[0m\u001b[0m\n\u001b[1;32m    791\u001b[0m         \u001b[0mproto_data\u001b[0m \u001b[0;34m=\u001b[0m \u001b[0mtf_session\u001b[0m\u001b[0;34m.\u001b[0m\u001b[0mTF_GetBuffer\u001b[0m\u001b[0;34m(\u001b[0m\u001b[0mrun_metadata_ptr\u001b[0m\u001b[0;34m)\u001b[0m\u001b[0;34m\u001b[0m\u001b[0m\n",
      "\u001b[0;32m/usr/local/lib/python3.5/dist-packages/tensorflow/python/client/session.py\u001b[0m in \u001b[0;36m_run\u001b[0;34m(self, handle, fetches, feed_dict, options, run_metadata)\u001b[0m\n\u001b[1;32m    995\u001b[0m     \u001b[0;32mif\u001b[0m \u001b[0mfinal_fetches\u001b[0m \u001b[0;32mor\u001b[0m \u001b[0mfinal_targets\u001b[0m\u001b[0;34m:\u001b[0m\u001b[0;34m\u001b[0m\u001b[0m\n\u001b[1;32m    996\u001b[0m       results = self._do_run(handle, final_targets, final_fetches,\n\u001b[0;32m--> 997\u001b[0;31m                              feed_dict_string, options, run_metadata)\n\u001b[0m\u001b[1;32m    998\u001b[0m     \u001b[0;32melse\u001b[0m\u001b[0;34m:\u001b[0m\u001b[0;34m\u001b[0m\u001b[0m\n\u001b[1;32m    999\u001b[0m       \u001b[0mresults\u001b[0m \u001b[0;34m=\u001b[0m \u001b[0;34m[\u001b[0m\u001b[0;34m]\u001b[0m\u001b[0;34m\u001b[0m\u001b[0m\n",
      "\u001b[0;32m/usr/local/lib/python3.5/dist-packages/tensorflow/python/client/session.py\u001b[0m in \u001b[0;36m_do_run\u001b[0;34m(self, handle, target_list, fetch_list, feed_dict, options, run_metadata)\u001b[0m\n\u001b[1;32m   1130\u001b[0m     \u001b[0;32mif\u001b[0m \u001b[0mhandle\u001b[0m \u001b[0;32mis\u001b[0m \u001b[0;32mNone\u001b[0m\u001b[0;34m:\u001b[0m\u001b[0;34m\u001b[0m\u001b[0m\n\u001b[1;32m   1131\u001b[0m       return self._do_call(_run_fn, self._session, feed_dict, fetch_list,\n\u001b[0;32m-> 1132\u001b[0;31m                            target_list, options, run_metadata)\n\u001b[0m\u001b[1;32m   1133\u001b[0m     \u001b[0;32melse\u001b[0m\u001b[0;34m:\u001b[0m\u001b[0;34m\u001b[0m\u001b[0m\n\u001b[1;32m   1134\u001b[0m       return self._do_call(_prun_fn, self._session, handle, feed_dict,\n",
      "\u001b[0;32m/usr/local/lib/python3.5/dist-packages/tensorflow/python/client/session.py\u001b[0m in \u001b[0;36m_do_call\u001b[0;34m(self, fn, *args)\u001b[0m\n\u001b[1;32m   1137\u001b[0m   \u001b[0;32mdef\u001b[0m \u001b[0m_do_call\u001b[0m\u001b[0;34m(\u001b[0m\u001b[0mself\u001b[0m\u001b[0;34m,\u001b[0m \u001b[0mfn\u001b[0m\u001b[0;34m,\u001b[0m \u001b[0;34m*\u001b[0m\u001b[0margs\u001b[0m\u001b[0;34m)\u001b[0m\u001b[0;34m:\u001b[0m\u001b[0;34m\u001b[0m\u001b[0m\n\u001b[1;32m   1138\u001b[0m     \u001b[0;32mtry\u001b[0m\u001b[0;34m:\u001b[0m\u001b[0;34m\u001b[0m\u001b[0m\n\u001b[0;32m-> 1139\u001b[0;31m       \u001b[0;32mreturn\u001b[0m \u001b[0mfn\u001b[0m\u001b[0;34m(\u001b[0m\u001b[0;34m*\u001b[0m\u001b[0margs\u001b[0m\u001b[0;34m)\u001b[0m\u001b[0;34m\u001b[0m\u001b[0m\n\u001b[0m\u001b[1;32m   1140\u001b[0m     \u001b[0;32mexcept\u001b[0m \u001b[0merrors\u001b[0m\u001b[0;34m.\u001b[0m\u001b[0mOpError\u001b[0m \u001b[0;32mas\u001b[0m \u001b[0me\u001b[0m\u001b[0;34m:\u001b[0m\u001b[0;34m\u001b[0m\u001b[0m\n\u001b[1;32m   1141\u001b[0m       \u001b[0mmessage\u001b[0m \u001b[0;34m=\u001b[0m \u001b[0mcompat\u001b[0m\u001b[0;34m.\u001b[0m\u001b[0mas_text\u001b[0m\u001b[0;34m(\u001b[0m\u001b[0me\u001b[0m\u001b[0;34m.\u001b[0m\u001b[0mmessage\u001b[0m\u001b[0;34m)\u001b[0m\u001b[0;34m\u001b[0m\u001b[0m\n",
      "\u001b[0;32m/usr/local/lib/python3.5/dist-packages/tensorflow/python/client/session.py\u001b[0m in \u001b[0;36m_run_fn\u001b[0;34m(session, feed_dict, fetch_list, target_list, options, run_metadata)\u001b[0m\n\u001b[1;32m   1119\u001b[0m         return tf_session.TF_Run(session, options,\n\u001b[1;32m   1120\u001b[0m                                  \u001b[0mfeed_dict\u001b[0m\u001b[0;34m,\u001b[0m \u001b[0mfetch_list\u001b[0m\u001b[0;34m,\u001b[0m \u001b[0mtarget_list\u001b[0m\u001b[0;34m,\u001b[0m\u001b[0;34m\u001b[0m\u001b[0m\n\u001b[0;32m-> 1121\u001b[0;31m                                  status, run_metadata)\n\u001b[0m\u001b[1;32m   1122\u001b[0m \u001b[0;34m\u001b[0m\u001b[0m\n\u001b[1;32m   1123\u001b[0m     \u001b[0;32mdef\u001b[0m \u001b[0m_prun_fn\u001b[0m\u001b[0;34m(\u001b[0m\u001b[0msession\u001b[0m\u001b[0;34m,\u001b[0m \u001b[0mhandle\u001b[0m\u001b[0;34m,\u001b[0m \u001b[0mfeed_dict\u001b[0m\u001b[0;34m,\u001b[0m \u001b[0mfetch_list\u001b[0m\u001b[0;34m)\u001b[0m\u001b[0;34m:\u001b[0m\u001b[0;34m\u001b[0m\u001b[0m\n",
      "\u001b[0;31mKeyboardInterrupt\u001b[0m: "
     ]
    }
   ],
   "source": [
    "batch_size = 32\n",
    "start_time = time.time()\n",
    "learning_rate = 0.0001\n",
    "change_step = 16\n",
    "momentum_optimizer = 1\n",
    "adam_step = 0\n",
    "\n",
    "for i in range(0, 300):\n",
    "    train_IOU = 0.0\n",
    "    train_IOU_no_classified = 0.0\n",
    "    train_accuary = 0.0\n",
    "    train_loss = 0.0\n",
    "    rand_indexes = np.random.choice(len(X_train), len(X_train), replace = False)\n",
    "    for j in range(0, len(X_train), batch_size):\n",
    "        X_batch, y_batch = random_augmentation(X_train[rand_indexes[j: j + batch_size]], y_train[rand_indexes[j: j + batch_size]])\n",
    "        _, step_iou, step_iou_no_classified, step_acc, step_loss, step_summary, step_value = sess.run(\n",
    "            [train_step, IOU_op, IOU_op_no_class, acc, loss, summary_op, global_step],\n",
    "            feed_dict = {X_layer: X_batch, y_layer: y_batch, trainning_mode: True,\\\n",
    "                         lr: learning_rate, choose_momentum: momentum_optimizer})\n",
    "        train_IOU += step_iou * X_batch.shape[0]\n",
    "        train_IOU_no_classified += step_iou_no_classified * X_batch.shape[0]\n",
    "        train_accuary += step_acc * X_batch.shape[0]\n",
    "        train_loss += step_loss * X_batch.shape[0]\n",
    "        train_summary_writer.add_summary(step_summary, step_value)\n",
    "\n",
    "        percents = 100 * j / len(X_train)\n",
    "        line_str = \"Training: [{0}>{1}], {2}%, {3}/{4}, IOU:{5:.2f}, IOU_no:{6:.2f}, Accuracy:{7:.2f}, Loss:{8:.2f}, {9}s\".format(\n",
    "            \"=\" * (int(percents) // 2), \" \" * (50 - int(percents) // 2),\n",
    "            int(percents), j, len(X_train), step_iou, step_iou_no_classified, step_acc, step_loss,\n",
    "            int(time.time() - start_time))\n",
    "        sys.stdout.write(\"\\r\" + line_str)\n",
    "    train_IOU /= (len(X_train))\n",
    "    train_IOU_no_classified /= (len(X_train))\n",
    "    train_accuary /= (len(X_train))\n",
    "#     train_loss /= 16\n",
    "    \n",
    "    test_IOU_summary = sess.run(test_summary_IOU_op, feed_dict={test_IOU_input: train_IOU})\n",
    "    train_summary_writer.add_summary(test_IOU_summary, i)\n",
    "    \n",
    "    test_IOU_no_classified_summary = sess.run(test_summary_IOU_op_no_classified, feed_dict={test_IOU_no_class_input: train_IOU_no_classified})\n",
    "    train_summary_writer.add_summary(test_IOU_no_classified_summary, i)\n",
    "    \n",
    "    test_acc_summary = sess.run(test_summary_acc_op, feed_dict={test_acc_input: train_accuary})\n",
    "    train_summary_writer.add_summary(test_acc_summary, i)\n",
    "    \n",
    "    test_loss_summary = sess.run(test_summary_loss_op, feed_dict={test_loss_input: train_loss})\n",
    "    train_summary_writer.add_summary(test_loss_summary, i)\n",
    "    \n",
    "    print()\n",
    "    print(\"EPOCH {0}, IOU: {1:.2f}, IOU_no:{2:.2f}, Accuracy: {3:.2f}, Loss: {4:.2f}\".format(i, train_IOU, train_IOU_no_classified, train_accuary, train_loss))\n",
    "    if i % 1 == 0:\n",
    "        saver = tf.train.Saver()\n",
    "        saver.save(sess, 'my_model/Dense_HED/', global_step=i)"
   ]
  },
  {
   "cell_type": "markdown",
   "metadata": {
    "collapsed": true
   },
   "source": []
  },
  {
   "cell_type": "code",
   "execution_count": 6,
   "metadata": {
    "collapsed": false
   },
   "outputs": [
    {
     "name": "stdout",
     "output_type": "stream",
     "text": [
      "INFO:tensorflow:Restoring parameters from my_model/Dense_HED/-4\n"
     ]
    }
   ],
   "source": [
    "saver = tf.train.Saver()\n",
    "saver.restore(sess, \"my_model/Dense_HED/-4\")"
   ]
  },
  {
   "cell_type": "code",
   "execution_count": null,
   "metadata": {
    "collapsed": true
   },
   "outputs": [],
   "source": []
  },
  {
   "cell_type": "code",
   "execution_count": 5,
   "metadata": {
    "collapsed": false
   },
   "outputs": [
    {
     "data": {
      "text/plain": [
       "(3000, 15106, 8)"
      ]
     },
     "execution_count": 5,
     "metadata": {},
     "output_type": "execute_result"
    }
   ],
   "source": [
    "# new_data = np.load('../new_data/data.npy', 'r')\n",
    "new_data = np.load('../new_data/new_data.npy', 'r')\n",
    "new_data.shape"
   ]
  },
  {
   "cell_type": "code",
   "execution_count": 6,
   "metadata": {
    "collapsed": true
   },
   "outputs": [],
   "source": [
    "# ensemble\n",
    "pre_label = np.load('../Step_2.2_Rerank/results/remove_small.npy', 'r')\n",
    "pre_label = np.copy(pre_label.reshape(3000, 15106, 1))"
   ]
  },
  {
   "cell_type": "code",
   "execution_count": 7,
   "metadata": {
    "collapsed": false
   },
   "outputs": [
    {
     "data": {
      "text/plain": [
       "((3000, 15106, 1), (3000, 15106, 8))"
      ]
     },
     "execution_count": 7,
     "metadata": {},
     "output_type": "execute_result"
    }
   ],
   "source": [
    "pre_label.shape, new_data.shape"
   ]
  },
  {
   "cell_type": "code",
   "execution_count": 8,
   "metadata": {
    "collapsed": false
   },
   "outputs": [
    {
     "name": "stdout",
     "output_type": "stream",
     "text": [
      "\r",
      "[>                                                  ], 0/498, 0%, 0.00s \r",
      "[>                                                  ], 1/498, 0%, 0.00s \r",
      "[>                                                  ], 2/498, 0%, 0.00s \r",
      "[>                                                  ], 3/498, 0%, 0.00s \r",
      "[>                                                  ], 4/498, 0%, 0.00s \r",
      "[>                                                 ], 5/498, 1%, 0.00s \r",
      "[>                                                 ], 6/498, 1%, 0.00s \r",
      "[>                                                 ], 7/498, 1%, 0.00s \r",
      "[>                                                 ], 8/498, 1%, 0.00s \r",
      "[>                                                 ], 9/498, 1%, 0.00s \r",
      "[=>                                                 ], 10/498, 2%, 0.00s \r",
      "[=>                                                 ], 11/498, 2%, 0.00s \r",
      "[=>                                                 ], 12/498, 2%, 0.00s \r",
      "[=>                                                 ], 13/498, 2%, 0.00s \r",
      "[=>                                                 ], 14/498, 2%, 0.00s \r",
      "[=>                                                ], 15/498, 3%, 0.00s \r",
      "[=>                                                ], 16/498, 3%, 0.00s \r",
      "[=>                                                ], 17/498, 3%, 0.00s \r",
      "[=>                                                ], 18/498, 3%, 0.00s \r",
      "[=>                                                ], 19/498, 3%, 0.00s \r",
      "[==>                                                ], 20/498, 4%, 0.00s \r",
      "[==>                                                ], 21/498, 4%, 0.00s \r",
      "[==>                                                ], 22/498, 4%, 0.00s \r",
      "[==>                                                ], 23/498, 4%, 0.00s \r",
      "[==>                                                ], 24/498, 4%, 0.00s \r",
      "[==>                                               ], 25/498, 5%, 0.00s \r",
      "[==>                                               ], 26/498, 5%, 0.00s \r",
      "[==>                                               ], 27/498, 5%, 0.00s \r",
      "[==>                                               ], 28/498, 5%, 0.00s \r",
      "[==>                                               ], 29/498, 5%, 0.00s \r",
      "[===>                                               ], 30/498, 6%, 0.00s \r",
      "[===>                                               ], 31/498, 6%, 0.00s \r",
      "[===>                                               ], 32/498, 6%, 0.00s \r",
      "[===>                                               ], 33/498, 6%, 0.00s \r",
      "[===>                                               ], 34/498, 6%, 0.00s \r",
      "[===>                                              ], 35/498, 7%, 0.00s \r",
      "[===>                                              ], 36/498, 7%, 0.00s \r",
      "[===>                                              ], 37/498, 7%, 0.00s \r",
      "[===>                                              ], 38/498, 7%, 0.00s \r",
      "[===>                                              ], 39/498, 7%, 0.00s \r",
      "[====>                                              ], 40/498, 8%, 0.00s \r",
      "[====>                                              ], 41/498, 8%, 0.00s \r",
      "[====>                                              ], 42/498, 8%, 0.00s \r",
      "[====>                                              ], 43/498, 8%, 0.00s \r",
      "[====>                                              ], 44/498, 8%, 0.00s \r",
      "[====>                                             ], 45/498, 9%, 0.00s \r",
      "[====>                                             ], 46/498, 9%, 0.00s \r",
      "[====>                                             ], 47/498, 9%, 0.00s \r",
      "[====>                                             ], 48/498, 9%, 0.00s \r",
      "[====>                                             ], 49/498, 9%, 0.00s \r",
      "[=====>                                             ], 50/498, 10%, 0.00s \r",
      "[=====>                                             ], 51/498, 10%, 0.00s \r",
      "[=====>                                             ], 52/498, 10%, 0.00s \r",
      "[=====>                                             ], 53/498, 10%, 0.00s \r",
      "[=====>                                             ], 54/498, 10%, 0.00s \r",
      "[=====>                                            ], 55/498, 11%, 0.00s \r",
      "[=====>                                            ], 56/498, 11%, 0.00s \r",
      "[=====>                                            ], 57/498, 11%, 0.00s \r",
      "[=====>                                            ], 58/498, 11%, 0.00s \r",
      "[=====>                                            ], 59/498, 11%, 0.00s \r",
      "[======>                                            ], 60/498, 12%, 0.00s \r",
      "[======>                                            ], 61/498, 12%, 0.00s \r",
      "[======>                                            ], 62/498, 12%, 0.00s \r",
      "[======>                                            ], 63/498, 12%, 0.00s \r",
      "[======>                                            ], 64/498, 12%, 0.00s \r",
      "[======>                                           ], 65/498, 13%, 0.00s \r",
      "[======>                                           ], 66/498, 13%, 0.00s \r",
      "[======>                                           ], 67/498, 13%, 0.00s \r",
      "[======>                                           ], 68/498, 13%, 0.00s \r",
      "[======>                                           ], 69/498, 13%, 0.00s \r",
      "[=======>                                           ], 70/498, 14%, 0.00s \r",
      "[=======>                                           ], 71/498, 14%, 0.00s \r",
      "[=======>                                           ], 72/498, 14%, 0.00s \r",
      "[=======>                                           ], 73/498, 14%, 0.00s \r",
      "[=======>                                           ], 74/498, 14%, 0.00s \r",
      "[=======>                                          ], 75/498, 15%, 0.00s \r",
      "[=======>                                          ], 76/498, 15%, 0.00s \r",
      "[=======>                                          ], 77/498, 15%, 0.00s \r",
      "[=======>                                          ], 78/498, 15%, 0.00s \r",
      "[=======>                                          ], 79/498, 15%, 0.00s \r",
      "[========>                                          ], 80/498, 16%, 0.00s \r",
      "[========>                                          ], 81/498, 16%, 0.00s \r",
      "[========>                                          ], 82/498, 16%, 0.00s \r",
      "[========>                                          ], 83/498, 16%, 0.00s \r",
      "[========>                                          ], 84/498, 16%, 0.00s \r",
      "[========>                                         ], 85/498, 17%, 0.01s \r",
      "[========>                                         ], 86/498, 17%, 0.01s \r",
      "[========>                                         ], 87/498, 17%, 0.01s \r",
      "[========>                                         ], 88/498, 17%, 0.01s \r",
      "[========>                                         ], 89/498, 17%, 0.01s \r",
      "[=========>                                         ], 90/498, 18%, 0.01s \r",
      "[=========>                                         ], 91/498, 18%, 0.01s \r",
      "[=========>                                         ], 92/498, 18%, 0.01s \r",
      "[=========>                                         ], 93/498, 18%, 0.01s \r",
      "[=========>                                         ], 94/498, 18%, 0.01s \r",
      "[=========>                                        ], 95/498, 19%, 0.01s \r",
      "[=========>                                        ], 96/498, 19%, 0.01s \r",
      "[=========>                                        ], 97/498, 19%, 0.01s \r",
      "[=========>                                        ], 98/498, 19%, 0.01s \r",
      "[=========>                                        ], 99/498, 19%, 0.01s \r",
      "[==========>                                        ], 100/498, 20%, 0.01s \r",
      "[==========>                                        ], 101/498, 20%, 0.01s \r",
      "[==========>                                        ], 102/498, 20%, 0.01s \r",
      "[==========>                                        ], 103/498, 20%, 0.01s \r",
      "[==========>                                        ], 104/498, 20%, 0.01s \r",
      "[==========>                                       ], 105/498, 21%, 0.01s \r",
      "[==========>                                       ], 106/498, 21%, 0.01s \r",
      "[==========>                                       ], 107/498, 21%, 0.01s \r",
      "[==========>                                       ], 108/498, 21%, 0.01s \r",
      "[==========>                                       ], 109/498, 21%, 0.01s \r",
      "[===========>                                       ], 110/498, 22%, 0.01s \r",
      "[===========>                                       ], 111/498, 22%, 0.01s \r",
      "[===========>                                       ], 112/498, 22%, 0.01s \r",
      "[===========>                                       ], 113/498, 22%, 0.01s \r",
      "[===========>                                       ], 114/498, 22%, 0.01s \r",
      "[===========>                                      ], 115/498, 23%, 0.01s \r",
      "[===========>                                      ], 116/498, 23%, 0.01s \r",
      "[===========>                                      ], 117/498, 23%, 0.01s \r",
      "[===========>                                      ], 118/498, 23%, 0.01s \r",
      "[===========>                                      ], 119/498, 23%, 0.01s \r",
      "[============>                                      ], 120/498, 24%, 0.01s \r",
      "[============>                                      ], 121/498, 24%, 0.01s \r",
      "[============>                                      ], 122/498, 24%, 0.01s \r",
      "[============>                                      ], 123/498, 24%, 0.01s \r",
      "[============>                                      ], 124/498, 24%, 0.01s \r",
      "[============>                                     ], 125/498, 25%, 0.01s \r",
      "[============>                                     ], 126/498, 25%, 0.01s \r",
      "[============>                                     ], 127/498, 25%, 0.01s \r",
      "[============>                                     ], 128/498, 25%, 0.01s \r",
      "[============>                                     ], 129/498, 25%, 0.01s \r",
      "[=============>                                     ], 130/498, 26%, 0.01s \r",
      "[=============>                                     ], 131/498, 26%, 0.01s \r",
      "[=============>                                     ], 132/498, 26%, 0.01s \r",
      "[=============>                                     ], 133/498, 26%, 0.01s \r",
      "[=============>                                     ], 134/498, 26%, 0.01s \r",
      "[=============>                                    ], 135/498, 27%, 0.01s \r",
      "[=============>                                    ], 136/498, 27%, 0.01s \r",
      "[=============>                                    ], 137/498, 27%, 0.01s \r",
      "[=============>                                    ], 138/498, 27%, 0.01s \r",
      "[=============>                                    ], 139/498, 27%, 0.01s \r",
      "[==============>                                    ], 140/498, 28%, 0.01s \r",
      "[==============>                                    ], 141/498, 28%, 0.01s \r",
      "[==============>                                    ], 142/498, 28%, 0.01s \r",
      "[==============>                                    ], 143/498, 28%, 0.01s \r",
      "[==============>                                    ], 144/498, 28%, 0.01s \r",
      "[==============>                                   ], 145/498, 29%, 0.01s \r",
      "[==============>                                   ], 146/498, 29%, 0.01s \r",
      "[==============>                                   ], 147/498, 29%, 0.01s \r",
      "[==============>                                   ], 148/498, 29%, 0.01s \r",
      "[==============>                                   ], 149/498, 29%, 0.01s \r",
      "[===============>                                   ], 150/498, 30%, 0.01s \r",
      "[===============>                                   ], 151/498, 30%, 0.01s \r",
      "[===============>                                   ], 152/498, 30%, 0.01s \r",
      "[===============>                                   ], 153/498, 30%, 0.01s \r",
      "[===============>                                   ], 154/498, 30%, 0.01s \r",
      "[===============>                                  ], 155/498, 31%, 0.01s \r",
      "[===============>                                  ], 156/498, 31%, 0.01s \r",
      "[===============>                                  ], 157/498, 31%, 0.01s \r",
      "[===============>                                  ], 158/498, 31%, 0.01s \r",
      "[===============>                                  ], 159/498, 31%, 0.01s \r",
      "[================>                                  ], 160/498, 32%, 0.01s \r",
      "[================>                                  ], 161/498, 32%, 0.01s \r",
      "[================>                                  ], 162/498, 32%, 0.01s \r",
      "[================>                                  ], 163/498, 32%, 0.01s \r",
      "[================>                                  ], 164/498, 32%, 0.01s \r",
      "[================>                                 ], 165/498, 33%, 0.01s \r",
      "[================>                                 ], 166/498, 33%, 0.01s \r",
      "[================>                                 ], 167/498, 33%, 0.01s \r",
      "[================>                                 ], 168/498, 33%, 0.01s \r",
      "[================>                                 ], 169/498, 33%, 0.01s \r",
      "[=================>                                 ], 170/498, 34%, 0.01s \r",
      "[=================>                                 ], 171/498, 34%, 0.01s \r",
      "[=================>                                 ], 172/498, 34%, 0.01s \r",
      "[=================>                                 ], 173/498, 34%, 0.01s \r",
      "[=================>                                 ], 174/498, 34%, 0.01s \r",
      "[=================>                                ], 175/498, 35%, 0.01s \r",
      "[=================>                                ], 176/498, 35%, 0.01s \r",
      "[=================>                                ], 177/498, 35%, 0.01s \r",
      "[=================>                                ], 178/498, 35%, 0.01s \r",
      "[=================>                                ], 179/498, 35%, 0.01s \r",
      "[==================>                                ], 180/498, 36%, 0.01s \r",
      "[==================>                                ], 181/498, 36%, 0.01s \r",
      "[==================>                                ], 182/498, 36%, 0.01s \r",
      "[==================>                                ], 183/498, 36%, 0.01s \r",
      "[==================>                                ], 184/498, 36%, 0.01s \r",
      "[==================>                               ], 185/498, 37%, 0.01s \r",
      "[==================>                               ], 186/498, 37%, 0.01s \r",
      "[==================>                               ], 187/498, 37%, 0.01s \r",
      "[==================>                               ], 188/498, 37%, 0.01s \r",
      "[==================>                               ], 189/498, 37%, 0.01s \r",
      "[===================>                               ], 190/498, 38%, 0.01s \r",
      "[===================>                               ], 191/498, 38%, 0.01s \r",
      "[===================>                               ], 192/498, 38%, 0.01s \r",
      "[===================>                               ], 193/498, 38%, 0.01s \r",
      "[===================>                               ], 194/498, 38%, 0.01s \r",
      "[===================>                              ], 195/498, 39%, 0.01s \r",
      "[===================>                              ], 196/498, 39%, 0.01s \r",
      "[===================>                              ], 197/498, 39%, 0.01s \r",
      "[===================>                              ], 198/498, 39%, 0.01s \r",
      "[===================>                              ], 199/498, 39%, 0.01s \r",
      "[====================>                              ], 200/498, 40%, 0.01s \r",
      "[====================>                              ], 201/498, 40%, 0.01s \r",
      "[====================>                              ], 202/498, 40%, 0.01s \r",
      "[====================>                              ], 203/498, 40%, 0.01s \r",
      "[====================>                              ], 204/498, 40%, 0.01s \r",
      "[====================>                             ], 205/498, 41%, 0.01s \r",
      "[====================>                             ], 206/498, 41%, 0.01s \r",
      "[====================>                             ], 207/498, 41%, 0.01s \r",
      "[====================>                             ], 208/498, 41%, 0.01s \r",
      "[====================>                             ], 209/498, 41%, 0.01s \r",
      "[=====================>                             ], 210/498, 42%, 0.01s \r",
      "[=====================>                             ], 211/498, 42%, 0.01s \r",
      "[=====================>                             ], 212/498, 42%, 0.01s \r",
      "[=====================>                             ], 213/498, 42%, 0.01s \r",
      "[=====================>                             ], 214/498, 42%, 0.01s \r",
      "[=====================>                            ], 215/498, 43%, 0.01s \r",
      "[=====================>                            ], 216/498, 43%, 0.01s \r",
      "[=====================>                            ], 217/498, 43%, 0.01s \r",
      "[=====================>                            ], 218/498, 43%, 0.01s \r",
      "[=====================>                            ], 219/498, 43%, 0.01s \r",
      "[======================>                            ], 220/498, 44%, 0.01s \r",
      "[======================>                            ], 221/498, 44%, 0.01s \r",
      "[======================>                            ], 222/498, 44%, 0.01s \r",
      "[======================>                            ], 223/498, 44%, 0.01s \r",
      "[======================>                            ], 224/498, 44%, 0.01s \r",
      "[======================>                           ], 225/498, 45%, 0.01s \r",
      "[======================>                           ], 226/498, 45%, 0.01s \r",
      "[======================>                           ], 227/498, 45%, 0.01s \r",
      "[======================>                           ], 228/498, 45%, 0.01s \r",
      "[======================>                           ], 229/498, 45%, 0.01s \r",
      "[=======================>                           ], 230/498, 46%, 0.01s \r",
      "[=======================>                           ], 231/498, 46%, 0.01s \r",
      "[=======================>                           ], 232/498, 46%, 0.01s \r",
      "[=======================>                           ], 233/498, 46%, 0.01s \r",
      "[=======================>                           ], 234/498, 46%, 0.01s \r",
      "[=======================>                          ], 235/498, 47%, 0.01s \r",
      "[=======================>                          ], 236/498, 47%, 0.01s \r",
      "[=======================>                          ], 237/498, 47%, 0.01s \r",
      "[=======================>                          ], 238/498, 47%, 0.01s \r",
      "[=======================>                          ], 239/498, 47%, 0.01s \r",
      "[========================>                          ], 240/498, 48%, 0.01s \r",
      "[========================>                          ], 241/498, 48%, 0.01s \r",
      "[========================>                          ], 242/498, 48%, 0.01s \r",
      "[========================>                          ], 243/498, 48%, 0.01s \r",
      "[========================>                          ], 244/498, 48%, 0.01s \r",
      "[========================>                         ], 245/498, 49%, 0.01s \r",
      "[========================>                         ], 246/498, 49%, 0.01s \r",
      "[========================>                         ], 247/498, 49%, 0.01s \r",
      "[========================>                         ], 248/498, 49%, 0.01s \r",
      "[=========================>                         ], 249/498, 50%, 0.01s \r",
      "[=========================>                         ], 250/498, 50%, 0.01s \r",
      "[=========================>                         ], 251/498, 50%, 0.01s \r",
      "[=========================>                         ], 252/498, 50%, 0.01s \r",
      "[=========================>                         ], 253/498, 50%, 0.01s \r",
      "[=========================>                        ], 254/498, 51%, 0.01s \r",
      "[=========================>                        ], 255/498, 51%, 0.01s \r",
      "[=========================>                        ], 256/498, 51%, 0.01s \r",
      "[=========================>                        ], 257/498, 51%, 0.01s \r",
      "[=========================>                        ], 258/498, 51%, 0.01s \r",
      "[==========================>                        ], 259/498, 52%, 0.01s \r",
      "[==========================>                        ], 260/498, 52%, 0.01s \r",
      "[==========================>                        ], 261/498, 52%, 0.01s \r",
      "[==========================>                        ], 262/498, 52%, 0.01s \r",
      "[==========================>                        ], 263/498, 52%, 0.01s \r",
      "[==========================>                       ], 264/498, 53%, 0.01s \r",
      "[==========================>                       ], 265/498, 53%, 0.01s \r",
      "[==========================>                       ], 266/498, 53%, 0.01s \r",
      "[==========================>                       ], 267/498, 53%, 0.01s \r",
      "[==========================>                       ], 268/498, 53%, 0.01s \r",
      "[===========================>                       ], 269/498, 54%, 0.02s \r",
      "[===========================>                       ], 270/498, 54%, 0.02s \r",
      "[===========================>                       ], 271/498, 54%, 0.02s \r",
      "[===========================>                       ], 272/498, 54%, 0.02s \r",
      "[===========================>                       ], 273/498, 54%, 0.02s \r",
      "[===========================>                      ], 274/498, 55%, 0.02s \r",
      "[===========================>                      ], 275/498, 55%, 0.02s \r",
      "[===========================>                      ], 276/498, 55%, 0.02s \r",
      "[===========================>                      ], 277/498, 55%, 0.02s \r",
      "[===========================>                      ], 278/498, 55%, 0.02s \r",
      "[============================>                      ], 279/498, 56%, 0.02s \r",
      "[============================>                      ], 280/498, 56%, 0.02s \r",
      "[============================>                      ], 281/498, 56%, 0.02s \r",
      "[============================>                      ], 282/498, 56%, 0.02s \r",
      "[============================>                      ], 283/498, 56%, 0.02s \r",
      "[============================>                     ], 284/498, 57%, 0.02s \r",
      "[============================>                     ], 285/498, 57%, 0.02s \r",
      "[============================>                     ], 286/498, 57%, 0.02s \r",
      "[============================>                     ], 287/498, 57%, 0.02s \r",
      "[============================>                     ], 288/498, 57%, 0.02s \r",
      "[=============================>                     ], 289/498, 58%, 0.02s \r",
      "[=============================>                     ], 290/498, 58%, 0.02s \r",
      "[=============================>                     ], 291/498, 58%, 0.02s \r",
      "[=============================>                     ], 292/498, 58%, 0.02s \r",
      "[=============================>                     ], 293/498, 58%, 0.02s \r",
      "[=============================>                    ], 294/498, 59%, 0.02s \r",
      "[=============================>                    ], 295/498, 59%, 0.02s \r",
      "[=============================>                    ], 296/498, 59%, 0.02s \r",
      "[=============================>                    ], 297/498, 59%, 0.02s \r",
      "[=============================>                    ], 298/498, 59%, 0.02s \r",
      "[==============================>                    ], 299/498, 60%, 0.02s \r",
      "[==============================>                    ], 300/498, 60%, 0.02s \r",
      "[==============================>                    ], 301/498, 60%, 0.02s \r",
      "[==============================>                    ], 302/498, 60%, 0.02s \r",
      "[==============================>                    ], 303/498, 60%, 0.02s \r",
      "[==============================>                   ], 304/498, 61%, 0.02s \r",
      "[==============================>                   ], 305/498, 61%, 0.02s \r",
      "[==============================>                   ], 306/498, 61%, 0.02s \r",
      "[==============================>                   ], 307/498, 61%, 0.02s \r",
      "[==============================>                   ], 308/498, 61%, 0.02s \r",
      "[===============================>                   ], 309/498, 62%, 0.02s \r",
      "[===============================>                   ], 310/498, 62%, 0.02s \r",
      "[===============================>                   ], 311/498, 62%, 0.02s \r",
      "[===============================>                   ], 312/498, 62%, 0.02s \r",
      "[===============================>                   ], 313/498, 62%, 0.02s \r",
      "[===============================>                  ], 314/498, 63%, 0.02s \r",
      "[===============================>                  ], 315/498, 63%, 0.02s \r",
      "[===============================>                  ], 316/498, 63%, 0.02s \r",
      "[===============================>                  ], 317/498, 63%, 0.02s \r",
      "[===============================>                  ], 318/498, 63%, 0.02s \r",
      "[================================>                  ], 319/498, 64%, 0.02s \r",
      "[================================>                  ], 320/498, 64%, 0.02s \r",
      "[================================>                  ], 321/498, 64%, 0.02s \r",
      "[================================>                  ], 322/498, 64%, 0.02s \r",
      "[================================>                  ], 323/498, 64%, 0.02s \r",
      "[================================>                 ], 324/498, 65%, 0.02s \r",
      "[================================>                 ], 325/498, 65%, 0.02s \r",
      "[================================>                 ], 326/498, 65%, 0.02s \r",
      "[================================>                 ], 327/498, 65%, 0.02s \r",
      "[================================>                 ], 328/498, 65%, 0.02s \r",
      "[=================================>                 ], 329/498, 66%, 0.02s \r",
      "[=================================>                 ], 330/498, 66%, 0.02s \r",
      "[=================================>                 ], 331/498, 66%, 0.02s \r",
      "[=================================>                 ], 332/498, 66%, 0.02s \r",
      "[=================================>                 ], 333/498, 66%, 0.02s \r",
      "[=================================>                ], 334/498, 67%, 0.02s \r",
      "[=================================>                ], 335/498, 67%, 0.02s \r",
      "[=================================>                ], 336/498, 67%, 0.02s \r",
      "[=================================>                ], 337/498, 67%, 0.02s \r",
      "[=================================>                ], 338/498, 67%, 0.02s \r",
      "[==================================>                ], 339/498, 68%, 0.02s \r",
      "[==================================>                ], 340/498, 68%, 0.02s \r",
      "[==================================>                ], 341/498, 68%, 0.02s \r",
      "[==================================>                ], 342/498, 68%, 0.02s \r",
      "[==================================>                ], 343/498, 68%, 0.02s \r",
      "[==================================>               ], 344/498, 69%, 0.02s \r",
      "[==================================>               ], 345/498, 69%, 0.02s \r",
      "[==================================>               ], 346/498, 69%, 0.02s \r",
      "[==================================>               ], 347/498, 69%, 0.02s \r",
      "[==================================>               ], 348/498, 69%, 0.02s \r",
      "[===================================>               ], 349/498, 70%, 0.02s \r",
      "[===================================>               ], 350/498, 70%, 0.02s \r",
      "[===================================>               ], 351/498, 70%, 0.02s \r",
      "[===================================>               ], 352/498, 70%, 0.02s \r",
      "[===================================>               ], 353/498, 70%, 0.02s \r",
      "[===================================>              ], 354/498, 71%, 0.02s \r",
      "[===================================>              ], 355/498, 71%, 0.02s \r",
      "[===================================>              ], 356/498, 71%, 0.02s \r",
      "[===================================>              ], 357/498, 71%, 0.02s \r",
      "[===================================>              ], 358/498, 71%, 0.02s \r",
      "[====================================>              ], 359/498, 72%, 0.02s \r",
      "[====================================>              ], 360/498, 72%, 0.02s \r",
      "[====================================>              ], 361/498, 72%, 0.02s \r",
      "[====================================>              ], 362/498, 72%, 0.02s \r",
      "[====================================>              ], 363/498, 72%, 0.02s \r",
      "[====================================>             ], 364/498, 73%, 0.02s \r",
      "[====================================>             ], 365/498, 73%, 0.02s \r",
      "[====================================>             ], 366/498, 73%, 0.02s \r",
      "[====================================>             ], 367/498, 73%, 0.02s \r",
      "[====================================>             ], 368/498, 73%, 0.02s \r",
      "[=====================================>             ], 369/498, 74%, 0.02s \r",
      "[=====================================>             ], 370/498, 74%, 0.02s \r",
      "[=====================================>             ], 371/498, 74%, 0.02s \r",
      "[=====================================>             ], 372/498, 74%, 0.02s \r",
      "[=====================================>             ], 373/498, 74%, 0.02s \r",
      "[=====================================>            ], 374/498, 75%, 0.02s \r",
      "[=====================================>            ], 375/498, 75%, 0.02s \r",
      "[=====================================>            ], 376/498, 75%, 0.02s \r",
      "[=====================================>            ], 377/498, 75%, 0.02s \r",
      "[=====================================>            ], 378/498, 75%, 0.02s \r",
      "[======================================>            ], 379/498, 76%, 0.02s \r",
      "[======================================>            ], 380/498, 76%, 0.02s \r",
      "[======================================>            ], 381/498, 76%, 0.02s \r",
      "[======================================>            ], 382/498, 76%, 0.02s \r",
      "[======================================>            ], 383/498, 76%, 0.02s \r",
      "[======================================>           ], 384/498, 77%, 0.02s \r",
      "[======================================>           ], 385/498, 77%, 0.02s \r",
      "[======================================>           ], 386/498, 77%, 0.02s \r",
      "[======================================>           ], 387/498, 77%, 0.02s \r",
      "[======================================>           ], 388/498, 77%, 0.02s \r",
      "[=======================================>           ], 389/498, 78%, 0.02s \r",
      "[=======================================>           ], 390/498, 78%, 0.02s \r",
      "[=======================================>           ], 391/498, 78%, 0.02s \r",
      "[=======================================>           ], 392/498, 78%, 0.02s \r",
      "[=======================================>           ], 393/498, 78%, 0.02s \r",
      "[=======================================>          ], 394/498, 79%, 0.02s \r",
      "[=======================================>          ], 395/498, 79%, 0.02s \r",
      "[=======================================>          ], 396/498, 79%, 0.02s \r",
      "[=======================================>          ], 397/498, 79%, 0.02s \r",
      "[=======================================>          ], 398/498, 79%, 0.02s \r",
      "[========================================>          ], 399/498, 80%, 0.02s \r",
      "[========================================>          ], 400/498, 80%, 0.02s \r",
      "[========================================>          ], 401/498, 80%, 0.02s \r",
      "[========================================>          ], 402/498, 80%, 0.02s \r",
      "[========================================>          ], 403/498, 80%, 0.02s \r",
      "[========================================>         ], 404/498, 81%, 0.02s \r",
      "[========================================>         ], 405/498, 81%, 0.02s \r",
      "[========================================>         ], 406/498, 81%, 0.02s \r",
      "[========================================>         ], 407/498, 81%, 0.02s \r",
      "[========================================>         ], 408/498, 81%, 0.02s \r",
      "[=========================================>         ], 409/498, 82%, 0.02s \r",
      "[=========================================>         ], 410/498, 82%, 0.02s \r",
      "[=========================================>         ], 411/498, 82%, 0.02s \r",
      "[=========================================>         ], 412/498, 82%, 0.02s \r",
      "[=========================================>         ], 413/498, 82%, 0.02s \r",
      "[=========================================>        ], 414/498, 83%, 0.02s \r",
      "[=========================================>        ], 415/498, 83%, 0.02s \r",
      "[=========================================>        ], 416/498, 83%, 0.02s \r",
      "[=========================================>        ], 417/498, 83%, 0.02s \r",
      "[=========================================>        ], 418/498, 83%, 0.02s \r",
      "[==========================================>        ], 419/498, 84%, 0.02s \r",
      "[==========================================>        ], 420/498, 84%, 0.02s \r",
      "[==========================================>        ], 421/498, 84%, 0.02s \r",
      "[==========================================>        ], 422/498, 84%, 0.02s \r",
      "[==========================================>        ], 423/498, 84%, 0.02s \r",
      "[==========================================>       ], 424/498, 85%, 0.02s \r",
      "[==========================================>       ], 425/498, 85%, 0.02s \r",
      "[==========================================>       ], 426/498, 85%, 0.02s \r",
      "[==========================================>       ], 427/498, 85%, 0.02s \r",
      "[==========================================>       ], 428/498, 85%, 0.02s \r",
      "[===========================================>       ], 429/498, 86%, 0.02s \r",
      "[===========================================>       ], 430/498, 86%, 0.02s \r",
      "[===========================================>       ], 431/498, 86%, 0.02s \r",
      "[===========================================>       ], 432/498, 86%, 0.02s \r",
      "[===========================================>       ], 433/498, 86%, 0.02s \r",
      "[===========================================>      ], 434/498, 87%, 0.02s \r",
      "[===========================================>      ], 435/498, 87%, 0.02s \r",
      "[===========================================>      ], 436/498, 87%, 0.02s \r",
      "[===========================================>      ], 437/498, 87%, 0.02s \r",
      "[===========================================>      ], 438/498, 87%, 0.02s \r",
      "[============================================>      ], 439/498, 88%, 0.02s \r",
      "[============================================>      ], 440/498, 88%, 0.02s \r",
      "[============================================>      ], 441/498, 88%, 0.02s \r",
      "[============================================>      ], 442/498, 88%, 0.02s \r",
      "[============================================>      ], 443/498, 88%, 0.02s \r",
      "[============================================>     ], 444/498, 89%, 0.02s \r",
      "[============================================>     ], 445/498, 89%, 0.02s \r",
      "[============================================>     ], 446/498, 89%, 0.02s \r",
      "[============================================>     ], 447/498, 89%, 0.02s \r",
      "[============================================>     ], 448/498, 89%, 0.02s \r",
      "[=============================================>     ], 449/498, 90%, 0.02s \r",
      "[=============================================>     ], 450/498, 90%, 0.02s \r",
      "[=============================================>     ], 451/498, 90%, 0.02s \r",
      "[=============================================>     ], 452/498, 90%, 0.02s \r",
      "[=============================================>     ], 453/498, 90%, 0.02s \r",
      "[=============================================>    ], 454/498, 91%, 0.02s \r",
      "[=============================================>    ], 455/498, 91%, 0.02s \r",
      "[=============================================>    ], 456/498, 91%, 0.02s \r",
      "[=============================================>    ], 457/498, 91%, 0.03s \r",
      "[=============================================>    ], 458/498, 91%, 0.03s \r",
      "[==============================================>    ], 459/498, 92%, 0.03s \r",
      "[==============================================>    ], 460/498, 92%, 0.03s \r",
      "[==============================================>    ], 461/498, 92%, 0.03s \r",
      "[==============================================>    ], 462/498, 92%, 0.03s \r",
      "[==============================================>    ], 463/498, 92%, 0.03s \r",
      "[==============================================>   ], 464/498, 93%, 0.03s \r",
      "[==============================================>   ], 465/498, 93%, 0.03s \r",
      "[==============================================>   ], 466/498, 93%, 0.03s \r",
      "[==============================================>   ], 467/498, 93%, 0.03s \r",
      "[==============================================>   ], 468/498, 93%, 0.03s \r",
      "[===============================================>   ], 469/498, 94%, 0.03s \r",
      "[===============================================>   ], 470/498, 94%, 0.03s \r",
      "[===============================================>   ], 471/498, 94%, 0.03s \r",
      "[===============================================>   ], 472/498, 94%, 0.03s \r",
      "[===============================================>   ], 473/498, 94%, 0.03s \r",
      "[===============================================>  ], 474/498, 95%, 0.03s \r",
      "[===============================================>  ], 475/498, 95%, 0.03s \r",
      "[===============================================>  ], 476/498, 95%, 0.03s \r",
      "[===============================================>  ], 477/498, 95%, 0.03s \r",
      "[===============================================>  ], 478/498, 95%, 0.03s \r",
      "[================================================>  ], 479/498, 96%, 0.03s \r",
      "[================================================>  ], 480/498, 96%, 0.03s \r",
      "[================================================>  ], 481/498, 96%, 0.03s \r",
      "[================================================>  ], 482/498, 96%, 0.03s \r",
      "[================================================>  ], 483/498, 96%, 0.03s \r",
      "[================================================> ], 484/498, 97%, 0.03s \r",
      "[================================================> ], 485/498, 97%, 0.03s \r",
      "[================================================> ], 486/498, 97%, 0.03s \r",
      "[================================================> ], 487/498, 97%, 0.03s \r",
      "[================================================> ], 488/498, 97%, 0.03s \r",
      "[=================================================> ], 489/498, 98%, 0.03s \r",
      "[=================================================> ], 490/498, 98%, 0.03s \r",
      "[=================================================> ], 491/498, 98%, 0.03s \r",
      "[=================================================> ], 492/498, 98%, 0.03s \r",
      "[=================================================> ], 493/498, 98%, 0.03s \r",
      "[=================================================>], 494/498, 99%, 0.03s \r",
      "[=================================================>], 495/498, 99%, 0.03s \r",
      "[=================================================>], 496/498, 99%, 0.03s \r",
      "[=================================================>], 497/498, 99%, 0.03s "
     ]
    }
   ],
   "source": [
    "pre_label = image_tool.mask_remove_small(pre_label, 400)"
   ]
  },
  {
   "cell_type": "code",
   "execution_count": 9,
   "metadata": {
    "collapsed": false
   },
   "outputs": [
    {
     "data": {
      "text/plain": [
       "(498, 4)"
      ]
     },
     "execution_count": 9,
     "metadata": {},
     "output_type": "execute_result"
    }
   ],
   "source": [
    "new_rects, new_areas, new_contours = image_tool.mask_to_contours_index(np.copy(pre_label))\n",
    "new_rects.shape"
   ]
  },
  {
   "cell_type": "code",
   "execution_count": 10,
   "metadata": {
    "collapsed": true
   },
   "outputs": [],
   "source": [
    "new_label = np.asarray(pre_label, dtype=np.float32).reshape(3000, 15106)\n",
    "tmp_label = np.asarray(pre_label, dtype=np.float32).reshape(3000, 15106)\n",
    "pre_label = pre_label.reshape(3000, 15106)"
   ]
  },
  {
   "cell_type": "code",
   "execution_count": 11,
   "metadata": {
    "collapsed": false
   },
   "outputs": [
    {
     "name": "stdout",
     "output_type": "stream",
     "text": [
      " 100.00 % [==================================================>] 498/498 \t used:32s eta:0 s"
     ]
    }
   ],
   "source": [
    "from utils import ProgressBar\n",
    "pb = ProgressBar(worksum=len(new_rects))\n",
    "pb.startjob()\n",
    "for i in range(len(new_rects)):\n",
    "    left, top, right, bottom = new_rects[i]\n",
    "    \n",
    "    width = right - left\n",
    "    height = bottom - top\n",
    "    \n",
    "    left = max(left - width//4, 0)\n",
    "    top = max(top - height//4, 0)\n",
    "    right = min(right + width//4, 15106)\n",
    "    bottom = min(bottom + width//4, 3000)\n",
    "    \n",
    "    resize_width = (width // 112 + 1) * 112\n",
    "    resize_height = (height // 112 + 1) * 112\n",
    "    \n",
    "    one_result = np.zeros((resize_height, resize_width))\n",
    "    \n",
    "    one_X = cv2.resize(new_data[top:bottom, left:right, :], (resize_width, resize_height))\n",
    "    one_y = pre_label[top:bottom, left:right]\n",
    "    \n",
    "    for i in range(0, resize_width, 112):\n",
    "        for j in range(0, resize_height, 112):\n",
    "            one_label = sess.run(pred, feed_dict={X_layer: one_X[j:j+112, i:i+112, :].reshape(1, 112, 112, 8), trainning_mode:False})\n",
    "            one_result[j:j+112, i:i+112] = one_label.reshape(112, 112)\n",
    "    \n",
    "    one_result = np.asarray(cv2.resize(one_result, (right - left, bottom - top)), dtype=np.float32)\n",
    "    one_result[one_y == 0] = 0\n",
    "    tmp_label[top:bottom, left:right] = 1. - one_result\n",
    "        \n",
    "    pb.complete(1)"
   ]
  },
  {
   "cell_type": "code",
   "execution_count": 12,
   "metadata": {
    "collapsed": false
   },
   "outputs": [
    {
     "data": {
      "text/plain": [
       "((3000, 15106), dtype('float32'))"
      ]
     },
     "execution_count": 12,
     "metadata": {},
     "output_type": "execute_result"
    }
   ],
   "source": [
    "tmp_label.shape, tmp_label.dtype"
   ]
  },
  {
   "cell_type": "code",
   "execution_count": 13,
   "metadata": {
    "collapsed": true
   },
   "outputs": [],
   "source": [
    "np.save('result/Dense', tmp_label)"
   ]
  },
  {
   "cell_type": "code",
   "execution_count": null,
   "metadata": {
    "collapsed": true
   },
   "outputs": [],
   "source": []
  },
  {
   "cell_type": "code",
   "execution_count": 14,
   "metadata": {
    "collapsed": true
   },
   "outputs": [],
   "source": [
    "HED = np.load('result/HED.npy', 'r')\n",
    "Res = np.load('result/Res.npy', 'r')\n",
    "Dense = np.load('result/Dense.npy', 'r')\n",
    "Ensemble = HED + Res + Dense\n",
    "Ensemble /= 3\n",
    "Ensemble = np.asarray(Ensemble >= 0.5, dtype=np.uint8)"
   ]
  },
  {
   "cell_type": "code",
   "execution_count": 15,
   "metadata": {
    "collapsed": true
   },
   "outputs": [],
   "source": [
    "def mask_replace_non_exist(pre_mask, new_mask, rects, contours, areas, replace_threshold=0.5, delete_threshold=0.2):\n",
    "    mask = np.copy(pre_mask)\n",
    "    for index, rect in enumerate(rects):\n",
    "        new_area = 0\n",
    "        left, top, right, bottom = rect\n",
    "        for i in range(top, bottom):\n",
    "            for j in range(left, right):\n",
    "                if cv2.pointPolygonTest(contours[index], (j, i), False) >= 0 and new_mask[i, j] == 1:\n",
    "                    new_area += 1\n",
    "                    \n",
    "        if new_area <= areas[index] * delete_threshold:\n",
    "            for i in range(top, bottom):\n",
    "                for j in range(left, right):\n",
    "                    if cv2.pointPolygonTest(contours[index], (j, i), False) >= 0:\n",
    "                        mask[i, j] = 0\n",
    "        \n",
    "        elif new_area <= areas[index] * replace_threshold:\n",
    "            for i in range(top, bottom):\n",
    "                for j in range(left, right):\n",
    "                    if cv2.pointPolygonTest(contours[index], (j, i), False) >= 0:\n",
    "                        mask[i, j] = new_mask[i, j]\n",
    "    return mask"
   ]
  },
  {
   "cell_type": "code",
   "execution_count": 16,
   "metadata": {
    "collapsed": true
   },
   "outputs": [],
   "source": [
    "new_label = mask_replace_non_exist(pre_label.reshape(3000, 15106, 1), Ensemble.reshape(3000, 15106, 1), new_rects, new_contours, new_areas, replace_threshold=0.99, delete_threshold=0.05)"
   ]
  },
  {
   "cell_type": "code",
   "execution_count": 17,
   "metadata": {
    "collapsed": false
   },
   "outputs": [
    {
     "data": {
      "text/plain": [
       "((3000, 15106, 1), dtype('uint8'))"
      ]
     },
     "execution_count": 17,
     "metadata": {},
     "output_type": "execute_result"
    }
   ],
   "source": [
    "new_label = new_label.reshape(3000, 15106, 1)\n",
    "new_label.shape, new_label.dtype"
   ]
  },
  {
   "cell_type": "code",
   "execution_count": 18,
   "metadata": {
    "collapsed": false
   },
   "outputs": [
    {
     "data": {
      "text/plain": [
       "True"
      ]
     },
     "execution_count": 18,
     "metadata": {},
     "output_type": "execute_result"
    }
   ],
   "source": [
    "cv2.imwrite('rejudge.bmp', new_label*255)"
   ]
  },
  {
   "cell_type": "code",
   "execution_count": 21,
   "metadata": {
    "collapsed": false
   },
   "outputs": [],
   "source": [
    "tiff.imsave('rejudge.tif', new_label)"
   ]
  },
  {
   "cell_type": "code",
   "execution_count": null,
   "metadata": {
    "collapsed": true
   },
   "outputs": [],
   "source": []
  },
  {
   "cell_type": "code",
   "execution_count": null,
   "metadata": {
    "collapsed": true
   },
   "outputs": [],
   "source": []
  }
 ],
 "metadata": {
  "kernelspec": {
   "display_name": "Python 3",
   "language": "python",
   "name": "python3"
  },
  "language_info": {
   "codemirror_mode": {
    "name": "ipython",
    "version": 3
   },
   "file_extension": ".py",
   "mimetype": "text/x-python",
   "name": "python",
   "nbconvert_exporter": "python",
   "pygments_lexer": "ipython3",
   "version": "3.5.2"
  }
 },
 "nbformat": 4,
 "nbformat_minor": 1
}
