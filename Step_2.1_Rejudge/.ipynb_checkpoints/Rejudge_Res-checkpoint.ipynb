{
 "cells": [
  {
   "cell_type": "code",
   "execution_count": 1,
   "metadata": {
    "collapsed": true
   },
   "outputs": [],
   "source": [
    "from collections import defaultdict\n",
    "import tensorflow as tf\n",
    "import numpy as np\n",
    "import tflearn\n",
    "import matplotlib.pyplot as plt\n",
    "%matplotlib inline\n",
    "plt.rcParams[\"figure.figsize\"] = (20, 10)\n",
    "import cv2\n",
    "from shapely.geometry import MultiPolygon, Polygon\n",
    "import shapely.wkt\n",
    "import shapely.affinity\n",
    "import tifffile as tiff\n",
    "import sys\n",
    "import sklearn\n",
    "import time\n",
    "import PIL\n",
    "from scipy import misc\n",
    "import image_tool"
   ]
  },
  {
   "cell_type": "code",
   "execution_count": 2,
   "metadata": {
    "collapsed": true
   },
   "outputs": [],
   "source": [
    "X_train = np.load('my_data/new_data.npy', 'r')\n",
    "y_train = np.load('my_data/new_label.npy', 'r')\n",
    "y_train = 1. - y_train"
   ]
  },
  {
   "cell_type": "code",
   "execution_count": 3,
   "metadata": {
    "collapsed": false
   },
   "outputs": [
    {
     "data": {
      "text/plain": [
       "((2650, 112, 112, 8), (2650, 112, 112, 1))"
      ]
     },
     "execution_count": 3,
     "metadata": {},
     "output_type": "execute_result"
    }
   ],
   "source": [
    "X_train.shape, y_train.shape"
   ]
  },
  {
   "cell_type": "code",
   "execution_count": null,
   "metadata": {
    "collapsed": true
   },
   "outputs": [],
   "source": []
  },
  {
   "cell_type": "code",
   "execution_count": 4,
   "metadata": {
    "collapsed": false
   },
   "outputs": [],
   "source": [
    "def conv_bn_relu(bottom, filters, stride, training, name, activation=tf.nn.relu):\n",
    "    net = tf.layers.conv2d(bottom, filters, (3, 3), strides=stride, activation=None, padding='same', name='conv_1_{}'.format(name))\n",
    "    net = tf.layers.batch_normalization(net, training=training, name='bn_1_{}'.format(name))\n",
    "    net = activation(net, name='relu_1_{}'.format(name))\n",
    "    return net\n",
    "\n",
    "def conv_bn(bottom, filters, stride, training, name):\n",
    "    net = tf.layers.conv2d(bottom, filters, (3, 3), strides=stride, activation=None, padding='same', name='conv_2_{}'.format(name))\n",
    "    net = tf.layers.batch_normalization(net, training=training, name='bn_2_{}'.format(name))\n",
    "    return net\n",
    "\n",
    "def resblock(bottom, filters, training, name, downSample=False, activation=tf.nn.relu):\n",
    "    if downSample:\n",
    "        with tf.variable_scope(\"down_sample_{}\".format(name)):\n",
    "            conv1 = conv_bn_relu(bottom, filters, (2, 2), training, name)\n",
    "            conv2 = conv_bn(conv1, filters, (1, 1), training, name)\n",
    "            shortcut = tf.layers.conv2d(bottom, filters, (1, 1), strides=(2,2), activation=None, padding='same', name='conv_pad_{}'.format(name))\n",
    "            shortcut = tf.layers.batch_normalization(shortcut, training=training, name='bn_pad_{}'.format(name))\n",
    "            return conv2, activation(conv2 + shortcut, name='relu_downsample_{}'.format(name))\n",
    "    else:\n",
    "        with tf.variable_scope(\"dense_layer_{}\".format(name)):\n",
    "            conv1 = conv_bn_relu(bottom, filters, (1, 1), training, name)\n",
    "            conv2 = conv_bn(conv1, filters, (1, 1), training, name)\n",
    "            return conv2, activation(conv2 + bottom, name='relu_direct_{}'.format(name))\n",
    "\n",
    "def upsampling_2D(tensor, name, size=(2, 2)):\n",
    "    H, W, _ = tensor.get_shape().as_list()[1:]\n",
    "\n",
    "    H_multi, W_multi = size\n",
    "    target_H = H * H_multi\n",
    "    target_W = W * W_multi\n",
    "\n",
    "    return tf.image.resize_nearest_neighbor(tensor, (target_H, target_W), name=\"upsample_{}\".format(name))\n",
    "\n",
    "def up_sample_conv(net, filters, strides, training, name, activation=tf.nn.relu):\n",
    "    with tf.variable_scope(\"up_sample_{}\".format(name)):\n",
    "        net = tf.layers.conv2d(net, filters, (1, 1), activation=activation, padding=\"same\", name=\"up_conv\")\n",
    "        if strides != 1:\n",
    "            net = upsampling_2D(net, name, size=(strides, strides))\n",
    "        with tf.variable_scope(\"conv_1\"):\n",
    "            conv_1 = tf.layers.conv2d(net, 1, (3, 3), activation=None, padding=\"same\", name=\"conv\")\n",
    "            net = tf.layers.batch_normalization(conv_1, training=training, name=\"bn\")\n",
    "            net = activation(net, name=\"relu\")\n",
    "        with tf.variable_scope(\"conv_2\"):\n",
    "            conv_1 = tf.layers.conv2d(net, 1, (3, 3), activation=None, padding=\"same\", name=\"conv\")\n",
    "            net = tf.layers.batch_normalization(conv_1, training=training, name=\"bn\")\n",
    "            net = activation(net, name=\"relu\")\n",
    "        net = tf.layers.conv2d(net, 1,  [1, 1], activation=None, name=\"Final\")\n",
    "        return net\n",
    "\n",
    "def res_net(X, training):\n",
    "    with tf.variable_scope(\"Preprocessing\"):\n",
    "        net = X * 2 - 1\n",
    "        net = tf.layers.conv2d(net, 8, (1, 1), name=\"color_space1_adjust\")\n",
    "    dsn1 = tf.layers.conv2d(net, 16, (7, 7), padding='same', name='first_conv', activation=tf.nn.relu)\n",
    "    net = tf.layers.max_pooling2d(dsn1, 3, strides=2, padding='same', name='first_pool')\n",
    "    \n",
    "    with tf.variable_scope(\"resblock_1\"):\n",
    "        for i in range(1, 4):\n",
    "            _, net = resblock(net, 16, training, i)\n",
    "        dsn2 = net\n",
    "    \n",
    "    _, net = resblock(net, 32, training, 4, downSample=True)\n",
    "    \n",
    "    with tf.variable_scope(\"resblock_2\"):\n",
    "        for i in range(5, 8):\n",
    "            _, net = resblock(net, 32, training, i)\n",
    "        dsn3 = net\n",
    "    \n",
    "    _, net = resblock(net, 64, training, 8, downSample=True)\n",
    "    \n",
    "    with tf.variable_scope(\"resblock_3\"):\n",
    "        for i in range(9, 14):\n",
    "            _, net = resblock(net, 64, training, i)\n",
    "        dsn4 = net\n",
    "        \n",
    "    _, net = resblock(net, 128, training, 14, downSample=True)\n",
    "    \n",
    "    with tf.variable_scope(\"resblock_4\"):\n",
    "        for i in range(15, 17):\n",
    "            _, net = resblock(net, 128, training, i)\n",
    "        dsn5 = net\n",
    "    \n",
    "    return dsn1, dsn2, dsn3, dsn4, dsn5\n",
    "    \n",
    "def make_hed(X, training):\n",
    "    dsn1, dsn2, dsn3, dsn4, dsn5 = res_net(X, training)\n",
    "    \n",
    "    dsn1 = up_sample_conv(dsn1, 16, 1, training, \"1\")\n",
    "    dsn2 = up_sample_conv(dsn2, 32, 2, training, \"2\")\n",
    "    dsn3 = up_sample_conv(dsn3, 64, 4, training, \"3\")\n",
    "    dsn4 = up_sample_conv(dsn4, 128, 8, training, \"4\")\n",
    "    dsn5 = up_sample_conv(dsn5, 256, 16, training, \"5\")\n",
    "    \n",
    "    dsn = tf.concat([dsn1, dsn2, dsn3, dsn4, dsn5], axis=3, name='concat')\n",
    "    dsn = tf.reshape(dsn, [-1, 112, 112, 5])\n",
    "    dsn = tf.layers.conv2d(dsn, 1, (1, 1), name='output', activation=None, padding='same')\n",
    "\n",
    "    return dsn1, dsn2, dsn3, dsn4, dsn5, dsn\n",
    "\n",
    "def IOU_loss(y_pred, y_true):\n",
    "    y_pred = tf.round(1. - y_pred)\n",
    "    y_true = tf.round(1. - y_true)\n",
    "    y_pred = tf.cast(y_pred, tf.float32)\n",
    "    y_true = tf.cast(y_true, tf.float32)\n",
    "    \n",
    "    H, W, _ = y_pred.get_shape().as_list()[1:]\n",
    "    pred_flat = tf.reshape(y_pred, [-1, H * W])\n",
    "    true_flat = tf.reshape(y_true, [-1, H * W])\n",
    "    intersection = 2 * tf.reduce_sum(pred_flat * true_flat, axis=1) + 1e-12\n",
    "    denominator = tf.reduce_sum(pred_flat, axis=1) + tf.reduce_sum(true_flat, axis=1) + 1e-7\n",
    "\n",
    "    return tf.reduce_mean(intersection / denominator)\n",
    "\n",
    "def IOU_no_classified(y_pred, y_true):\n",
    "    y_pred = 1. - y_pred\n",
    "    y_true = 1. - y_true\n",
    "    \n",
    "    H, W, _ = y_pred.get_shape().as_list()[1:]\n",
    "    pred_flat = tf.reshape(y_pred, [-1, H * W])\n",
    "    true_flat = tf.reshape(y_true, [-1, H * W])\n",
    "    intersection = 2 * tf.reduce_sum(pred_flat * true_flat, axis=1) + 1e-12\n",
    "    denominator = tf.reduce_sum(pred_flat, axis=1) + tf.reduce_sum(true_flat, axis=1) + 1e-7\n",
    "\n",
    "    return tf.reduce_mean(intersection / denominator)\n",
    "\n",
    "def class_balanced_sigmoid_cross_entropy(y_true, y_pred):\n",
    "    y = tf.cast(y_true, tf.float32)\n",
    "    \n",
    "    count_neg = tf.reduce_sum(1. - y) + 1\n",
    "    count_pos = tf.reduce_sum(y) + 1\n",
    "    beta = count_neg / (count_neg + count_pos + 2)\n",
    "    \n",
    "    pos_weight = beta / (1 - beta)\n",
    "    cost = tf.nn.weighted_cross_entropy_with_logits(y, y_pred, pos_weight)\n",
    "    cost = tf.reduce_mean(cost * (1 - beta))\n",
    "    \n",
    "    return cost"
   ]
  },
  {
   "cell_type": "code",
   "execution_count": 5,
   "metadata": {
    "collapsed": true
   },
   "outputs": [],
   "source": [
    "tf.reset_default_graph()\n",
    "config = tf.ConfigProto()\n",
    "config.gpu_options.allow_growth = True\n",
    "config.allow_soft_placement=True\n",
    "sess = tf.Session(config=config)\n",
    "with tf.device(\"/gpu:6\"):\n",
    "    global_step_tensor = tf.Variable(1, trainable=False, name='global_step')\n",
    "    with tf.variable_scope(\"X_Input_Layer\"):\n",
    "        X_layer = tf.placeholder(shape=[None, 112, 112, 8], dtype=tf.float32, name=\"X_layer\")\n",
    "    with tf.variable_scope(\"Y_Input_Layer\"):\n",
    "        y_layer = tf.placeholder(shape=[None, 112, 112, 1], dtype=tf.float32, name=\"y_layer\")\n",
    "    with tf.variable_scope(\"Mode_Layer\"):\n",
    "        trainning_mode = tf.placeholder(tf.bool, name=\"Mode\")\n",
    "    d1, d2, d3, d4, d5, pred_not_sigmoid = make_hed(X_layer, trainning_mode)\n",
    "    pred = tf.nn.sigmoid(pred_not_sigmoid)\n",
    "    tf.summary.image(\"Predicted_Mask\", pred)\n",
    "    X_layer_2015 = X_layer[:, :, :, :3]\n",
    "    X_layer_2017 = X_layer[:, :, :, 4:7]\n",
    "    tf.summary.image(\"2015\", X_layer_2015)\n",
    "    tf.summary.image(\"2017\", X_layer_2017)\n",
    "    tf.summary.image(\"Label\", y_layer)\n",
    "    \n",
    "    with tf.variable_scope(\"Accuracy\"):\n",
    "        pred_int = tf.cast(tf.round(pred, name=\"round_pred\"), dtype=tf.int32, name=\"cast_pred\")\n",
    "        y_int = tf.cast(tf.round(y_layer, name=\"round_y\"), dtype=tf.int32, name=\"cast_y\")\n",
    "        acc = tf.contrib.metrics.accuracy(y_int, pred_int)\n",
    "        tf.summary.scalar(\"Accuracy\", acc)\n",
    "        \n",
    "    with tf.variable_scope(\"Loss\"):\n",
    "        loss = class_balanced_sigmoid_cross_entropy(y_layer, pred_not_sigmoid)\n",
    "        tf.summary.scalar(\"Loss\", loss)\n",
    "    \n",
    "    with tf.variable_scope(\"IOU\"):\n",
    "        IOU_op = IOU_loss(pred, y_layer)\n",
    "        tf.summary.scalar(\"IOU\", IOU_op)\n",
    "        \n",
    "    with tf.variable_scope(\"IOU_no_classified\"):\n",
    "        IOU_op_no_class = IOU_no_classified(pred, y_layer)\n",
    "        tf.summary.scalar(\"IOU_no_classified\", IOU_op_no_class)\n",
    "        \n",
    "    summary_op = tf.summary.merge_all()\n",
    "    \n",
    "    with tf.variable_scope(\"Test_Summary_INPUT\"):\n",
    "        test_IOU_input = tf.placeholder(dtype=tf.float32, name=\"Summary_INPUT_IOU\")\n",
    "        test_IOU_no_class_input = tf.placeholder(dtype=tf.float32, name=\"Summary_INPUT_IOU_NO_CLASSIFY\")\n",
    "        test_acc_input = tf.placeholder(dtype=tf.float32, name=\"Summary_INPUT_Acc\")\n",
    "        test_loss_input = tf.placeholder(dtype=tf.float32, name=\"Summary_INPUT_Loss\")\n",
    "    test_summary_IOU_op = tf.summary.scalar(\"epoch/IOU\", test_IOU_input)\n",
    "    test_summary_IOU_op_no_classified = tf.summary.scalar(\"epoch/IOU_no_classified\", test_IOU_no_class_input)\n",
    "    test_summary_acc_op = tf.summary.scalar(\"epoch/Accuracy\", test_acc_input)\n",
    "    test_summary_loss_op = tf.summary.scalar(\"epoch/Loss\", test_loss_input)\n",
    "\n",
    "    lr = tf.placeholder(tf.float32, name='Learning_Rate')\n",
    "    choose_momentum = tf.placeholder(tf.int32, name='Choose_Optimizer')\n",
    "    update_ops = tf.get_collection(tf.GraphKeys.UPDATE_OPS)\n",
    "    with tf.control_dependencies(update_ops):\n",
    "        global_step = tf.train.get_global_step()\n",
    "        if choose_momentum == 1:\n",
    "            train_step = tf.train.MomentumOptimizer(learning_rate=lr, momentum=0.9).minimize(loss, global_step=global_step)\n",
    "        else:\n",
    "            train_step = tf.train.AdamOptimizer().minimize(loss, global_step=global_step)"
   ]
  },
  {
   "cell_type": "code",
   "execution_count": 6,
   "metadata": {
    "collapsed": true
   },
   "outputs": [],
   "source": [
    "!rm -rf tmp/Res_HED/log_train\n",
    "!rm -rf tmp/Res_HED/log_test"
   ]
  },
  {
   "cell_type": "code",
   "execution_count": 7,
   "metadata": {
    "collapsed": true
   },
   "outputs": [],
   "source": [
    "train_summary_writer = tf.summary.FileWriter(\"tmp/Res_HED/log_train\", sess.graph)\n",
    "test_summary_writer  = tf.summary.FileWriter(\"tmp/Res_HED/log_test\", sess.graph)"
   ]
  },
  {
   "cell_type": "code",
   "execution_count": 8,
   "metadata": {
    "collapsed": false
   },
   "outputs": [
    {
     "name": "stdout",
     "output_type": "stream",
     "text": [
      "INFO:tensorflow:Restoring parameters from ../Step_1_Prediction/my_model/Res_HED/-222\n"
     ]
    },
    {
     "data": {
      "text/plain": [
       "336285"
      ]
     },
     "execution_count": 8,
     "metadata": {},
     "output_type": "execute_result"
    }
   ],
   "source": [
    "# sess.run(tf.global_variables_initializer())\n",
    "saver = tf.train.Saver()\n",
    "saver.restore(sess, \"../Step_1_Prediction/my_model/Res_HED/-222\")\n",
    "tf.train.global_step(sess, global_step_tensor)"
   ]
  },
  {
   "cell_type": "code",
   "execution_count": null,
   "metadata": {
    "collapsed": true
   },
   "outputs": [],
   "source": [
    "def random_augmentation(imges, labels):\n",
    "    au_images = []\n",
    "    au_labels = []\n",
    "    for i in range(len(imges)):\n",
    "        img_tmp = np.copy(imges[i])\n",
    "        label_tmp = np.copy(labels[i])\n",
    "        rand_flip = np.random.randint(0, 4)\n",
    "        rand_rotat = np.random.randint(0, 4)\n",
    "        rand_change = np.random.randint(0, 2)\n",
    "        if rand_flip != 3:\n",
    "            img_tmp = cv2.flip(img_tmp, rand_flip - 1)\n",
    "            label_tmp = cv2.flip(label_tmp, rand_flip - 1)\n",
    "        M = cv2.getRotationMatrix2D((56, 56), rand_rotat*90, 1.0)\n",
    "        img_tmp = cv2.warpAffine(img_tmp, M, (112, 112))\n",
    "        label_tmp = cv2.warpAffine(label_tmp, M, (112, 112))\n",
    "        if rand_change == 1:\n",
    "            mean1 = np.mean(img_tmp[:, :, :4])\n",
    "            mean2 = np.mean(img_tmp[:, :, 4:])\n",
    "            rand_std1 = np.random.ranf() * 0.4 + 0.8\n",
    "            rand_std2 = np.random.ranf() * 0.4 + 0.8\n",
    "            rand_mean1 = (np.random.ranf() * 0.4 - 0.2) * mean1\n",
    "            rand_mean2 = (np.random.ranf() * 0.4 - 0.2) * mean2\n",
    "            img_tmp[:, :, :4] = (img_tmp[:, :, :4] * rand_std1 + rand_mean1).clip(0, 1)\n",
    "            img_tmp[:, :, 4:] = (img_tmp[:, :, 4:] * rand_std2 + rand_mean2).clip(0, 1)\n",
    "        au_images.append(img_tmp)\n",
    "        au_labels.append(label_tmp)\n",
    "    au_images = np.asarray(au_images)\n",
    "    au_labels = np.asarray(au_labels).reshape(-1, 112, 112, 1)\n",
    "    return au_images, au_labels"
   ]
  },
  {
   "cell_type": "code",
   "execution_count": null,
   "metadata": {
    "collapsed": false,
    "scrolled": false
   },
   "outputs": [
    {
     "name": "stdout",
     "output_type": "stream",
     "text": [
      "Training: [=================================================> ], 99%, 2624/2650, IOU:0.57, IOU_no:0.51, Accuracy:0.84, Loss:0.11, 142s\n",
      "EPOCH 0, IOU: 0.53, IOU_no:0.48, Accuracy: 0.84, Loss: 328.11\n",
      "Training: [=================================================> ], 99%, 2624/2650, IOU:0.50, IOU_no:0.42, Accuracy:0.84, Loss:0.08, 207s\n",
      "EPOCH 1, IOU: 0.56, IOU_no:0.49, Accuracy: 0.85, Loss: 216.76\n",
      "Training: [=================================================> ], 99%, 2624/2650, IOU:0.50, IOU_no:0.41, Accuracy:0.84, Loss:0.10, 271s\n",
      "EPOCH 2, IOU: 0.57, IOU_no:0.49, Accuracy: 0.86, Loss: 205.68\n",
      "Training: [=================================================> ], 99%, 2624/2650, IOU:0.60, IOU_no:0.50, Accuracy:0.85, Loss:0.07, 338s\n",
      "EPOCH 3, IOU: 0.59, IOU_no:0.50, Accuracy: 0.86, Loss: 198.55\n",
      "Training: [=================================================> ], 99%, 2624/2650, IOU:0.52, IOU_no:0.47, Accuracy:0.86, Loss:0.08, 404s\n",
      "EPOCH 4, IOU: 0.59, IOU_no:0.50, Accuracy: 0.86, Loss: 194.71\n",
      "Training: [=================================================> ], 99%, 2624/2650, IOU:0.59, IOU_no:0.50, Accuracy:0.87, Loss:0.08, 470s\n",
      "EPOCH 5, IOU: 0.59, IOU_no:0.51, Accuracy: 0.87, Loss: 190.45\n",
      "Training: [=================================================> ], 99%, 2624/2650, IOU:0.54, IOU_no:0.43, Accuracy:0.86, Loss:0.07, 537s\n",
      "EPOCH 6, IOU: 0.60, IOU_no:0.51, Accuracy: 0.87, Loss: 187.11\n",
      "Training: [=================================================> ], 99%, 2624/2650, IOU:0.46, IOU_no:0.40, Accuracy:0.86, Loss:0.06, 603s\n",
      "EPOCH 7, IOU: 0.60, IOU_no:0.52, Accuracy: 0.87, Loss: 185.60\n",
      "Training: [=================================================> ], 99%, 2624/2650, IOU:0.69, IOU_no:0.60, Accuracy:0.89, Loss:0.08, 670s\n",
      "EPOCH 8, IOU: 0.61, IOU_no:0.51, Accuracy: 0.87, Loss: 181.92\n",
      "Training: [=================================================> ], 99%, 2624/2650, IOU:0.62, IOU_no:0.53, Accuracy:0.90, Loss:0.05, 737s\n",
      "EPOCH 9, IOU: 0.62, IOU_no:0.52, Accuracy: 0.88, Loss: 178.22\n",
      "Training: [=================================================> ], 99%, 2624/2650, IOU:0.57, IOU_no:0.50, Accuracy:0.87, Loss:0.08, 804s\n",
      "EPOCH 10, IOU: 0.62, IOU_no:0.53, Accuracy: 0.88, Loss: 178.82\n",
      "Training: [=================================================> ], 99%, 2624/2650, IOU:0.59, IOU_no:0.49, Accuracy:0.86, Loss:0.09, 872s\n",
      "EPOCH 11, IOU: 0.61, IOU_no:0.52, Accuracy: 0.88, Loss: 178.26\n",
      "Training: [=================================================> ], 99%, 2624/2650, IOU:0.69, IOU_no:0.57, Accuracy:0.89, Loss:0.07, 940s\n",
      "EPOCH 12, IOU: 0.62, IOU_no:0.53, Accuracy: 0.88, Loss: 173.95\n",
      "Training: [=================================================> ], 99%, 2624/2650, IOU:0.64, IOU_no:0.58, Accuracy:0.89, Loss:0.06, 1007s\n",
      "EPOCH 13, IOU: 0.63, IOU_no:0.53, Accuracy: 0.88, Loss: 171.76\n",
      "Training: [=================================================> ], 99%, 2624/2650, IOU:0.63, IOU_no:0.56, Accuracy:0.89, Loss:0.07, 1075s\n",
      "EPOCH 14, IOU: 0.62, IOU_no:0.53, Accuracy: 0.88, Loss: 175.37\n",
      "Training: [=================================================> ], 99%, 2624/2650, IOU:0.63, IOU_no:0.55, Accuracy:0.89, Loss:0.08, 1144s\n",
      "EPOCH 15, IOU: 0.62, IOU_no:0.53, Accuracy: 0.88, Loss: 173.79\n",
      "Training: [=================================================> ], 99%, 2624/2650, IOU:0.63, IOU_no:0.53, Accuracy:0.88, Loss:0.05, 1213s\n",
      "EPOCH 16, IOU: 0.62, IOU_no:0.53, Accuracy: 0.88, Loss: 171.47\n",
      "Training: [=================================================> ], 99%, 2624/2650, IOU:0.76, IOU_no:0.61, Accuracy:0.90, Loss:0.05, 1282s\n",
      "EPOCH 17, IOU: 0.63, IOU_no:0.54, Accuracy: 0.88, Loss: 167.19\n",
      "Training: [=================================================> ], 99%, 2624/2650, IOU:0.65, IOU_no:0.55, Accuracy:0.88, Loss:0.07, 1351s\n",
      "EPOCH 18, IOU: 0.63, IOU_no:0.54, Accuracy: 0.88, Loss: 171.45\n",
      "Training: [=================================================> ], 99%, 2624/2650, IOU:0.76, IOU_no:0.65, Accuracy:0.92, Loss:0.05, 1421s\n",
      "EPOCH 19, IOU: 0.63, IOU_no:0.54, Accuracy: 0.89, Loss: 165.87\n",
      "Training: [=================================================> ], 99%, 2624/2650, IOU:0.62, IOU_no:0.53, Accuracy:0.89, Loss:0.09, 1491s\n",
      "EPOCH 20, IOU: 0.64, IOU_no:0.54, Accuracy: 0.89, Loss: 162.98\n",
      "Training: [=================================================> ], 99%, 2624/2650, IOU:0.73, IOU_no:0.61, Accuracy:0.89, Loss:0.08, 1561s\n",
      "EPOCH 21, IOU: 0.63, IOU_no:0.54, Accuracy: 0.88, Loss: 168.24\n",
      "Training: [=================================================> ], 99%, 2624/2650, IOU:0.63, IOU_no:0.50, Accuracy:0.88, Loss:0.04, 1631s\n",
      "EPOCH 22, IOU: 0.64, IOU_no:0.54, Accuracy: 0.89, Loss: 161.16\n",
      "Training: [=================================================> ], 99%, 2624/2650, IOU:0.62, IOU_no:0.53, Accuracy:0.87, Loss:0.06, 1702s\n",
      "EPOCH 23, IOU: 0.64, IOU_no:0.55, Accuracy: 0.89, Loss: 162.30\n",
      "Training: [=================================================> ], 99%, 2624/2650, IOU:0.56, IOU_no:0.49, Accuracy:0.87, Loss:0.05, 1770s\n",
      "EPOCH 24, IOU: 0.64, IOU_no:0.55, Accuracy: 0.89, Loss: 162.69\n",
      "Training: [=================================================> ], 99%, 2624/2650, IOU:0.63, IOU_no:0.52, Accuracy:0.87, Loss:0.05, 1840s\n",
      "EPOCH 25, IOU: 0.64, IOU_no:0.55, Accuracy: 0.89, Loss: 160.79\n",
      "Training: [=================================================> ], 99%, 2624/2650, IOU:0.68, IOU_no:0.55, Accuracy:0.89, Loss:0.07, 1912s\n",
      "EPOCH 26, IOU: 0.64, IOU_no:0.55, Accuracy: 0.89, Loss: 159.42\n",
      "Training: [=================================================> ], 99%, 2624/2650, IOU:0.76, IOU_no:0.63, Accuracy:0.92, Loss:0.05, 1984s\n",
      "EPOCH 27, IOU: 0.64, IOU_no:0.55, Accuracy: 0.89, Loss: 160.46\n",
      "Training: [=================================================> ], 99%, 2624/2650, IOU:0.65, IOU_no:0.56, Accuracy:0.89, Loss:0.06, 2056s\n",
      "EPOCH 28, IOU: 0.64, IOU_no:0.55, Accuracy: 0.89, Loss: 154.90\n",
      "Training: [=================================================> ], 99%, 2624/2650, IOU:0.73, IOU_no:0.61, Accuracy:0.90, Loss:0.05, 2125s\n",
      "EPOCH 29, IOU: 0.65, IOU_no:0.55, Accuracy: 0.89, Loss: 158.57\n",
      "Training: [=================================================> ], 99%, 2624/2650, IOU:0.66, IOU_no:0.55, Accuracy:0.88, Loss:0.05, 2196s\n",
      "EPOCH 30, IOU: 0.65, IOU_no:0.55, Accuracy: 0.89, Loss: 157.49\n",
      "Training: [=================================================> ], 99%, 2624/2650, IOU:0.70, IOU_no:0.60, Accuracy:0.89, Loss:0.06, 2267s\n",
      "EPOCH 31, IOU: 0.66, IOU_no:0.56, Accuracy: 0.89, Loss: 156.52\n",
      "Training: [=================================================> ], 99%, 2624/2650, IOU:0.55, IOU_no:0.45, Accuracy:0.87, Loss:0.06, 2341s\n",
      "EPOCH 32, IOU: 0.66, IOU_no:0.56, Accuracy: 0.89, Loss: 158.50\n",
      "Training: [=================================================> ], 99%, 2624/2650, IOU:0.53, IOU_no:0.45, Accuracy:0.87, Loss:0.05, 2415s\n",
      "EPOCH 33, IOU: 0.65, IOU_no:0.56, Accuracy: 0.89, Loss: 154.77\n",
      "Training: [=================================================> ], 99%, 2624/2650, IOU:0.65, IOU_no:0.56, Accuracy:0.91, Loss:0.06, 2487s\n",
      "EPOCH 34, IOU: 0.65, IOU_no:0.56, Accuracy: 0.89, Loss: 154.13\n",
      "Training: [=================================================> ], 99%, 2624/2650, IOU:0.71, IOU_no:0.58, Accuracy:0.90, Loss:0.05, 2559s\n",
      "EPOCH 35, IOU: 0.66, IOU_no:0.57, Accuracy: 0.90, Loss: 151.89\n",
      "Training: [=================================================> ], 99%, 2624/2650, IOU:0.52, IOU_no:0.44, Accuracy:0.89, Loss:0.04, 2632s\n",
      "EPOCH 36, IOU: 0.66, IOU_no:0.56, Accuracy: 0.90, Loss: 152.60\n",
      "Training: [=================================================> ], 99%, 2624/2650, IOU:0.68, IOU_no:0.58, Accuracy:0.91, Loss:0.05, 2706s\n",
      "EPOCH 37, IOU: 0.66, IOU_no:0.56, Accuracy: 0.90, Loss: 150.09\n",
      "Training: [=================================================> ], 99%, 2624/2650, IOU:0.46, IOU_no:0.37, Accuracy:0.87, Loss:0.04, 2783s\n",
      "EPOCH 38, IOU: 0.66, IOU_no:0.57, Accuracy: 0.90, Loss: 150.87\n",
      "Training: [=================================================> ], 99%, 2624/2650, IOU:0.67, IOU_no:0.54, Accuracy:0.88, Loss:0.05, 2860s\n",
      "EPOCH 39, IOU: 0.66, IOU_no:0.57, Accuracy: 0.90, Loss: 149.58\n",
      "Training: [=================================================> ], 99%, 2624/2650, IOU:0.59, IOU_no:0.50, Accuracy:0.88, Loss:0.05, 2936s\n",
      "EPOCH 40, IOU: 0.66, IOU_no:0.57, Accuracy: 0.90, Loss: 150.93\n",
      "Training: [=================================================> ], 99%, 2624/2650, IOU:0.68, IOU_no:0.58, Accuracy:0.91, Loss:0.05, 3012s\n",
      "EPOCH 41, IOU: 0.66, IOU_no:0.56, Accuracy: 0.90, Loss: 149.82\n",
      "Training: [=================================================> ], 99%, 2624/2650, IOU:0.64, IOU_no:0.55, Accuracy:0.90, Loss:0.06, 3089s\n",
      "EPOCH 42, IOU: 0.66, IOU_no:0.57, Accuracy: 0.90, Loss: 149.41\n",
      "Training: [=================================================> ], 99%, 2624/2650, IOU:0.58, IOU_no:0.48, Accuracy:0.88, Loss:0.05, 3167s\n",
      "EPOCH 43, IOU: 0.67, IOU_no:0.57, Accuracy: 0.90, Loss: 148.94\n",
      "Training: [=================================================> ], 99%, 2624/2650, IOU:0.64, IOU_no:0.51, Accuracy:0.89, Loss:0.06, 3244s\n",
      "EPOCH 44, IOU: 0.67, IOU_no:0.57, Accuracy: 0.90, Loss: 150.44\n",
      "Training: [=================================================> ], 99%, 2624/2650, IOU:0.57, IOU_no:0.47, Accuracy:0.88, Loss:0.05, 3321s\n",
      "EPOCH 45, IOU: 0.65, IOU_no:0.56, Accuracy: 0.89, Loss: 152.20\n",
      "Training: [=================================================> ], 99%, 2624/2650, IOU:0.63, IOU_no:0.55, Accuracy:0.90, Loss:0.05, 3400s\n",
      "EPOCH 46, IOU: 0.67, IOU_no:0.58, Accuracy: 0.90, Loss: 146.22\n",
      "Training: [=================================================> ], 99%, 2624/2650, IOU:0.55, IOU_no:0.47, Accuracy:0.88, Loss:0.05, 3479s\n",
      "EPOCH 47, IOU: 0.67, IOU_no:0.58, Accuracy: 0.90, Loss: 144.61\n",
      "Training: [=================================================> ], 99%, 2624/2650, IOU:0.69, IOU_no:0.60, Accuracy:0.92, Loss:0.06, 3558s\n",
      "EPOCH 48, IOU: 0.66, IOU_no:0.57, Accuracy: 0.90, Loss: 147.64\n",
      "Training: [=================================================> ], 99%, 2624/2650, IOU:0.80, IOU_no:0.70, Accuracy:0.91, Loss:0.07, 3638s\n",
      "EPOCH 49, IOU: 0.66, IOU_no:0.57, Accuracy: 0.90, Loss: 146.88\n",
      "Training: [=================================================> ], 99%, 2624/2650, IOU:0.65, IOU_no:0.55, Accuracy:0.90, Loss:0.05, 3717s\n",
      "EPOCH 50, IOU: 0.67, IOU_no:0.58, Accuracy: 0.90, Loss: 144.67\n",
      "Training: [=================================================> ], 99%, 2624/2650, IOU:0.63, IOU_no:0.53, Accuracy:0.89, Loss:0.04, 3796s\n",
      "EPOCH 51, IOU: 0.68, IOU_no:0.58, Accuracy: 0.90, Loss: 143.73\n",
      "Training: [=================================================> ], 99%, 2624/2650, IOU:0.60, IOU_no:0.54, Accuracy:0.89, Loss:0.06, 3875s\n",
      "EPOCH 52, IOU: 0.67, IOU_no:0.58, Accuracy: 0.90, Loss: 142.45\n",
      "Training: [=================================================> ], 99%, 2624/2650, IOU:0.65, IOU_no:0.58, Accuracy:0.90, Loss:0.06, 3955s\n",
      "EPOCH 53, IOU: 0.68, IOU_no:0.58, Accuracy: 0.90, Loss: 143.15\n",
      "Training: [=================================================> ], 99%, 2624/2650, IOU:0.65, IOU_no:0.57, Accuracy:0.89, Loss:0.06, 4034s\n",
      "EPOCH 54, IOU: 0.67, IOU_no:0.57, Accuracy: 0.90, Loss: 144.01\n",
      "Training: [=================================================> ], 99%, 2624/2650, IOU:0.69, IOU_no:0.61, Accuracy:0.88, Loss:0.07, 4115s\n",
      "EPOCH 55, IOU: 0.68, IOU_no:0.58, Accuracy: 0.90, Loss: 141.12\n",
      "Training: [=================================================> ], 99%, 2624/2650, IOU:0.75, IOU_no:0.65, Accuracy:0.92, Loss:0.06, 4194s\n",
      "EPOCH 56, IOU: 0.69, IOU_no:0.59, Accuracy: 0.91, Loss: 140.82\n",
      "Training: [=================================================> ], 99%, 2624/2650, IOU:0.71, IOU_no:0.65, Accuracy:0.90, Loss:0.07, 4274s\n",
      "EPOCH 57, IOU: 0.67, IOU_no:0.58, Accuracy: 0.90, Loss: 139.87\n",
      "Training: [=================================================> ], 99%, 2624/2650, IOU:0.66, IOU_no:0.58, Accuracy:0.91, Loss:0.05, 4355s\n",
      "EPOCH 58, IOU: 0.67, IOU_no:0.58, Accuracy: 0.90, Loss: 141.61\n",
      "Training: [=================================================> ], 99%, 2624/2650, IOU:0.69, IOU_no:0.57, Accuracy:0.90, Loss:0.04, 4435s\n",
      "EPOCH 59, IOU: 0.67, IOU_no:0.58, Accuracy: 0.90, Loss: 139.58\n",
      "Training: [=================================================> ], 99%, 2624/2650, IOU:0.69, IOU_no:0.55, Accuracy:0.92, Loss:0.04, 4520s\n",
      "EPOCH 60, IOU: 0.67, IOU_no:0.59, Accuracy: 0.90, Loss: 138.99\n",
      "Training: [=================================================> ], 99%, 2624/2650, IOU:0.73, IOU_no:0.65, Accuracy:0.91, Loss:0.06, 4601s\n",
      "EPOCH 61, IOU: 0.68, IOU_no:0.58, Accuracy: 0.91, Loss: 139.01\n",
      "Training: [=================================================> ], 99%, 2624/2650, IOU:0.62, IOU_no:0.54, Accuracy:0.90, Loss:0.04, 4683s\n",
      "EPOCH 62, IOU: 0.68, IOU_no:0.58, Accuracy: 0.90, Loss: 138.51\n",
      "Training: [=================================================> ], 99%, 2624/2650, IOU:0.72, IOU_no:0.59, Accuracy:0.90, Loss:0.05, 4764s\n",
      "EPOCH 63, IOU: 0.68, IOU_no:0.58, Accuracy: 0.91, Loss: 139.88\n",
      "Training: [=================================================> ], 99%, 2624/2650, IOU:0.72, IOU_no:0.65, Accuracy:0.92, Loss:0.05, 4845s\n",
      "EPOCH 64, IOU: 0.68, IOU_no:0.59, Accuracy: 0.91, Loss: 136.08\n",
      "Training: [=================================================> ], 99%, 2624/2650, IOU:0.64, IOU_no:0.57, Accuracy:0.89, Loss:0.05, 4926s\n",
      "EPOCH 65, IOU: 0.68, IOU_no:0.59, Accuracy: 0.91, Loss: 135.53\n",
      "Training: [=================================================> ], 99%, 2624/2650, IOU:0.79, IOU_no:0.71, Accuracy:0.90, Loss:0.07, 5008s\n",
      "EPOCH 66, IOU: 0.69, IOU_no:0.60, Accuracy: 0.91, Loss: 136.00\n",
      "Training: [=================================================> ], 99%, 2624/2650, IOU:0.71, IOU_no:0.64, Accuracy:0.89, Loss:0.06, 5091s\n",
      "EPOCH 67, IOU: 0.68, IOU_no:0.59, Accuracy: 0.91, Loss: 138.22\n",
      "Training: [=================================================> ], 99%, 2624/2650, IOU:0.60, IOU_no:0.52, Accuracy:0.88, Loss:0.06, 5175s\n",
      "EPOCH 68, IOU: 0.68, IOU_no:0.59, Accuracy: 0.91, Loss: 137.13\n",
      "Training: [=================================================> ], 99%, 2624/2650, IOU:0.77, IOU_no:0.65, Accuracy:0.90, Loss:0.04, 5259s\n",
      "EPOCH 69, IOU: 0.69, IOU_no:0.59, Accuracy: 0.91, Loss: 136.95\n"
     ]
    }
   ],
   "source": [
    "batch_size = 32\n",
    "start_time = time.time()\n",
    "learning_rate = 0.1\n",
    "change_step = 16\n",
    "momentum_optimizer = 1\n",
    "adam_step = 0\n",
    "\n",
    "for i in range(0, 300):\n",
    "    train_IOU = 0.0\n",
    "    train_IOU_no_classified = 0.0\n",
    "    train_accuary = 0.0\n",
    "    train_loss = 0.0\n",
    "    rand_indexes = np.random.choice(len(X_train), len(X_train), replace = False)\n",
    "    for j in range(0, len(X_train), batch_size):\n",
    "        X_batch, y_batch = random_augmentation(X_train[rand_indexes[j: j + batch_size]], y_train[rand_indexes[j: j + batch_size]])\n",
    "        _, step_iou, step_iou_no_classified, step_acc, step_loss, step_summary, step_value = sess.run(\n",
    "            [train_step, IOU_op, IOU_op_no_class, acc, loss, summary_op, global_step],\n",
    "            feed_dict = {X_layer: X_batch, y_layer: y_batch, trainning_mode: True,\\\n",
    "                         lr: learning_rate, choose_momentum: momentum_optimizer})\n",
    "        train_IOU += step_iou * X_batch.shape[0]\n",
    "        train_IOU_no_classified += step_iou_no_classified * X_batch.shape[0]\n",
    "        train_accuary += step_acc * X_batch.shape[0]\n",
    "        train_loss += step_loss * X_batch.shape[0]\n",
    "        train_summary_writer.add_summary(step_summary, step_value)\n",
    "\n",
    "        percents = 100 * j / len(X_train)\n",
    "        line_str = \"Training: [{0}>{1}], {2}%, {3}/{4}, IOU:{5:.2f}, IOU_no:{6:.2f}, Accuracy:{7:.2f}, Loss:{8:.2f}, {9}s\".format(\n",
    "            \"=\" * (int(percents) // 2), \" \" * (50 - int(percents) // 2),\n",
    "            int(percents), j, len(X_train), step_iou, step_iou_no_classified, step_acc, step_loss,\n",
    "            int(time.time() - start_time))\n",
    "        sys.stdout.write(\"\\r\" + line_str)\n",
    "    train_IOU /= (len(X_train))\n",
    "    train_IOU_no_classified /= (len(X_train))\n",
    "    train_accuary /= (len(X_train))\n",
    "#     train_loss /= 16\n",
    "    \n",
    "    test_IOU_summary = sess.run(test_summary_IOU_op, feed_dict={test_IOU_input: train_IOU})\n",
    "    train_summary_writer.add_summary(test_IOU_summary, i)\n",
    "    \n",
    "    test_IOU_no_classified_summary = sess.run(test_summary_IOU_op_no_classified, feed_dict={test_IOU_no_class_input: train_IOU_no_classified})\n",
    "    train_summary_writer.add_summary(test_IOU_no_classified_summary, i)\n",
    "    \n",
    "    test_acc_summary = sess.run(test_summary_acc_op, feed_dict={test_acc_input: train_accuary})\n",
    "    train_summary_writer.add_summary(test_acc_summary, i)\n",
    "    \n",
    "    test_loss_summary = sess.run(test_summary_loss_op, feed_dict={test_loss_input: train_loss})\n",
    "    train_summary_writer.add_summary(test_loss_summary, i)\n",
    "    \n",
    "    print()\n",
    "    print(\"EPOCH {0}, IOU: {1:.2f}, IOU_no:{2:.2f}, Accuracy: {3:.2f}, Loss: {4:.2f}\".format(i, train_IOU, train_IOU_no_classified, train_accuary, train_loss))\n",
    "    if i % 1 == 0:\n",
    "        saver = tf.train.Saver()\n",
    "        saver.save(sess, 'my_model/Res_HED/', global_step=i)"
   ]
  },
  {
   "cell_type": "markdown",
   "metadata": {
    "collapsed": true
   },
   "source": []
  },
  {
   "cell_type": "code",
   "execution_count": 5,
   "metadata": {
    "collapsed": false
   },
   "outputs": [
    {
     "name": "stdout",
     "output_type": "stream",
     "text": [
      "INFO:tensorflow:Restoring parameters from my_model/Res_HED/-26\n"
     ]
    },
    {
     "name": "stderr",
     "output_type": "stream",
     "text": [
      "INFO:tensorflow:Restoring parameters from my_model/Res_HED/-26\n"
     ]
    }
   ],
   "source": [
    "saver = tf.train.Saver()\n",
    "saver.restore(sess, \"my_model/Res_HED/-26\")"
   ]
  },
  {
   "cell_type": "code",
   "execution_count": null,
   "metadata": {
    "collapsed": true
   },
   "outputs": [],
   "source": []
  },
  {
   "cell_type": "code",
   "execution_count": 6,
   "metadata": {
    "collapsed": false
   },
   "outputs": [
    {
     "data": {
      "text/plain": [
       "(4000, 15106, 8)"
      ]
     },
     "execution_count": 6,
     "metadata": {},
     "output_type": "execute_result"
    }
   ],
   "source": [
    "# new_data = np.load('../new_data/data.npy', 'r')\n",
    "new_data = np.load('../new_data/new_data.npy', 'r')\n",
    "new_data.shape"
   ]
  },
  {
   "cell_type": "code",
   "execution_count": 22,
   "metadata": {
    "collapsed": true
   },
   "outputs": [],
   "source": [
    "# ensemble\n",
    "pre_label = np.load('../Step_2.2_Rerank/results/remove_small.npy', 'r')\n",
    "pre_label = np.copy(pre_label.reshape(4000, 15106, 1))"
   ]
  },
  {
   "cell_type": "code",
   "execution_count": 23,
   "metadata": {
    "collapsed": false
   },
   "outputs": [
    {
     "data": {
      "text/plain": [
       "((4000, 15106, 1), (4000, 15106, 8))"
      ]
     },
     "execution_count": 23,
     "metadata": {},
     "output_type": "execute_result"
    }
   ],
   "source": [
    "pre_label.shape, new_data.shape"
   ]
  },
  {
   "cell_type": "code",
   "execution_count": 24,
   "metadata": {
    "collapsed": false
   },
   "outputs": [
    {
     "name": "stdout",
     "output_type": "stream",
     "text": [
      "[=================================================>], 2443/2444, 99%, 0.55s "
     ]
    }
   ],
   "source": [
    "pre_label = image_tool.mask_remove_small(pre_label, 400)"
   ]
  },
  {
   "cell_type": "code",
   "execution_count": 25,
   "metadata": {
    "collapsed": false
   },
   "outputs": [
    {
     "data": {
      "text/plain": [
       "(837, 4)"
      ]
     },
     "execution_count": 25,
     "metadata": {},
     "output_type": "execute_result"
    }
   ],
   "source": [
    "new_rects, new_areas, new_contours = image_tool.mask_to_contours_index(np.copy(pre_label))\n",
    "new_rects.shape"
   ]
  },
  {
   "cell_type": "code",
   "execution_count": 26,
   "metadata": {
    "collapsed": true
   },
   "outputs": [],
   "source": [
    "new_label = np.asarray(pre_label, dtype=np.float32).reshape(4000, 15106)\n",
    "tmp_label = np.asarray(pre_label, dtype=np.float32).reshape(4000, 15106)\n",
    "pre_label = pre_label.reshape(4000, 15106)"
   ]
  },
  {
   "cell_type": "code",
   "execution_count": 27,
   "metadata": {
    "collapsed": false
   },
   "outputs": [
    {
     "name": "stdout",
     "output_type": "stream",
     "text": [
      " 100.00 % [==================================================>] 837/837 \t used:37s eta:0 s"
     ]
    }
   ],
   "source": [
    "from utils import ProgressBar\n",
    "pb = ProgressBar(worksum=len(new_rects))\n",
    "pb.startjob()\n",
    "for i in range(len(new_rects)):\n",
    "    left, top, right, bottom = new_rects[i]\n",
    "    \n",
    "    width = right - left\n",
    "    height = bottom - top\n",
    "    \n",
    "    left = max(left - width//4, 0)\n",
    "    top = max(top - height//4, 0)\n",
    "    right = min(right + width//4, 15106)\n",
    "    bottom = min(bottom + width//4, 4000)\n",
    "    \n",
    "    resize_width = (width // 112 + 1) * 112\n",
    "    resize_height = (height // 112 + 1) * 112\n",
    "    \n",
    "    one_result = np.zeros((resize_height, resize_width))\n",
    "    \n",
    "    one_X = cv2.resize(new_data[top:bottom, left:right, :], (resize_width, resize_height))\n",
    "    one_y = pre_label[top:bottom, left:right]\n",
    "    \n",
    "    for i in range(0, resize_width, 112):\n",
    "        for j in range(0, resize_height, 112):\n",
    "            one_label = sess.run(pred, feed_dict={X_layer: one_X[j:j+112, i:i+112, :].reshape(1, 112, 112, 8), trainning_mode:False})\n",
    "            one_result[j:j+112, i:i+112] = one_label.reshape(112, 112)\n",
    "    \n",
    "    one_result = np.asarray(cv2.resize(one_result, (right - left, bottom - top)), dtype=np.float32)\n",
    "    one_result[one_y == 0] = 0\n",
    "    tmp_label[top:bottom, left:right] = 1. - one_result\n",
    "        \n",
    "    pb.complete(1)"
   ]
  },
  {
   "cell_type": "code",
   "execution_count": 28,
   "metadata": {
    "collapsed": false
   },
   "outputs": [
    {
     "data": {
      "text/plain": [
       "((4000, 15106), dtype('float32'))"
      ]
     },
     "execution_count": 28,
     "metadata": {},
     "output_type": "execute_result"
    }
   ],
   "source": [
    "tmp_label.shape, tmp_label.dtype"
   ]
  },
  {
   "cell_type": "code",
   "execution_count": 29,
   "metadata": {
    "collapsed": true
   },
   "outputs": [],
   "source": [
    "np.save('result/Res', tmp_label)"
   ]
  },
  {
   "cell_type": "code",
   "execution_count": null,
   "metadata": {
    "collapsed": true
   },
   "outputs": [],
   "source": []
  },
  {
   "cell_type": "code",
   "execution_count": null,
   "metadata": {
    "collapsed": true
   },
   "outputs": [],
   "source": []
  },
  {
   "cell_type": "code",
   "execution_count": null,
   "metadata": {
    "collapsed": true
   },
   "outputs": [],
   "source": []
  },
  {
   "cell_type": "code",
   "execution_count": 14,
   "metadata": {
    "collapsed": true
   },
   "outputs": [],
   "source": [
    "tmp_label = np.asarray(tmp_label >= 0.5, dtype=np.uint8)"
   ]
  },
  {
   "cell_type": "code",
   "execution_count": 15,
   "metadata": {
    "collapsed": true
   },
   "outputs": [],
   "source": [
    "def mask_replace_non_exist(pre_mask, new_mask, rects, contours, areas, replace_threshold=0.5, delete_threshold=0.2):\n",
    "    mask = np.copy(pre_mask)\n",
    "    for index, rect in enumerate(rects):\n",
    "        new_area = 0\n",
    "        left, top, right, bottom = rect\n",
    "        for i in range(top, bottom):\n",
    "            for j in range(left, right):\n",
    "                if cv2.pointPolygonTest(contours[index], (j, i), False) >= 0 and new_mask[i, j] == 1:\n",
    "                    new_area += 1\n",
    "                    \n",
    "        if new_area <= areas[index] * delete_threshold:\n",
    "            for i in range(top, bottom):\n",
    "                for j in range(left, right):\n",
    "                    if cv2.pointPolygonTest(contours[index], (j, i), False) >= 0:\n",
    "                        mask[i, j] = 0\n",
    "        \n",
    "        elif new_area <= areas[index] * replace_threshold:\n",
    "            for i in range(top, bottom):\n",
    "                for j in range(left, right):\n",
    "                    if cv2.pointPolygonTest(contours[index], (j, i), False) >= 0:\n",
    "                        mask[i, j] = new_mask[i, j]\n",
    "    return mask"
   ]
  },
  {
   "cell_type": "code",
   "execution_count": 16,
   "metadata": {
    "collapsed": true
   },
   "outputs": [],
   "source": [
    "new_label = mask_replace_non_exist(pre_label.reshape(4000, 15106, 1), tmp_label.reshape(4000, 15106, 1), new_rects, new_contours, new_areas)"
   ]
  },
  {
   "cell_type": "code",
   "execution_count": 17,
   "metadata": {
    "collapsed": false
   },
   "outputs": [
    {
     "data": {
      "text/plain": [
       "((4000, 15106, 1), dtype('uint8'))"
      ]
     },
     "execution_count": 17,
     "metadata": {},
     "output_type": "execute_result"
    }
   ],
   "source": [
    "new_label = new_label.reshape(4000, 15106, 1)\n",
    "new_label.shape, new_label.dtype"
   ]
  },
  {
   "cell_type": "code",
   "execution_count": 18,
   "metadata": {
    "collapsed": true
   },
   "outputs": [],
   "source": [
    "np.save('Res_thred', new_label)"
   ]
  },
  {
   "cell_type": "code",
   "execution_count": 19,
   "metadata": {
    "collapsed": true
   },
   "outputs": [],
   "source": [
    "new_label = mask_replace_non_exist(pre_label.reshape(4000, 15106, 1), tmp_label.reshape(4000, 15106, 1), new_rects, new_contours, new_areas, replace_threshold=0.99, delete_threshold=0.01)"
   ]
  },
  {
   "cell_type": "code",
   "execution_count": 20,
   "metadata": {
    "collapsed": false
   },
   "outputs": [
    {
     "data": {
      "text/plain": [
       "((4000, 15106, 1), dtype('uint8'))"
      ]
     },
     "execution_count": 20,
     "metadata": {},
     "output_type": "execute_result"
    }
   ],
   "source": [
    "new_label = new_label.reshape(4000, 15106, 1)\n",
    "new_label.shape, new_label.dtype"
   ]
  },
  {
   "cell_type": "code",
   "execution_count": 21,
   "metadata": {
    "collapsed": true
   },
   "outputs": [],
   "source": [
    "np.save('Res_replace', new_label)"
   ]
  },
  {
   "cell_type": "code",
   "execution_count": null,
   "metadata": {
    "collapsed": true
   },
   "outputs": [],
   "source": []
  }
 ],
 "metadata": {
  "kernelspec": {
   "display_name": "Python 3",
   "language": "python",
   "name": "python3"
  },
  "language_info": {
   "codemirror_mode": {
    "name": "ipython",
    "version": 3
   },
   "file_extension": ".py",
   "mimetype": "text/x-python",
   "name": "python",
   "nbconvert_exporter": "python",
   "pygments_lexer": "ipython3",
   "version": "3.5.2"
  }
 },
 "nbformat": 4,
 "nbformat_minor": 1
}
