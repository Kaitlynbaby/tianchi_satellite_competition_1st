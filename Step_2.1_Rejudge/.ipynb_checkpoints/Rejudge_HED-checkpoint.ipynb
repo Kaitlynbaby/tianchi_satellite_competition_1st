{
 "cells": [
  {
   "cell_type": "code",
   "execution_count": 1,
   "metadata": {
    "collapsed": true
   },
   "outputs": [],
   "source": [
    "from collections import defaultdict\n",
    "import tensorflow as tf\n",
    "import numpy as np\n",
    "import tflearn\n",
    "import matplotlib.pyplot as plt\n",
    "%matplotlib inline\n",
    "plt.rcParams[\"figure.figsize\"] = (20, 10)\n",
    "import cv2\n",
    "from shapely.geometry import MultiPolygon, Polygon\n",
    "import shapely.wkt\n",
    "import shapely.affinity\n",
    "import tifffile as tiff\n",
    "import sys\n",
    "import sklearn\n",
    "import time\n",
    "import PIL\n",
    "from scipy import misc\n",
    "import image_tool"
   ]
  },
  {
   "cell_type": "code",
   "execution_count": 2,
   "metadata": {
    "collapsed": true
   },
   "outputs": [],
   "source": [
    "X_train = np.load('my_data/new_data.npy', 'r')\n",
    "y_train = np.load('my_data/new_label.npy', 'r')\n",
    "y_train = 1. - y_train"
   ]
  },
  {
   "cell_type": "code",
   "execution_count": 3,
   "metadata": {
    "collapsed": false
   },
   "outputs": [
    {
     "data": {
      "text/plain": [
       "((2650, 112, 112, 8), (2650, 112, 112, 1))"
      ]
     },
     "execution_count": 3,
     "metadata": {},
     "output_type": "execute_result"
    }
   ],
   "source": [
    "X_train.shape, y_train.shape"
   ]
  },
  {
   "cell_type": "code",
   "execution_count": null,
   "metadata": {
    "collapsed": true
   },
   "outputs": [],
   "source": []
  },
  {
   "cell_type": "code",
   "execution_count": 4,
   "metadata": {
    "collapsed": false
   },
   "outputs": [],
   "source": [
    "def upsampling_2D(tensor, name, size=(2, 2)):\n",
    "    H, W, _ = tensor.get_shape().as_list()[1:]\n",
    "\n",
    "    H_multi, W_multi = size\n",
    "    target_H = H * H_multi\n",
    "    target_W = W * W_multi\n",
    "\n",
    "    return tf.image.resize_nearest_neighbor(tensor, (target_H, target_W), name=\"upsample_{}\".format(name))\n",
    "\n",
    "def up_sample_conv(net, filters, strides, training, name, activation=tf.nn.relu):\n",
    "    with tf.variable_scope(\"up_sample_{}\".format(name)):\n",
    "        net = tf.layers.conv2d(net, filters, (1, 1), activation=activation, padding=\"same\", name=\"up_conv\")\n",
    "        if strides != 1:\n",
    "            net = upsampling_2D(net, name, size=(strides, strides))\n",
    "        with tf.variable_scope(\"conv_1\"):\n",
    "            conv_1 = tf.layers.conv2d(net, 1, (3, 3), activation=None, padding=\"same\", name=\"conv\")\n",
    "            net = tf.layers.batch_normalization(conv_1, training=training, name=\"bn\")\n",
    "            net = activation(net, name=\"relu\")\n",
    "        with tf.variable_scope(\"conv_2\"):\n",
    "            conv_1 = tf.layers.conv2d(net, 1, (3, 3), activation=None, padding=\"same\", name=\"conv\")\n",
    "            net = tf.layers.batch_normalization(conv_1, training=training, name=\"bn\")\n",
    "            net = activation(net, name=\"relu\")\n",
    "        net = tf.layers.conv2d(net, 1,  [1, 1], activation=None, name=\"Final\")\n",
    "        return net\n",
    "\n",
    "def deconv_transpose(net, size, name):\n",
    "    filters = net.get_shape().as_list()[3]\n",
    "    net = tf.layers.conv2d(net, filters, (1, 1), name='upsample_{}'.format(name))\n",
    "    net = tf.layers.conv2d_transpose(net, 1, size, strides=size, padding='same', name='deconv_{}'.format(name))\n",
    "    return net;\n",
    "\n",
    "def conv_conv_pool(net, n_filters, training, name, pool=True, activation=tf.nn.relu):\n",
    "    with tf.variable_scope(\"layer_{}\".format(name)):\n",
    "        for i, F in enumerate(n_filters):\n",
    "            net = tf.layers.conv2d(net, F, (3, 3), activation=None, padding=\"same\", name=\"conv_{}\".format(i + 1))\n",
    "            net = tf.layers.batch_normalization(net, training=training, name=\"bn_{}\".format(i + 1))\n",
    "            net = activation(net, name=\"relu{}_{}\".format(name, i + 1))\n",
    "\n",
    "        if pool is False:\n",
    "            return net\n",
    "\n",
    "        pool = tf.layers.max_pooling2d(net, (2, 2), strides=(2, 2), name=\"pool_{}\".format(name))\n",
    "        return net, pool\n",
    "    \n",
    "def make_hed(X, training):\n",
    "    with tf.variable_scope(\"Preprocessing\"):\n",
    "        net = X * 2 - 1\n",
    "        net = tf.layers.conv2d(net, 8, (1, 1), name=\"color_space1_adjust\")\n",
    "    conv1, pool1 = conv_conv_pool(net, [16, 16], training, name=1)\n",
    "    conv2, pool2 = conv_conv_pool(pool1, [32, 32], training, name=2)\n",
    "    conv3, pool3 = conv_conv_pool(pool2, [64, 64, 64], training, name=3)\n",
    "    conv4, pool4 = conv_conv_pool(pool3, [128, 128, 128], training, name=4)\n",
    "    conv5 = conv_conv_pool(pool4, [256, 256, 256], training, name=5, pool=False)\n",
    "\n",
    "    deconv1 = up_sample_conv(conv1, 16, 1, training, \"1\")\n",
    "    deconv2 = up_sample_conv(conv2, 32, 2, training, \"2\")\n",
    "    deconv3 = up_sample_conv(conv3, 64, 4, training, \"3\")\n",
    "    deconv4 = up_sample_conv(conv4, 128, 8, training, \"4\")\n",
    "    deconv5 = up_sample_conv(conv5, 256, 16, training, \"5\")\n",
    "    \n",
    "    dsn = tf.concat([deconv1, deconv2, deconv3, deconv4, deconv5], axis=3, name='concat')\n",
    "    dsn = tf.reshape(dsn, [-1, 112, 112, 5])\n",
    "    dsn = tf.layers.conv2d(dsn, 1, (1, 1), name='output', activation=None, padding='same')\n",
    "\n",
    "    return deconv1, deconv2, deconv3, deconv4, deconv5, dsn\n",
    "\n",
    "def IOU_loss(y_pred, y_true):\n",
    "    y_pred = tf.round(1. - y_pred)\n",
    "    y_true = tf.round(1. - y_true)\n",
    "    y_pred = tf.cast(y_pred, tf.float32)\n",
    "    y_true = tf.cast(y_true, tf.float32)\n",
    "    \n",
    "    H, W, _ = y_pred.get_shape().as_list()[1:]\n",
    "    pred_flat = tf.reshape(y_pred, [-1, H * W])\n",
    "    true_flat = tf.reshape(y_true, [-1, H * W])\n",
    "    intersection = 2 * tf.reduce_sum(pred_flat * true_flat, axis=1) + 1e-12\n",
    "    denominator = tf.reduce_sum(pred_flat, axis=1) + tf.reduce_sum(true_flat, axis=1) + 1e-7\n",
    "\n",
    "    return tf.reduce_mean(intersection / denominator)\n",
    "\n",
    "def IOU_no_classified(y_pred, y_true):\n",
    "    y_pred = 1. - y_pred\n",
    "    y_true = 1. - y_true\n",
    "    \n",
    "    H, W, _ = y_pred.get_shape().as_list()[1:]\n",
    "    pred_flat = tf.reshape(y_pred, [-1, H * W])\n",
    "    true_flat = tf.reshape(y_true, [-1, H * W])\n",
    "    intersection = 2 * tf.reduce_sum(pred_flat * true_flat, axis=1) + 1e-12\n",
    "    denominator = tf.reduce_sum(pred_flat, axis=1) + tf.reduce_sum(true_flat, axis=1) + 1e-7\n",
    "\n",
    "    return tf.reduce_mean(intersection / denominator)\n",
    "\n",
    "def class_balanced_sigmoid_cross_entropy(y_true, y_pred):\n",
    "    y = tf.cast(y_true, tf.float32)\n",
    "    \n",
    "    count_neg = tf.reduce_sum(1. - y) + 1\n",
    "    count_pos = tf.reduce_sum(y) + 1\n",
    "    beta = count_neg / (count_neg + count_pos + 2)\n",
    "    \n",
    "    pos_weight = beta / (1 - beta)\n",
    "    cost = tf.nn.weighted_cross_entropy_with_logits(y, y_pred, pos_weight)\n",
    "    cost = tf.reduce_mean(cost * (1 - beta))\n",
    "    \n",
    "    return cost"
   ]
  },
  {
   "cell_type": "code",
   "execution_count": 5,
   "metadata": {
    "collapsed": true
   },
   "outputs": [],
   "source": [
    "tf.reset_default_graph()\n",
    "config = tf.ConfigProto()\n",
    "config.gpu_options.allow_growth = True\n",
    "config.allow_soft_placement=True\n",
    "sess = tf.Session(config=config)\n",
    "with tf.device(\"/gpu:2\"):\n",
    "    global_step_tensor = tf.Variable(1, trainable=False, name='global_step')\n",
    "    with tf.variable_scope(\"X_Input_Layer\"):\n",
    "        X_layer = tf.placeholder(shape=[None, 112, 112, 8], dtype=tf.float32, name=\"X_layer\")\n",
    "    with tf.variable_scope(\"Y_Input_Layer\"):\n",
    "        y_layer = tf.placeholder(shape=[None, 112, 112, 1], dtype=tf.float32, name=\"y_layer\")\n",
    "    with tf.variable_scope(\"Mode_Layer\"):\n",
    "        trainning_mode = tf.placeholder(tf.bool, name=\"Mode\")\n",
    "    d1, d2, d3, d4, d5, pred_not_sigmoid = make_hed(X_layer, trainning_mode)\n",
    "    pred = tf.nn.sigmoid(pred_not_sigmoid)\n",
    "    tf.summary.image(\"Predicted_Mask\", pred)\n",
    "    X_layer_2015 = X_layer[:, :, :, :3]\n",
    "    X_layer_2017 = X_layer[:, :, :, 4:7]\n",
    "    tf.summary.image(\"2015\", X_layer_2015)\n",
    "    tf.summary.image(\"2017\", X_layer_2017)\n",
    "    tf.summary.image(\"Label\", y_layer)\n",
    "    \n",
    "    with tf.variable_scope(\"Accuracy\"):\n",
    "        pred_int = tf.cast(tf.round(pred, name=\"round_pred\"), dtype=tf.int32, name=\"cast_pred\")\n",
    "        y_int = tf.cast(tf.round(y_layer, name=\"round_y\"), dtype=tf.int32, name=\"cast_y\")\n",
    "        acc = tf.contrib.metrics.accuracy(y_int, pred_int)\n",
    "        tf.summary.scalar(\"Accuracy\", acc)\n",
    "        \n",
    "    with tf.variable_scope(\"Loss\"):\n",
    "        loss = class_balanced_sigmoid_cross_entropy(y_layer, pred_not_sigmoid)\n",
    "        tf.summary.scalar(\"Loss\", loss)\n",
    "    \n",
    "    with tf.variable_scope(\"IOU\"):\n",
    "        IOU_op = IOU_loss(pred, y_layer)\n",
    "        tf.summary.scalar(\"IOU\", IOU_op)\n",
    "        \n",
    "    with tf.variable_scope(\"IOU_no_classified\"):\n",
    "        IOU_op_no_class = IOU_no_classified(pred, y_layer)\n",
    "        tf.summary.scalar(\"IOU_no_classified\", IOU_op_no_class)\n",
    "        \n",
    "    summary_op = tf.summary.merge_all()\n",
    "    \n",
    "    with tf.variable_scope(\"Test_Summary_INPUT\"):\n",
    "        test_IOU_input = tf.placeholder(dtype=tf.float32, name=\"Summary_INPUT_IOU\")\n",
    "        test_IOU_no_class_input = tf.placeholder(dtype=tf.float32, name=\"Summary_INPUT_IOU_NO_CLASSIFY\")\n",
    "        test_acc_input = tf.placeholder(dtype=tf.float32, name=\"Summary_INPUT_Acc\")\n",
    "        test_loss_input = tf.placeholder(dtype=tf.float32, name=\"Summary_INPUT_Loss\")\n",
    "    test_summary_IOU_op = tf.summary.scalar(\"epoch/IOU\", test_IOU_input)\n",
    "    test_summary_IOU_op_no_classified = tf.summary.scalar(\"epoch/IOU_no_classified\", test_IOU_no_class_input)\n",
    "    test_summary_acc_op = tf.summary.scalar(\"epoch/Accuracy\", test_acc_input)\n",
    "    test_summary_loss_op = tf.summary.scalar(\"epoch/Loss\", test_loss_input)\n",
    "\n",
    "    lr = tf.placeholder(tf.float32, name='Learning_Rate')\n",
    "    choose_momentum = tf.placeholder(tf.int32, name='Choose_Optimizer')\n",
    "    update_ops = tf.get_collection(tf.GraphKeys.UPDATE_OPS)\n",
    "    with tf.control_dependencies(update_ops):\n",
    "        global_step = tf.train.get_global_step()\n",
    "        if choose_momentum == 1:\n",
    "            train_step = tf.train.MomentumOptimizer(learning_rate=lr, momentum=0.9).minimize(loss, global_step=global_step)\n",
    "        else:\n",
    "            train_step = tf.train.AdamOptimizer().minimize(loss, global_step=global_step)"
   ]
  },
  {
   "cell_type": "code",
   "execution_count": 6,
   "metadata": {
    "collapsed": true
   },
   "outputs": [],
   "source": [
    "!rm -rf tmp/HED/log_train\n",
    "!rm -rf tmp/HED/log_test"
   ]
  },
  {
   "cell_type": "code",
   "execution_count": 7,
   "metadata": {
    "collapsed": true
   },
   "outputs": [],
   "source": [
    "train_summary_writer = tf.summary.FileWriter(\"tmp/HED/log_train\", sess.graph)\n",
    "test_summary_writer  = tf.summary.FileWriter(\"tmp/HED/log_test\", sess.graph)"
   ]
  },
  {
   "cell_type": "code",
   "execution_count": 8,
   "metadata": {
    "collapsed": false
   },
   "outputs": [
    {
     "name": "stdout",
     "output_type": "stream",
     "text": [
      "INFO:tensorflow:Restoring parameters from ../Step_1_Prediction/my_model/HED/-215\n"
     ]
    },
    {
     "data": {
      "text/plain": [
       "355889"
      ]
     },
     "execution_count": 8,
     "metadata": {},
     "output_type": "execute_result"
    }
   ],
   "source": [
    "# sess.run(tf.global_variables_initializer())\n",
    "saver = tf.train.Saver()\n",
    "saver.restore(sess, \"../Step_1_Prediction/my_model/HED/-215\")\n",
    "tf.train.global_step(sess, global_step_tensor)"
   ]
  },
  {
   "cell_type": "code",
   "execution_count": 9,
   "metadata": {
    "collapsed": true
   },
   "outputs": [],
   "source": [
    "def random_augmentation(imges, labels):\n",
    "    au_images = []\n",
    "    au_labels = []\n",
    "    for i in range(len(imges)):\n",
    "        img_tmp = np.copy(imges[i])\n",
    "        label_tmp = np.copy(labels[i])\n",
    "        rand_flip = np.random.randint(0, 4)\n",
    "        rand_rotat = np.random.randint(0, 4)\n",
    "        rand_change = np.random.randint(0, 2)\n",
    "        if rand_flip != 3:\n",
    "            img_tmp = cv2.flip(img_tmp, rand_flip - 1)\n",
    "            label_tmp = cv2.flip(label_tmp, rand_flip - 1)\n",
    "        M = cv2.getRotationMatrix2D((56, 56), rand_rotat*90, 1.0)\n",
    "        img_tmp = cv2.warpAffine(img_tmp, M, (112, 112))\n",
    "        label_tmp = cv2.warpAffine(label_tmp, M, (112, 112))\n",
    "        if rand_change == 1:\n",
    "            mean1 = np.mean(img_tmp[:, :, :4])\n",
    "            mean2 = np.mean(img_tmp[:, :, 4:])\n",
    "            rand_std1 = np.random.ranf() * 0.4 + 0.8\n",
    "            rand_std2 = np.random.ranf() * 0.4 + 0.8\n",
    "            rand_mean1 = (np.random.ranf() * 0.4 - 0.2) * mean1\n",
    "            rand_mean2 = (np.random.ranf() * 0.4 - 0.2) * mean2\n",
    "            img_tmp[:, :, :4] = (img_tmp[:, :, :4] * rand_std1 + rand_mean1).clip(0, 1)\n",
    "            img_tmp[:, :, 4:] = (img_tmp[:, :, 4:] * rand_std2 + rand_mean2).clip(0, 1)\n",
    "        au_images.append(img_tmp)\n",
    "        au_labels.append(label_tmp)\n",
    "    au_images = np.asarray(au_images)\n",
    "    au_labels = np.asarray(au_labels).reshape(-1, 112, 112, 1)\n",
    "    return au_images, au_labels"
   ]
  },
  {
   "cell_type": "code",
   "execution_count": 16,
   "metadata": {
    "collapsed": false,
    "scrolled": true
   },
   "outputs": [
    {
     "name": "stdout",
     "output_type": "stream",
     "text": [
      "Training: [=================================================> ], 99%, 2624/2650, IOU:0.70, IOU_no:0.63, Accuracy:0.93, Loss:0.03, 55s\n",
      "EPOCH 0, IOU: 0.75, IOU_no:0.67, Accuracy: 0.93, Loss: 103.45\n",
      "Training: [=================================================> ], 99%, 2624/2650, IOU:0.63, IOU_no:0.59, Accuracy:0.92, Loss:0.04, 147s\n",
      "EPOCH 1, IOU: 0.74, IOU_no:0.67, Accuracy: 0.93, Loss: 102.90\n",
      "Training: [=================================================> ], 99%, 2624/2650, IOU:0.65, IOU_no:0.60, Accuracy:0.93, Loss:0.05, 238s\n",
      "EPOCH 2, IOU: 0.74, IOU_no:0.67, Accuracy: 0.93, Loss: 102.88\n",
      "Training: [=================================================> ], 99%, 2624/2650, IOU:0.87, IOU_no:0.81, Accuracy:0.94, Loss:0.06, 391s\n",
      "EPOCH 3, IOU: 0.75, IOU_no:0.67, Accuracy: 0.93, Loss: 102.93\n",
      "Training: [=================================================> ], 99%, 2624/2650, IOU:0.72, IOU_no:0.65, Accuracy:0.93, Loss:0.04, 492s\n",
      "EPOCH 4, IOU: 0.75, IOU_no:0.68, Accuracy: 0.93, Loss: 101.12\n",
      "Training: [=================================================> ], 99%, 2624/2650, IOU:0.72, IOU_no:0.67, Accuracy:0.94, Loss:0.04, 674s\n",
      "EPOCH 5, IOU: 0.74, IOU_no:0.66, Accuracy: 0.93, Loss: 104.07\n",
      "Training: [=================================================> ], 99%, 2624/2650, IOU:0.76, IOU_no:0.70, Accuracy:0.93, Loss:0.05, 880s\n",
      "EPOCH 6, IOU: 0.75, IOU_no:0.68, Accuracy: 0.93, Loss: 101.09\n",
      "Training: [=================================================> ], 99%, 2624/2650, IOU:0.79, IOU_no:0.73, Accuracy:0.92, Loss:0.08, 989s\n",
      "EPOCH 7, IOU: 0.74, IOU_no:0.67, Accuracy: 0.93, Loss: 104.18\n",
      "Training: [=================================================> ], 99%, 2624/2650, IOU:0.65, IOU_no:0.60, Accuracy:0.94, Loss:0.04, 1084s\n",
      "EPOCH 8, IOU: 0.74, IOU_no:0.67, Accuracy: 0.93, Loss: 102.54\n",
      "Training: [=================================================> ], 99%, 2624/2650, IOU:0.81, IOU_no:0.74, Accuracy:0.94, Loss:0.05, 1178s\n",
      "EPOCH 9, IOU: 0.74, IOU_no:0.67, Accuracy: 0.93, Loss: 101.24\n",
      "Training: [=================================================> ], 99%, 2624/2650, IOU:0.66, IOU_no:0.56, Accuracy:0.93, Loss:0.03, 1278s\n",
      "EPOCH 10, IOU: 0.74, IOU_no:0.66, Accuracy: 0.93, Loss: 108.73\n",
      "Training: [==>                                                ], 4%, 128/2650, IOU:0.71, IOU_no:0.64, Accuracy:0.92, Loss:0.03, 1323s"
     ]
    },
    {
     "ename": "KeyboardInterrupt",
     "evalue": "",
     "output_type": "error",
     "traceback": [
      "\u001b[0;31m---------------------------------------------------------------------------\u001b[0m",
      "\u001b[0;31mKeyboardInterrupt\u001b[0m                         Traceback (most recent call last)",
      "\u001b[0;32m<ipython-input-16-60ad4fa20ea5>\u001b[0m in \u001b[0;36m<module>\u001b[0;34m()\u001b[0m\n\u001b[1;32m     17\u001b[0m             \u001b[0;34m[\u001b[0m\u001b[0mtrain_step\u001b[0m\u001b[0;34m,\u001b[0m \u001b[0mIOU_op\u001b[0m\u001b[0;34m,\u001b[0m \u001b[0mIOU_op_no_class\u001b[0m\u001b[0;34m,\u001b[0m \u001b[0macc\u001b[0m\u001b[0;34m,\u001b[0m \u001b[0mloss\u001b[0m\u001b[0;34m,\u001b[0m \u001b[0msummary_op\u001b[0m\u001b[0;34m,\u001b[0m \u001b[0mglobal_step\u001b[0m\u001b[0;34m]\u001b[0m\u001b[0;34m,\u001b[0m\u001b[0;34m\u001b[0m\u001b[0m\n\u001b[1;32m     18\u001b[0m             feed_dict = {X_layer: X_batch, y_layer: y_batch, trainning_mode: True,\\\n\u001b[0;32m---> 19\u001b[0;31m                          lr: learning_rate, choose_momentum: momentum_optimizer})\n\u001b[0m\u001b[1;32m     20\u001b[0m         \u001b[0mtrain_IOU\u001b[0m \u001b[0;34m+=\u001b[0m \u001b[0mstep_iou\u001b[0m \u001b[0;34m*\u001b[0m \u001b[0mX_batch\u001b[0m\u001b[0;34m.\u001b[0m\u001b[0mshape\u001b[0m\u001b[0;34m[\u001b[0m\u001b[0;36m0\u001b[0m\u001b[0;34m]\u001b[0m\u001b[0;34m\u001b[0m\u001b[0m\n\u001b[1;32m     21\u001b[0m         \u001b[0mtrain_IOU_no_classified\u001b[0m \u001b[0;34m+=\u001b[0m \u001b[0mstep_iou_no_classified\u001b[0m \u001b[0;34m*\u001b[0m \u001b[0mX_batch\u001b[0m\u001b[0;34m.\u001b[0m\u001b[0mshape\u001b[0m\u001b[0;34m[\u001b[0m\u001b[0;36m0\u001b[0m\u001b[0;34m]\u001b[0m\u001b[0;34m\u001b[0m\u001b[0m\n",
      "\u001b[0;32m/usr/local/lib/python3.5/dist-packages/tensorflow/python/client/session.py\u001b[0m in \u001b[0;36mrun\u001b[0;34m(self, fetches, feed_dict, options, run_metadata)\u001b[0m\n\u001b[1;32m    787\u001b[0m     \u001b[0;32mtry\u001b[0m\u001b[0;34m:\u001b[0m\u001b[0;34m\u001b[0m\u001b[0m\n\u001b[1;32m    788\u001b[0m       result = self._run(None, fetches, feed_dict, options_ptr,\n\u001b[0;32m--> 789\u001b[0;31m                          run_metadata_ptr)\n\u001b[0m\u001b[1;32m    790\u001b[0m       \u001b[0;32mif\u001b[0m \u001b[0mrun_metadata\u001b[0m\u001b[0;34m:\u001b[0m\u001b[0;34m\u001b[0m\u001b[0m\n\u001b[1;32m    791\u001b[0m         \u001b[0mproto_data\u001b[0m \u001b[0;34m=\u001b[0m \u001b[0mtf_session\u001b[0m\u001b[0;34m.\u001b[0m\u001b[0mTF_GetBuffer\u001b[0m\u001b[0;34m(\u001b[0m\u001b[0mrun_metadata_ptr\u001b[0m\u001b[0;34m)\u001b[0m\u001b[0;34m\u001b[0m\u001b[0m\n",
      "\u001b[0;32m/usr/local/lib/python3.5/dist-packages/tensorflow/python/client/session.py\u001b[0m in \u001b[0;36m_run\u001b[0;34m(self, handle, fetches, feed_dict, options, run_metadata)\u001b[0m\n\u001b[1;32m    995\u001b[0m     \u001b[0;32mif\u001b[0m \u001b[0mfinal_fetches\u001b[0m \u001b[0;32mor\u001b[0m \u001b[0mfinal_targets\u001b[0m\u001b[0;34m:\u001b[0m\u001b[0;34m\u001b[0m\u001b[0m\n\u001b[1;32m    996\u001b[0m       results = self._do_run(handle, final_targets, final_fetches,\n\u001b[0;32m--> 997\u001b[0;31m                              feed_dict_string, options, run_metadata)\n\u001b[0m\u001b[1;32m    998\u001b[0m     \u001b[0;32melse\u001b[0m\u001b[0;34m:\u001b[0m\u001b[0;34m\u001b[0m\u001b[0m\n\u001b[1;32m    999\u001b[0m       \u001b[0mresults\u001b[0m \u001b[0;34m=\u001b[0m \u001b[0;34m[\u001b[0m\u001b[0;34m]\u001b[0m\u001b[0;34m\u001b[0m\u001b[0m\n",
      "\u001b[0;32m/usr/local/lib/python3.5/dist-packages/tensorflow/python/client/session.py\u001b[0m in \u001b[0;36m_do_run\u001b[0;34m(self, handle, target_list, fetch_list, feed_dict, options, run_metadata)\u001b[0m\n\u001b[1;32m   1130\u001b[0m     \u001b[0;32mif\u001b[0m \u001b[0mhandle\u001b[0m \u001b[0;32mis\u001b[0m \u001b[0;32mNone\u001b[0m\u001b[0;34m:\u001b[0m\u001b[0;34m\u001b[0m\u001b[0m\n\u001b[1;32m   1131\u001b[0m       return self._do_call(_run_fn, self._session, feed_dict, fetch_list,\n\u001b[0;32m-> 1132\u001b[0;31m                            target_list, options, run_metadata)\n\u001b[0m\u001b[1;32m   1133\u001b[0m     \u001b[0;32melse\u001b[0m\u001b[0;34m:\u001b[0m\u001b[0;34m\u001b[0m\u001b[0m\n\u001b[1;32m   1134\u001b[0m       return self._do_call(_prun_fn, self._session, handle, feed_dict,\n",
      "\u001b[0;32m/usr/local/lib/python3.5/dist-packages/tensorflow/python/client/session.py\u001b[0m in \u001b[0;36m_do_call\u001b[0;34m(self, fn, *args)\u001b[0m\n\u001b[1;32m   1137\u001b[0m   \u001b[0;32mdef\u001b[0m \u001b[0m_do_call\u001b[0m\u001b[0;34m(\u001b[0m\u001b[0mself\u001b[0m\u001b[0;34m,\u001b[0m \u001b[0mfn\u001b[0m\u001b[0;34m,\u001b[0m \u001b[0;34m*\u001b[0m\u001b[0margs\u001b[0m\u001b[0;34m)\u001b[0m\u001b[0;34m:\u001b[0m\u001b[0;34m\u001b[0m\u001b[0m\n\u001b[1;32m   1138\u001b[0m     \u001b[0;32mtry\u001b[0m\u001b[0;34m:\u001b[0m\u001b[0;34m\u001b[0m\u001b[0m\n\u001b[0;32m-> 1139\u001b[0;31m       \u001b[0;32mreturn\u001b[0m \u001b[0mfn\u001b[0m\u001b[0;34m(\u001b[0m\u001b[0;34m*\u001b[0m\u001b[0margs\u001b[0m\u001b[0;34m)\u001b[0m\u001b[0;34m\u001b[0m\u001b[0m\n\u001b[0m\u001b[1;32m   1140\u001b[0m     \u001b[0;32mexcept\u001b[0m \u001b[0merrors\u001b[0m\u001b[0;34m.\u001b[0m\u001b[0mOpError\u001b[0m \u001b[0;32mas\u001b[0m \u001b[0me\u001b[0m\u001b[0;34m:\u001b[0m\u001b[0;34m\u001b[0m\u001b[0m\n\u001b[1;32m   1141\u001b[0m       \u001b[0mmessage\u001b[0m \u001b[0;34m=\u001b[0m \u001b[0mcompat\u001b[0m\u001b[0;34m.\u001b[0m\u001b[0mas_text\u001b[0m\u001b[0;34m(\u001b[0m\u001b[0me\u001b[0m\u001b[0;34m.\u001b[0m\u001b[0mmessage\u001b[0m\u001b[0;34m)\u001b[0m\u001b[0;34m\u001b[0m\u001b[0m\n",
      "\u001b[0;32m/usr/local/lib/python3.5/dist-packages/tensorflow/python/client/session.py\u001b[0m in \u001b[0;36m_run_fn\u001b[0;34m(session, feed_dict, fetch_list, target_list, options, run_metadata)\u001b[0m\n\u001b[1;32m   1119\u001b[0m         return tf_session.TF_Run(session, options,\n\u001b[1;32m   1120\u001b[0m                                  \u001b[0mfeed_dict\u001b[0m\u001b[0;34m,\u001b[0m \u001b[0mfetch_list\u001b[0m\u001b[0;34m,\u001b[0m \u001b[0mtarget_list\u001b[0m\u001b[0;34m,\u001b[0m\u001b[0;34m\u001b[0m\u001b[0m\n\u001b[0;32m-> 1121\u001b[0;31m                                  status, run_metadata)\n\u001b[0m\u001b[1;32m   1122\u001b[0m \u001b[0;34m\u001b[0m\u001b[0m\n\u001b[1;32m   1123\u001b[0m     \u001b[0;32mdef\u001b[0m \u001b[0m_prun_fn\u001b[0m\u001b[0;34m(\u001b[0m\u001b[0msession\u001b[0m\u001b[0;34m,\u001b[0m \u001b[0mhandle\u001b[0m\u001b[0;34m,\u001b[0m \u001b[0mfeed_dict\u001b[0m\u001b[0;34m,\u001b[0m \u001b[0mfetch_list\u001b[0m\u001b[0;34m)\u001b[0m\u001b[0;34m:\u001b[0m\u001b[0;34m\u001b[0m\u001b[0m\n",
      "\u001b[0;31mKeyboardInterrupt\u001b[0m: "
     ]
    }
   ],
   "source": [
    "batch_size = 32\n",
    "start_time = time.time()\n",
    "learning_rate = 0.0001\n",
    "change_step = 16\n",
    "momentum_optimizer = 1\n",
    "adam_step = 0\n",
    "\n",
    "for i in range(0, 300):\n",
    "    train_IOU = 0.0\n",
    "    train_IOU_no_classified = 0.0\n",
    "    train_accuary = 0.0\n",
    "    train_loss = 0.0\n",
    "    rand_indexes = np.random.choice(len(X_train), len(X_train), replace = False)\n",
    "    for j in range(0, len(X_train), batch_size):\n",
    "        X_batch, y_batch = random_augmentation(X_train[rand_indexes[j: j + batch_size]], y_train[rand_indexes[j: j + batch_size]])\n",
    "        _, step_iou, step_iou_no_classified, step_acc, step_loss, step_summary, step_value = sess.run(\n",
    "            [train_step, IOU_op, IOU_op_no_class, acc, loss, summary_op, global_step],\n",
    "            feed_dict = {X_layer: X_batch, y_layer: y_batch, trainning_mode: True,\\\n",
    "                         lr: learning_rate, choose_momentum: momentum_optimizer})\n",
    "        train_IOU += step_iou * X_batch.shape[0]\n",
    "        train_IOU_no_classified += step_iou_no_classified * X_batch.shape[0]\n",
    "        train_accuary += step_acc * X_batch.shape[0]\n",
    "        train_loss += step_loss * X_batch.shape[0]\n",
    "        train_summary_writer.add_summary(step_summary, step_value)\n",
    "\n",
    "        percents = 100 * j / len(X_train)\n",
    "        line_str = \"Training: [{0}>{1}], {2}%, {3}/{4}, IOU:{5:.2f}, IOU_no:{6:.2f}, Accuracy:{7:.2f}, Loss:{8:.2f}, {9}s\".format(\n",
    "            \"=\" * (int(percents) // 2), \" \" * (50 - int(percents) // 2),\n",
    "            int(percents), j, len(X_train), step_iou, step_iou_no_classified, step_acc, step_loss,\n",
    "            int(time.time() - start_time))\n",
    "        sys.stdout.write(\"\\r\" + line_str)\n",
    "    train_IOU /= (len(X_train))\n",
    "    train_IOU_no_classified /= (len(X_train))\n",
    "    train_accuary /= (len(X_train))\n",
    "#     train_loss /= 16\n",
    "    \n",
    "    test_IOU_summary = sess.run(test_summary_IOU_op, feed_dict={test_IOU_input: train_IOU})\n",
    "    train_summary_writer.add_summary(test_IOU_summary, i)\n",
    "    \n",
    "    test_IOU_no_classified_summary = sess.run(test_summary_IOU_op_no_classified, feed_dict={test_IOU_no_class_input: train_IOU_no_classified})\n",
    "    train_summary_writer.add_summary(test_IOU_no_classified_summary, i)\n",
    "    \n",
    "    test_acc_summary = sess.run(test_summary_acc_op, feed_dict={test_acc_input: train_accuary})\n",
    "    train_summary_writer.add_summary(test_acc_summary, i)\n",
    "    \n",
    "    test_loss_summary = sess.run(test_summary_loss_op, feed_dict={test_loss_input: train_loss})\n",
    "    train_summary_writer.add_summary(test_loss_summary, i)\n",
    "    \n",
    "    print()\n",
    "    print(\"EPOCH {0}, IOU: {1:.2f}, IOU_no:{2:.2f}, Accuracy: {3:.2f}, Loss: {4:.2f}\".format(i, train_IOU, train_IOU_no_classified, train_accuary, train_loss))\n",
    "    if i % 1 == 0:\n",
    "        saver = tf.train.Saver()\n",
    "        saver.save(sess, 'my_model/HED/', global_step=i)"
   ]
  },
  {
   "cell_type": "markdown",
   "metadata": {
    "collapsed": true
   },
   "source": []
  },
  {
   "cell_type": "code",
   "execution_count": 15,
   "metadata": {
    "collapsed": false
   },
   "outputs": [
    {
     "name": "stdout",
     "output_type": "stream",
     "text": [
      "INFO:tensorflow:Restoring parameters from my_model/HED/-36\n"
     ]
    }
   ],
   "source": [
    "saver = tf.train.Saver()\n",
    "saver.restore(sess, \"my_model/HED/-9\")"
   ]
  },
  {
   "cell_type": "code",
   "execution_count": null,
   "metadata": {
    "collapsed": true
   },
   "outputs": [],
   "source": []
  },
  {
   "cell_type": "code",
   "execution_count": 5,
   "metadata": {
    "collapsed": false
   },
   "outputs": [
    {
     "data": {
      "text/plain": [
       "(4000, 15106, 8)"
      ]
     },
     "execution_count": 5,
     "metadata": {},
     "output_type": "execute_result"
    }
   ],
   "source": [
    "# new_data = np.load('../new_data/data.npy', 'r')\n",
    "new_data = np.load('/data/zonghua/satellite/Final/my_data/part3_data.npy', 'r')\n",
    "new_data.shape"
   ]
  },
  {
   "cell_type": "code",
   "execution_count": 21,
   "metadata": {
    "collapsed": true
   },
   "outputs": [],
   "source": [
    "# ensemble\n",
    "pre_label = np.load('../Step_2.2_Rerank/results/remove_small.npy', 'r')\n",
    "pre_label = np.copy(pre_label.reshape(4000, 15106, 1))"
   ]
  },
  {
   "cell_type": "code",
   "execution_count": 22,
   "metadata": {
    "collapsed": false
   },
   "outputs": [
    {
     "data": {
      "text/plain": [
       "((4000, 15106, 1), (4000, 15106, 8))"
      ]
     },
     "execution_count": 22,
     "metadata": {},
     "output_type": "execute_result"
    }
   ],
   "source": [
    "pre_label.shape, new_data.shape"
   ]
  },
  {
   "cell_type": "code",
   "execution_count": 23,
   "metadata": {
    "collapsed": false
   },
   "outputs": [
    {
     "name": "stdout",
     "output_type": "stream",
     "text": [
      "[=================================================>], 2443/2444, 99%, 0.57s "
     ]
    }
   ],
   "source": [
    "pre_label = image_tool.mask_remove_small(pre_label, 400)"
   ]
  },
  {
   "cell_type": "code",
   "execution_count": 24,
   "metadata": {
    "collapsed": false
   },
   "outputs": [
    {
     "data": {
      "text/plain": [
       "(837, 4)"
      ]
     },
     "execution_count": 24,
     "metadata": {},
     "output_type": "execute_result"
    }
   ],
   "source": [
    "new_rects, new_areas, new_contours = image_tool.mask_to_contours_index(np.copy(pre_label))\n",
    "new_rects.shape"
   ]
  },
  {
   "cell_type": "code",
   "execution_count": 25,
   "metadata": {
    "collapsed": true
   },
   "outputs": [],
   "source": [
    "new_label = np.asarray(pre_label, dtype=np.float32).reshape(4000, 15106)\n",
    "tmp_label = np.asarray(pre_label, dtype=np.float32).reshape(4000, 15106)\n",
    "pre_label = pre_label.reshape(4000, 15106)"
   ]
  },
  {
   "cell_type": "code",
   "execution_count": 26,
   "metadata": {
    "collapsed": false
   },
   "outputs": [
    {
     "name": "stdout",
     "output_type": "stream",
     "text": [
      " 100.00 % [==================================================>] 837/837 \t used:16s eta:0 s"
     ]
    }
   ],
   "source": [
    "from utils import ProgressBar\n",
    "pb = ProgressBar(worksum=len(new_rects))\n",
    "pb.startjob()\n",
    "for i in range(len(new_rects)):\n",
    "    left, top, right, bottom = new_rects[i]\n",
    "    \n",
    "    width = right - left\n",
    "    height = bottom - top\n",
    "    \n",
    "    left = max(left - width//4, 0)\n",
    "    top = max(top - height//4, 0)\n",
    "    right = min(right + width//4, 15106)\n",
    "    bottom = min(bottom + width//4, 4000)\n",
    "    \n",
    "    resize_width = (width // 112 + 1) * 112\n",
    "    resize_height = (height // 112 + 1) * 112\n",
    "    \n",
    "    one_result = np.zeros((resize_height, resize_width))\n",
    "    \n",
    "    one_X = cv2.resize(new_data[top:bottom, left:right, :], (resize_width, resize_height))\n",
    "    one_y = pre_label[top:bottom, left:right]\n",
    "    \n",
    "    for i in range(0, resize_width, 112):\n",
    "        for j in range(0, resize_height, 112):\n",
    "            one_label = sess.run(pred, feed_dict={X_layer: one_X[j:j+112, i:i+112, :].reshape(1, 112, 112, 8), trainning_mode:False})\n",
    "            one_result[j:j+112, i:i+112] = one_label.reshape(112, 112)\n",
    "    \n",
    "    one_result = np.asarray(cv2.resize(one_result, (right - left, bottom - top)), dtype=np.float32)\n",
    "    one_result[one_y == 0] = 0\n",
    "    tmp_label[top:bottom, left:right] = 1. - one_result\n",
    "        \n",
    "    pb.complete(1)"
   ]
  },
  {
   "cell_type": "code",
   "execution_count": 27,
   "metadata": {
    "collapsed": false
   },
   "outputs": [
    {
     "data": {
      "text/plain": [
       "((4000, 15106), dtype('float32'))"
      ]
     },
     "execution_count": 27,
     "metadata": {},
     "output_type": "execute_result"
    }
   ],
   "source": [
    "tmp_label.shape, tmp_label.dtype"
   ]
  },
  {
   "cell_type": "code",
   "execution_count": 28,
   "metadata": {
    "collapsed": true
   },
   "outputs": [],
   "source": [
    "np.save('result/HED', tmp_label)"
   ]
  },
  {
   "cell_type": "code",
   "execution_count": null,
   "metadata": {
    "collapsed": true
   },
   "outputs": [],
   "source": []
  },
  {
   "cell_type": "code",
   "execution_count": null,
   "metadata": {
    "collapsed": true
   },
   "outputs": [],
   "source": []
  },
  {
   "cell_type": "code",
   "execution_count": null,
   "metadata": {
    "collapsed": true
   },
   "outputs": [],
   "source": []
  },
  {
   "cell_type": "code",
   "execution_count": null,
   "metadata": {
    "collapsed": true
   },
   "outputs": [],
   "source": []
  },
  {
   "cell_type": "code",
   "execution_count": null,
   "metadata": {
    "collapsed": true
   },
   "outputs": [],
   "source": []
  },
  {
   "cell_type": "code",
   "execution_count": 13,
   "metadata": {
    "collapsed": true
   },
   "outputs": [],
   "source": [
    "tmp_label = np.asarray(tmp_label >= 0.5, dtype=np.uint8)"
   ]
  },
  {
   "cell_type": "code",
   "execution_count": 14,
   "metadata": {
    "collapsed": true
   },
   "outputs": [],
   "source": [
    "def mask_replace_non_exist(pre_mask, new_mask, rects, contours, areas, replace_threshold=0.5, delete_threshold=0.2):\n",
    "    mask = np.copy(pre_mask)\n",
    "    for index, rect in enumerate(rects):\n",
    "        new_area = 0\n",
    "        left, top, right, bottom = rect\n",
    "        for i in range(top, bottom):\n",
    "            for j in range(left, right):\n",
    "                if cv2.pointPolygonTest(contours[index], (j, i), False) >= 0 and new_mask[i, j] == 1:\n",
    "                    new_area += 1\n",
    "                    \n",
    "        if new_area <= areas[index] * delete_threshold:\n",
    "            for i in range(top, bottom):\n",
    "                for j in range(left, right):\n",
    "                    if cv2.pointPolygonTest(contours[index], (j, i), False) >= 0:\n",
    "                        mask[i, j] = 0\n",
    "        \n",
    "        elif new_area <= areas[index] * replace_threshold:\n",
    "            for i in range(top, bottom):\n",
    "                for j in range(left, right):\n",
    "                    if cv2.pointPolygonTest(contours[index], (j, i), False) >= 0:\n",
    "                        mask[i, j] = new_mask[i, j]\n",
    "    return mask"
   ]
  },
  {
   "cell_type": "code",
   "execution_count": 15,
   "metadata": {
    "collapsed": false
   },
   "outputs": [],
   "source": [
    "new_label = mask_replace_non_exist(pre_label.reshape(4000, 15106, 1), tmp_label.reshape(4000, 15106, 1), new_rects, new_contours, new_areas)"
   ]
  },
  {
   "cell_type": "code",
   "execution_count": 16,
   "metadata": {
    "collapsed": false
   },
   "outputs": [
    {
     "data": {
      "text/plain": [
       "((4000, 15106, 1), dtype('uint8'))"
      ]
     },
     "execution_count": 16,
     "metadata": {},
     "output_type": "execute_result"
    }
   ],
   "source": [
    "new_label = new_label.reshape(4000, 15106, 1)\n",
    "new_label.shape, new_label.dtype"
   ]
  },
  {
   "cell_type": "code",
   "execution_count": 17,
   "metadata": {
    "collapsed": true
   },
   "outputs": [],
   "source": [
    "np.save('HED_thred', new_label)"
   ]
  },
  {
   "cell_type": "code",
   "execution_count": 18,
   "metadata": {
    "collapsed": true
   },
   "outputs": [],
   "source": [
    "new_label = mask_replace_non_exist(pre_label.reshape(4000, 15106, 1), tmp_label.reshape(4000, 15106, 1), new_rects, new_contours, new_areas, replace_threshold=0.99, delete_threshold=0.01)"
   ]
  },
  {
   "cell_type": "code",
   "execution_count": 19,
   "metadata": {
    "collapsed": false
   },
   "outputs": [
    {
     "data": {
      "text/plain": [
       "((4000, 15106, 1), dtype('uint8'))"
      ]
     },
     "execution_count": 19,
     "metadata": {},
     "output_type": "execute_result"
    }
   ],
   "source": [
    "new_label = new_label.reshape(4000, 15106, 1)\n",
    "new_label.shape, new_label.dtype"
   ]
  },
  {
   "cell_type": "code",
   "execution_count": 20,
   "metadata": {
    "collapsed": true
   },
   "outputs": [],
   "source": [
    "np.save('HED_replace', new_label)"
   ]
  },
  {
   "cell_type": "code",
   "execution_count": null,
   "metadata": {
    "collapsed": true
   },
   "outputs": [],
   "source": []
  }
 ],
 "metadata": {
  "kernelspec": {
   "display_name": "Python 3",
   "language": "python",
   "name": "python3"
  },
  "language_info": {
   "codemirror_mode": {
    "name": "ipython",
    "version": 3
   },
   "file_extension": ".py",
   "mimetype": "text/x-python",
   "name": "python",
   "nbconvert_exporter": "python",
   "pygments_lexer": "ipython3",
   "version": "3.5.2"
  }
 },
 "nbformat": 4,
 "nbformat_minor": 1
}
