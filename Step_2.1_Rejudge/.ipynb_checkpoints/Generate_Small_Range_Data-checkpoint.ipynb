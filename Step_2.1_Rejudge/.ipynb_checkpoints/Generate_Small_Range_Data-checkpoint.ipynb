{
 "cells": [
  {
   "cell_type": "code",
   "execution_count": null,
   "metadata": {
    "collapsed": true
   },
   "outputs": [],
   "source": [
    "from collections import defaultdict\n",
    "import tensorflow as tf\n",
    "import numpy as np\n",
    "import tflearn\n",
    "import matplotlib.pyplot as plt\n",
    "%matplotlib inline\n",
    "plt.rcParams[\"figure.figsize\"] = (20, 10)\n",
    "import cv2\n",
    "from shapely.geometry import MultiPolygon, Polygon\n",
    "import shapely.wkt\n",
    "import shapely.affinity\n",
    "import tifffile as tiff\n",
    "import sys\n",
    "import sklearn\n",
    "import time\n",
    "import PIL\n",
    "from scipy import misc\n",
    "import image_tool"
   ]
  },
  {
   "cell_type": "code",
   "execution_count": 2,
   "metadata": {
    "collapsed": false
   },
   "outputs": [],
   "source": [
    "part1_all = tiff.imread('/data/zonghua/satellite/Der/Season1/part1_0.6.tif')\n",
    "part2_all = tiff.imread('/data/zonghua/satellite/Der/Season1/part2_0.4.tif')"
   ]
  },
  {
   "cell_type": "code",
   "execution_count": 3,
   "metadata": {
    "collapsed": false
   },
   "outputs": [
    {
     "data": {
      "text/plain": [
       "((5106, 15106, 1), (3000, 15106, 1))"
      ]
     },
     "execution_count": 3,
     "metadata": {},
     "output_type": "execute_result"
    }
   ],
   "source": [
    "part1_all.shape, part2_all.shape"
   ]
  },
  {
   "cell_type": "code",
   "execution_count": 4,
   "metadata": {
    "collapsed": false
   },
   "outputs": [],
   "source": [
    "part1_mask = np.load('/data/zonghua/satellite/Der/Season2/my_data/pre_data/part1_effective_mask.npy', 'r')\n",
    "part2_mask = np.load('/data/zonghua/satellite/Der/Season2/my_data/pre_data/part2_effective_mask.npy', 'r')\n",
    "part1_all[part1_mask[:, :, 0].reshape(5106, 15106, 1) == 0] = 0\n",
    "part2_all[part2_mask[:, :, 0].reshape(3000, 15106, 1) == 0] = 0"
   ]
  },
  {
   "cell_type": "code",
   "execution_count": 5,
   "metadata": {
    "collapsed": false
   },
   "outputs": [
    {
     "data": {
      "text/plain": [
       "(8106, 15106, 1)"
      ]
     },
     "execution_count": 5,
     "metadata": {},
     "output_type": "execute_result"
    }
   ],
   "source": [
    "part_all = np.concatenate([part2_all, part1_all], axis=0)\n",
    "part_all.shape"
   ]
  },
  {
   "cell_type": "code",
   "execution_count": 6,
   "metadata": {
    "collapsed": false
   },
   "outputs": [
    {
     "data": {
      "text/plain": [
       "(8106, 15106, 1)"
      ]
     },
     "execution_count": 6,
     "metadata": {},
     "output_type": "execute_result"
    }
   ],
   "source": [
    "label1 = np.load('../my_data/part1_label.npy', 'r')\n",
    "label2 = np.load('../my_data/part2_label_add_bridge.npy', 'r')\n",
    "label = np.concatenate([label2, label1], axis=0)\n",
    "label.shape"
   ]
  },
  {
   "cell_type": "code",
   "execution_count": 7,
   "metadata": {
    "collapsed": false
   },
   "outputs": [],
   "source": [
    "part_all[label == 1] = 1"
   ]
  },
  {
   "cell_type": "code",
   "execution_count": 8,
   "metadata": {
    "collapsed": false
   },
   "outputs": [
    {
     "name": "stdout",
     "output_type": "stream",
     "text": [
      "[=================================================>], 3734/3735, 99%, 1.03s "
     ]
    }
   ],
   "source": [
    "part_all = image_tool.mask_remove_small(part_all, 400)"
   ]
  },
  {
   "cell_type": "code",
   "execution_count": 9,
   "metadata": {
    "collapsed": true
   },
   "outputs": [],
   "source": [
    "label = label.reshape(8106, 15106)"
   ]
  },
  {
   "cell_type": "code",
   "execution_count": null,
   "metadata": {
    "collapsed": true
   },
   "outputs": [],
   "source": [
    "all_rects = image_tool.mask_to_bounds(part_all)"
   ]
  },
  {
   "cell_type": "code",
   "execution_count": null,
   "metadata": {
    "collapsed": false
   },
   "outputs": [],
   "source": [
    "data1 = np.load('../my_data/part1_data.npy', 'r')\n",
    "data2 = np.load('../my_data/part2_data.npy', 'r')\n",
    "data = np.concatenate([data2, data1], axis=0)\n",
    "data.shape"
   ]
  },
  {
   "cell_type": "code",
   "execution_count": null,
   "metadata": {
    "collapsed": false
   },
   "outputs": [],
   "source": [
    "all_rects.shape"
   ]
  },
  {
   "cell_type": "code",
   "execution_count": null,
   "metadata": {
    "collapsed": true
   },
   "outputs": [],
   "source": [
    "del data1, data2, part1_all, part2_all, part1_mask, part2_mask, label1, label2"
   ]
  },
  {
   "cell_type": "code",
   "execution_count": null,
   "metadata": {
    "collapsed": false
   },
   "outputs": [],
   "source": [
    "new_data = []\n",
    "new_label = []\n",
    "for i in range(len(all_rects)):\n",
    "    left, top, right, bottom = all_rects[i]\n",
    "    \n",
    "    width = right - left\n",
    "    height = bottom - top\n",
    "    \n",
    "    left = max(left - width//4, 0)\n",
    "    top = max(top - height//4, 0)\n",
    "    right = min(right + width//4, 15106)\n",
    "    bottom = min(bottom + width//4, 8106)\n",
    "    \n",
    "    resize_width = (width // 112 + 1) * 112\n",
    "    resize_height = (height // 112 + 1) * 112\n",
    "    \n",
    "    one_X = cv2.resize(data[top:bottom, left:right, :], (resize_width, resize_height))\n",
    "    one_y = cv2.resize(label[top:bottom, left:right], (resize_width, resize_height))\n",
    "    for i in range(0, resize_width, 112):\n",
    "        for j in range(0, resize_height, 112):\n",
    "            new_data.append(one_X[j:j+112, i:i+112, :])\n",
    "            new_label.append(one_y[j:j+112, i:i+112].reshape(112, 112, 1))"
   ]
  },
  {
   "cell_type": "code",
   "execution_count": 16,
   "metadata": {
    "collapsed": false
   },
   "outputs": [
    {
     "data": {
      "text/plain": [
       "((1837, 112, 112, 8), (1837, 112, 112, 1))"
      ]
     },
     "execution_count": 16,
     "metadata": {},
     "output_type": "execute_result"
    }
   ],
   "source": [
    "new_data = np.asarray(new_data)\n",
    "new_label = np.asarray(new_label)\n",
    "new_data.shape, new_label.shape"
   ]
  },
  {
   "cell_type": "code",
   "execution_count": 17,
   "metadata": {
    "collapsed": true
   },
   "outputs": [],
   "source": [
    "np.save('my_data/data', new_data)\n",
    "np.save('my_data/label', new_label)"
   ]
  },
  {
   "cell_type": "code",
   "execution_count": null,
   "metadata": {
    "collapsed": true
   },
   "outputs": [],
   "source": []
  }
 ],
 "metadata": {
  "kernelspec": {
   "display_name": "Python 3",
   "language": "python",
   "name": "python3"
  },
  "language_info": {
   "codemirror_mode": {
    "name": "ipython",
    "version": 3
   },
   "file_extension": ".py",
   "mimetype": "text/x-python",
   "name": "python",
   "nbconvert_exporter": "python",
   "pygments_lexer": "ipython3",
   "version": "3.5.2"
  }
 },
 "nbformat": 4,
 "nbformat_minor": 1
}
