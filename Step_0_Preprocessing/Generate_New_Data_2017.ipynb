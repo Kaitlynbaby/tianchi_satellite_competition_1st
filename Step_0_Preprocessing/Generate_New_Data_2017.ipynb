{
 "cells": [
  {
   "cell_type": "code",
   "execution_count": 2,
   "metadata": {
    "collapsed": false
   },
   "outputs": [
    {
     "name": "stderr",
     "output_type": "stream",
     "text": [
      "/usr/local/lib/python3.5/dist-packages/h5py/__init__.py:36: FutureWarning: Conversion of the second argument of issubdtype from `float` to `np.floating` is deprecated. In future, it will be treated as `np.float64 == np.dtype(float).type`.\n",
      "  from ._conv import register_converters as _register_converters\n"
     ]
    }
   ],
   "source": [
    "from collections import defaultdict\n",
    "import tensorflow as tf\n",
    "import numpy as np\n",
    "import tflearn\n",
    "import matplotlib.pyplot as plt\n",
    "%matplotlib inline\n",
    "plt.rcParams[\"figure.figsize\"] = (20, 10)\n",
    "import cv2\n",
    "from shapely.geometry import MultiPolygon, Polygon\n",
    "import shapely.wkt\n",
    "import shapely.affinity\n",
    "import tifffile as tiff\n",
    "import sys\n",
    "import sklearn\n",
    "import time\n",
    "import PIL\n",
    "from scipy import misc"
   ]
  },
  {
   "cell_type": "code",
   "execution_count": 3,
   "metadata": {
    "collapsed": true
   },
   "outputs": [],
   "source": [
    "def convert_bmp_to_mask(img):\n",
    "    w, h, c = img.shape\n",
    "    mask = np.zeros((w, h, c))\n",
    "    mask[img == 255] = 1\n",
    "    mask[img < 255] = 0\n",
    "    mask = np.concatenate([mask, mask[:, :, 0].reshape(w, h, 1)], axis=2)\n",
    "    return mask"
   ]
  },
  {
   "cell_type": "code",
   "execution_count": 4,
   "metadata": {
    "collapsed": true
   },
   "outputs": [],
   "source": [
    "def scale_percentile(matrix):\n",
    "    w, h, d = matrix.shape\n",
    "    matrix = np.reshape(matrix, [w * h, d]).astype(np.float32)\n",
    "    # Get 2nd and 98th percentile\n",
    "    cp_matrix = np.copy(matrix)\n",
    "    cp_matrix[cp_matrix < 1] = np.nan\n",
    "    mins = np.nanpercentile(cp_matrix, 1, axis=0)\n",
    "    maxs = np.nanpercentile(cp_matrix, 99, axis=0) - mins\n",
    "    matrix = (matrix - mins[None, :]) / maxs[None, :]\n",
    "    matrix = np.reshape(matrix, [w, h, d])\n",
    "    matrix = matrix.clip(0, 1)\n",
    "    return matrix"
   ]
  },
  {
   "cell_type": "code",
   "execution_count": 5,
   "metadata": {
    "collapsed": true
   },
   "outputs": [],
   "source": [
    "def calculate_std_mean(img):\n",
    "    w, h, c = img.shape\n",
    "    target = np.copy(img)\n",
    "    target[target == 0] = np.nan\n",
    "    target = target.reshape(-1, c)\n",
    "    target_std = np.nanstd(target, axis=0)\n",
    "    target_mean = np.nanmean(target, axis=0)\n",
    "    return target_std, target_mean"
   ]
  },
  {
   "cell_type": "code",
   "execution_count": 6,
   "metadata": {
    "collapsed": true
   },
   "outputs": [],
   "source": [
    "def scale_percentile_2(matrix):\n",
    "    w, h, d = matrix.shape\n",
    "    matrix = np.reshape(matrix, [w * h, d]).astype(np.float32)\n",
    "    # Get 2nd and 98th percentile\n",
    "    zero_pos = matrix < 1\n",
    "    matrix[zero_pos] = np.nan\n",
    "    mins = np.nanpercentile(matrix, 1, axis=0)\n",
    "    maxs = np.nanpercentile(matrix, 99, axis=0) - mins\n",
    "    matrix = (matrix - mins[None, :]) / maxs[None, :]\n",
    "    matrix[zero_pos] = 0\n",
    "    matrix = np.reshape(matrix, [w, h, d])\n",
    "    matrix = matrix.clip(0, 1)\n",
    "    return matrix"
   ]
  },
  {
   "cell_type": "code",
   "execution_count": 7,
   "metadata": {
    "collapsed": false
   },
   "outputs": [],
   "source": [
    "FILE_back = '/data/zonghua/satellite/Final/new_data/2017_final.tif'\n",
    "im_back = tiff.imread(FILE_back)"
   ]
  },
  {
   "cell_type": "code",
   "execution_count": 8,
   "metadata": {
    "collapsed": false
   },
   "outputs": [],
   "source": [
    "im_back = np.transpose(im_back, [1, 2, 0])"
   ]
  },
  {
   "cell_type": "markdown",
   "metadata": {},
   "source": [
    "## 2017"
   ]
  },
  {
   "cell_type": "code",
   "execution_count": 9,
   "metadata": {
    "collapsed": false
   },
   "outputs": [],
   "source": [
    "back_1 = cv2.imread(\"boarders/back_1.bmp\")\n",
    "back_2 = cv2.imread(\"boarders/back_2.bmp\")"
   ]
  },
  {
   "cell_type": "code",
   "execution_count": 10,
   "metadata": {
    "collapsed": false
   },
   "outputs": [],
   "source": [
    "where_1 = np.where(back_1 == 255)\n",
    "right_1 = min(np.max(where_1[1]) + 100, back_1.shape[1])\n",
    "left_1  = max(np.min(where_1[1]) - 100, 0)\n",
    "back_1_mask = convert_bmp_to_mask(back_1[:, left_1: right_1])\n",
    "mask_back_part1 = back_1_mask * im_back[:, left_1: right_1]\n",
    "back1_target = scale_percentile(mask_back_part1)"
   ]
  },
  {
   "cell_type": "code",
   "execution_count": 11,
   "metadata": {
    "collapsed": false
   },
   "outputs": [],
   "source": [
    "where_2 = np.where(back_2 == 255)\n",
    "right_2 = min(np.max(where_2[1]) + 100, back_2.shape[1])\n",
    "left_2  = max(np.min(where_2[1]) - 100, 0)\n",
    "back_2_mask = convert_bmp_to_mask(back_2[:, left_2: right_2])\n",
    "mask_back_part2 = back_2_mask * im_back[:, left_2: right_2]\n",
    "back2_target = scale_percentile(mask_back_part2)"
   ]
  },
  {
   "cell_type": "code",
   "execution_count": 12,
   "metadata": {
    "collapsed": true
   },
   "outputs": [],
   "source": [
    "back_effective = np.zeros(im_back.shape[:2] + (4,))\n",
    "back_effective[:, left_1: right_1] += back1_target\n",
    "back_effective[:, left_2: right_2] += back2_target"
   ]
  },
  {
   "cell_type": "code",
   "execution_count": 13,
   "metadata": {
    "collapsed": false
   },
   "outputs": [
    {
     "data": {
      "text/plain": [
       "True"
      ]
     },
     "execution_count": 13,
     "metadata": {},
     "output_type": "execute_result"
    }
   ],
   "source": [
    "cv2.imwrite('boarders/2017.jpg', back_effective[:, :, :3] * 255)"
   ]
  },
  {
   "cell_type": "code",
   "execution_count": 1,
   "metadata": {
    "collapsed": false
   },
   "outputs": [
    {
     "ename": "NameError",
     "evalue": "name 'np' is not defined",
     "output_type": "error",
     "traceback": [
      "\u001b[0;31m---------------------------------------------------------------------------\u001b[0m",
      "\u001b[0;31mNameError\u001b[0m                                 Traceback (most recent call last)",
      "\u001b[0;32m<ipython-input-1-e639ebe67af6>\u001b[0m in \u001b[0;36m<module>\u001b[0;34m()\u001b[0m\n\u001b[0;32m----> 1\u001b[0;31m \u001b[0mnp\u001b[0m\u001b[0;34m.\u001b[0m\u001b[0msave\u001b[0m\u001b[0;34m(\u001b[0m\u001b[0;34m'/data/zonghua/satellite/Final/new_data/2017_data'\u001b[0m\u001b[0;34m,\u001b[0m \u001b[0mback_effective\u001b[0m\u001b[0;34m)\u001b[0m\u001b[0;34m\u001b[0m\u001b[0m\n\u001b[0m",
      "\u001b[0;31mNameError\u001b[0m: name 'np' is not defined"
     ]
    }
   ],
   "source": [
    "np.save('/data/zonghua/satellite/Final/new_data/2017_data', back_effective)"
   ]
  },
  {
   "cell_type": "markdown",
   "metadata": {},
   "source": [
    "# Concat Data"
   ]
  },
  {
   "cell_type": "code",
   "execution_count": 32,
   "metadata": {
    "collapsed": true
   },
   "outputs": [],
   "source": [
    "data_2015 = np.load('/data/zonghua/satellite/Final/new_data/2015_data.npy', 'r')\n",
    "data_2017 = np.load('/data/zonghua/satellite/Final/new_data/2017_data.npy', 'r')\n",
    "data = np.concatenate([data_2015, data_2017], axis=2)"
   ]
  },
  {
   "cell_type": "code",
   "execution_count": 33,
   "metadata": {
    "collapsed": false
   },
   "outputs": [
    {
     "name": "stdout",
     "output_type": "stream",
     "text": [
      "OK1\n",
      "OK2\n",
      "OK3\n",
      "OK4\n"
     ]
    }
   ],
   "source": [
    "np.save('/data/zonghua/satellite/Final/new_data/new_data', data)\n",
    "print(\"OK1\")\n",
    "data_0 = cv2.flip(data, 0)\n",
    "np.save(\"/data/zonghua/satellite/Final/new_data/new_data_0\", data_0)\n",
    "print(\"OK2\")\n",
    "data_1 = cv2.flip(data, 1)\n",
    "np.save(\"/data/zonghua/satellite/Final/new_data/new_data_1\", data_1)\n",
    "print(\"OK3\")\n",
    "data_2 = cv2.flip(data, -1)\n",
    "np.save(\"/data/zonghua/satellite/Final/new_data/new_data_-1\", data_2)\n",
    "print(\"OK4\")"
   ]
  },
  {
   "cell_type": "code",
   "execution_count": null,
   "metadata": {
    "collapsed": true
   },
   "outputs": [],
   "source": []
  }
 ],
 "metadata": {
  "kernelspec": {
   "display_name": "Python 3",
   "language": "python",
   "name": "python3"
  },
  "language_info": {
   "codemirror_mode": {
    "name": "ipython",
    "version": 3
   },
   "file_extension": ".py",
   "mimetype": "text/x-python",
   "name": "python",
   "nbconvert_exporter": "python",
   "pygments_lexer": "ipython3",
   "version": "3.5.2"
  }
 },
 "nbformat": 4,
 "nbformat_minor": 1
}
