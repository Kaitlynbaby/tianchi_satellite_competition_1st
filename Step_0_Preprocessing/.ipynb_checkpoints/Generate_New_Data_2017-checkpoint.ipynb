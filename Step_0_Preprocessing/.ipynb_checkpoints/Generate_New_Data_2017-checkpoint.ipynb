{
 "cells": [
  {
   "cell_type": "code",
   "execution_count": 1,
   "metadata": {
    "collapsed": true
   },
   "outputs": [],
   "source": [
    "from collections import defaultdict\n",
    "import tensorflow as tf\n",
    "import numpy as np\n",
    "import tflearn\n",
    "import matplotlib.pyplot as plt\n",
    "%matplotlib inline\n",
    "plt.rcParams[\"figure.figsize\"] = (20, 10)\n",
    "import cv2\n",
    "from shapely.geometry import MultiPolygon, Polygon\n",
    "import shapely.wkt\n",
    "import shapely.affinity\n",
    "import tifffile as tiff\n",
    "import sys\n",
    "import sklearn\n",
    "import time\n",
    "import PIL\n",
    "from scipy import misc"
   ]
  },
  {
   "cell_type": "code",
   "execution_count": 2,
   "metadata": {
    "collapsed": true
   },
   "outputs": [],
   "source": [
    "def convert_bmp_to_mask(img):\n",
    "    w, h, c = img.shape\n",
    "    mask = np.zeros((w, h, c))\n",
    "    mask[img == 255] = 1\n",
    "    mask[img < 255] = 0\n",
    "    mask = np.concatenate([mask, mask[:, :, 0].reshape(w, h, 1)], axis=2)\n",
    "    return mask"
   ]
  },
  {
   "cell_type": "code",
   "execution_count": 3,
   "metadata": {
    "collapsed": true
   },
   "outputs": [],
   "source": [
    "def scale_percentile(matrix):\n",
    "    w, h, d = matrix.shape\n",
    "    matrix = np.reshape(matrix, [w * h, d]).astype(np.float32)\n",
    "    # Get 2nd and 98th percentile\n",
    "    cp_matrix = np.copy(matrix)\n",
    "    cp_matrix[cp_matrix < 1] = np.nan\n",
    "    mins = np.nanpercentile(cp_matrix, 1, axis=0)\n",
    "    maxs = np.nanpercentile(cp_matrix, 99, axis=0) - mins\n",
    "    matrix = (matrix - mins[None, :]) / maxs[None, :]\n",
    "    matrix = np.reshape(matrix, [w, h, d])\n",
    "    matrix = matrix.clip(0, 1)\n",
    "    return matrix"
   ]
  },
  {
   "cell_type": "code",
   "execution_count": 4,
   "metadata": {
    "collapsed": true
   },
   "outputs": [],
   "source": [
    "def calculate_std_mean(img):\n",
    "    w, h, c = img.shape\n",
    "    target = np.copy(img)\n",
    "    target[target == 0] = np.nan\n",
    "    target = target.reshape(-1, c)\n",
    "    target_std = np.nanstd(target, axis=0)\n",
    "    target_mean = np.nanmean(target, axis=0)\n",
    "    return target_std, target_mean"
   ]
  },
  {
   "cell_type": "code",
   "execution_count": 5,
   "metadata": {
    "collapsed": true
   },
   "outputs": [],
   "source": [
    "def scale_percentile_2(matrix):\n",
    "    w, h, d = matrix.shape\n",
    "    matrix = np.reshape(matrix, [w * h, d]).astype(np.float32)\n",
    "    # Get 2nd and 98th percentile\n",
    "    zero_pos = matrix < 1\n",
    "    matrix[zero_pos] = np.nan\n",
    "    mins = np.nanpercentile(matrix, 1, axis=0)\n",
    "    maxs = np.nanpercentile(matrix, 99, axis=0) - mins\n",
    "    matrix = (matrix - mins[None, :]) / maxs[None, :]\n",
    "    matrix[zero_pos] = 0\n",
    "    matrix = np.reshape(matrix, [w, h, d])\n",
    "    matrix = matrix.clip(0, 1)\n",
    "    return matrix"
   ]
  },
  {
   "cell_type": "code",
   "execution_count": 7,
   "metadata": {
    "collapsed": true
   },
   "outputs": [],
   "source": [
    "FILE_back = '/data/zonghua/satellite/Final/new_data/quarterfinals_2017.tif'\n",
    "im_back = tiff.imread(FILE_back)"
   ]
  },
  {
   "cell_type": "code",
   "execution_count": 8,
   "metadata": {
    "collapsed": false
   },
   "outputs": [],
   "source": [
    "im_back = np.transpose(im_back, [1, 2, 0])"
   ]
  },
  {
   "cell_type": "code",
   "execution_count": 8,
   "metadata": {
    "collapsed": false
   },
   "outputs": [
    {
     "data": {
      "text/plain": [
       "((4000, 15106, 4), (4000, 15106, 4))"
      ]
     },
     "execution_count": 8,
     "metadata": {},
     "output_type": "execute_result"
    }
   ],
   "source": [
    "im_back.shape"
   ]
  },
  {
   "cell_type": "code",
   "execution_count": 9,
   "metadata": {
    "collapsed": false
   },
   "outputs": [
    {
     "data": {
      "text/plain": [
       "56.10232734680176"
      ]
     },
     "execution_count": 9,
     "metadata": {},
     "output_type": "execute_result"
    }
   ],
   "source": [
    "time_1 = time.time()\n",
    "back_img = scale_percentile_2(im_back)\n",
    "time.time() - time_1"
   ]
  },
  {
   "cell_type": "code",
   "execution_count": null,
   "metadata": {
    "collapsed": true
   },
   "outputs": [],
   "source": [
    "cv2.imwrite('forward.bmp', forward_img[:, :, :3] * 255)\n",
    "cv2.imwrite('back.bmp', back_img[:, :, :3] * 255)"
   ]
  },
  {
   "cell_type": "code",
   "execution_count": 6,
   "metadata": {
    "collapsed": true
   },
   "outputs": [],
   "source": [
    "im_forward = tiff.imread(\"/data/zonghua/satellite/Part3/data/quarterfinals_2015.tif\")\n",
    "im_back    = tiff.imread(\"/data/zonghua/satellite/Part3/data/quarterfinals_2017.tif\")"
   ]
  },
  {
   "cell_type": "markdown",
   "metadata": {},
   "source": [
    "## 2017"
   ]
  },
  {
   "cell_type": "code",
   "execution_count": 10,
   "metadata": {
    "collapsed": true
   },
   "outputs": [],
   "source": [
    "back_1 = cv2.imread(\"boarders/back_1.bmp\")\n",
    "back_2 = cv2.imread(\"boarders/back_2.bmp\")"
   ]
  },
  {
   "cell_type": "code",
   "execution_count": 13,
   "metadata": {
    "collapsed": false
   },
   "outputs": [],
   "source": [
    "where_1 = np.where(back_1 == 255)\n",
    "right_1 = min(np.max(where_1[1]) + 100, back_1.shape[1])\n",
    "left_1  = max(np.min(where_1[1]) - 100, 0)\n",
    "back_1_mask = convert_bmp_to_mask(back_1[:, left_1: right_1])\n",
    "mask_back_part1 = back_1_mask * im_back[:, left_1: right_1]\n",
    "back1_target = scale_percentile(mask_back_part1)"
   ]
  },
  {
   "cell_type": "code",
   "execution_count": 16,
   "metadata": {
    "collapsed": false
   },
   "outputs": [],
   "source": [
    "where_2 = np.where(back_2 == 255)\n",
    "right_2 = min(np.max(where_2[1]) + 100, back_2.shape[1])\n",
    "left_2  = max(np.min(where_2[1]) - 100, 0)\n",
    "back_2_mask = convert_bmp_to_mask(back_2[:, left_2: right_2])\n",
    "mask_back_part2 = back_2_mask * im_back[:, left_2: right_2]\n",
    "back2_target = scale_percentile(mask_back_part2)"
   ]
  },
  {
   "cell_type": "code",
   "execution_count": 17,
   "metadata": {
    "collapsed": true
   },
   "outputs": [],
   "source": [
    "back_effective = np.zeros(im_back.shape[:2] + (4,))\n",
    "back_effective[:, left_1: right_1] += back1_target\n",
    "back_effective[:, left_2: right_2] += back2_target"
   ]
  },
  {
   "cell_type": "code",
   "execution_count": null,
   "metadata": {
    "collapsed": false
   },
   "outputs": [],
   "source": [
    "cv2.imwrite('boarders/2017.jpg', back_effective[:, :, :3] * 255)"
   ]
  },
  {
   "cell_type": "code",
   "execution_count": 19,
   "metadata": {
    "collapsed": true
   },
   "outputs": [],
   "source": [
    "np.save('/data/zonghua/satellite/Final/new_data/2017_data', back_effective)"
   ]
  },
  {
   "cell_type": "markdown",
   "metadata": {},
   "source": [
    "# Concat Data"
   ]
  },
  {
   "cell_type": "code",
   "execution_count": 20,
   "metadata": {
    "collapsed": true
   },
   "outputs": [],
   "source": [
    "data_2015 = np.load('/data/zonghua/satellite/Final/new_data/2015_data.npy', 'r')\n",
    "data_2017 = np.load('/data/zonghua/satellite/Final/new_data/2017_data.npy', 'r')\n",
    "data = np.concatenate([data_2015, data_2017], axis=2)"
   ]
  },
  {
   "cell_type": "code",
   "execution_count": 23,
   "metadata": {
    "collapsed": false
   },
   "outputs": [],
   "source": [
    "np.save('/data/zonghua/satellite/Final/new_data/new_data', data)\n",
    "data_0 = cv2.flip(data, 0)\n",
    "np.save(\"/data/zonghua/satellite/Final/new_data/new_data_0\", data_0)\n",
    "data_1 = cv2.flip(data, 1)\n",
    "np.save(\"/data/zonghua/satellite/Final/new_data/new_data_1\", data_1)\n",
    "data_2 = cv2.flip(data, -1)\n",
    "np.save(\"/data/zonghua/satellite/Final/new_data/new_data_2\", data_2)"
   ]
  },
  {
   "cell_type": "code",
   "execution_count": 30,
   "metadata": {
    "collapsed": true
   },
   "outputs": [],
   "source": [
    "np.save('/data/zonghua/satellite/Final/new_data/new_data', data)"
   ]
  },
  {
   "cell_type": "code",
   "execution_count": 25,
   "metadata": {
    "collapsed": true
   },
   "outputs": [],
   "source": [
    "s2_label = np.load(\"/data/zonghua/satellite/Part3/data/y_label_s2.npy\")"
   ]
  },
  {
   "cell_type": "code",
   "execution_count": 27,
   "metadata": {
    "collapsed": false
   },
   "outputs": [],
   "source": [
    "s2_label = s2_label.reshape(4000, 15106, 1)"
   ]
  },
  {
   "cell_type": "code",
   "execution_count": 35,
   "metadata": {
    "collapsed": false
   },
   "outputs": [
    {
     "data": {
      "text/plain": [
       "(4000, 15106, 1)"
      ]
     },
     "execution_count": 35,
     "metadata": {},
     "output_type": "execute_result"
    }
   ],
   "source": [
    "np.flip(s2_label, 1).shape"
   ]
  }
 ],
 "metadata": {
  "kernelspec": {
   "display_name": "Python 3",
   "language": "python",
   "name": "python3"
  },
  "language_info": {
   "codemirror_mode": {
    "name": "ipython",
    "version": 3
   },
   "file_extension": ".py",
   "mimetype": "text/x-python",
   "name": "python",
   "nbconvert_exporter": "python",
   "pygments_lexer": "ipython3",
   "version": "3.5.2"
  }
 },
 "nbformat": 4,
 "nbformat_minor": 1
}
