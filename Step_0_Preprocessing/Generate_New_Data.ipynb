{
 "cells": [
  {
   "cell_type": "code",
   "execution_count": 1,
   "metadata": {
    "collapsed": false
   },
   "outputs": [
    {
     "name": "stderr",
     "output_type": "stream",
     "text": [
      "/usr/local/lib/python3.5/dist-packages/h5py/__init__.py:36: FutureWarning: Conversion of the second argument of issubdtype from `float` to `np.floating` is deprecated. In future, it will be treated as `np.float64 == np.dtype(float).type`.\n",
      "  from ._conv import register_converters as _register_converters\n"
     ]
    }
   ],
   "source": [
    "from collections import defaultdict\n",
    "import tensorflow as tf\n",
    "import numpy as np\n",
    "import tflearn\n",
    "import matplotlib.pyplot as plt\n",
    "%matplotlib inline\n",
    "plt.rcParams[\"figure.figsize\"] = (20, 10)\n",
    "import cv2\n",
    "from shapely.geometry import MultiPolygon, Polygon\n",
    "import shapely.wkt\n",
    "import shapely.affinity\n",
    "import tifffile as tiff\n",
    "import sys\n",
    "import sklearn\n",
    "import time\n",
    "import PIL\n",
    "from scipy import misc"
   ]
  },
  {
   "cell_type": "code",
   "execution_count": 2,
   "metadata": {
    "collapsed": true
   },
   "outputs": [],
   "source": [
    "def convert_bmp_to_mask(img):\n",
    "    w, h, c = img.shape\n",
    "    mask = np.zeros((w, h, c))\n",
    "    mask[img == 255] = 1\n",
    "    mask[img < 255] = 0\n",
    "    mask = np.concatenate([mask, mask[:, :, 0].reshape(w, h, 1)], axis=2)\n",
    "    return mask"
   ]
  },
  {
   "cell_type": "code",
   "execution_count": 3,
   "metadata": {
    "collapsed": true
   },
   "outputs": [],
   "source": [
    "def scale_percentile(matrix):\n",
    "    w, h, d = matrix.shape\n",
    "    matrix = np.reshape(matrix, [w * h, d]).astype(np.float32)\n",
    "    # Get 2nd and 98th percentile\n",
    "    cp_matrix = np.copy(matrix)\n",
    "    cp_matrix[cp_matrix < 1] = np.nan\n",
    "    mins = np.nanpercentile(cp_matrix, 1, axis=0)\n",
    "    maxs = np.nanpercentile(cp_matrix, 99, axis=0) - mins\n",
    "    matrix = (matrix - mins[None, :]) / maxs[None, :]\n",
    "    matrix = np.reshape(matrix, [w, h, d])\n",
    "    matrix = matrix.clip(0, 1)\n",
    "    return matrix"
   ]
  },
  {
   "cell_type": "code",
   "execution_count": 4,
   "metadata": {
    "collapsed": true
   },
   "outputs": [],
   "source": [
    "def calculate_std_mean(img):\n",
    "    w, h, c = img.shape\n",
    "    target = np.copy(img)\n",
    "    target[target == 0] = np.nan\n",
    "    target = target.reshape(-1, c)\n",
    "    target_std = np.nanstd(target, axis=0)\n",
    "    target_mean = np.nanmean(target, axis=0)\n",
    "    return target_std, target_mean"
   ]
  },
  {
   "cell_type": "code",
   "execution_count": 5,
   "metadata": {
    "collapsed": true
   },
   "outputs": [],
   "source": [
    "def scale_percentile_2(matrix):\n",
    "    w, h, d = matrix.shape\n",
    "    matrix = np.reshape(matrix, [w * h, d]).astype(np.float32)\n",
    "    # Get 2nd and 98th percentile\n",
    "    zero_pos = matrix < 1\n",
    "    matrix[zero_pos] = np.nan\n",
    "    mins = np.nanpercentile(matrix, 1, axis=0)\n",
    "    maxs = np.nanpercentile(matrix, 99, axis=0) - mins\n",
    "    matrix = (matrix - mins[None, :]) / maxs[None, :]\n",
    "    matrix[zero_pos] = 0\n",
    "    matrix = np.reshape(matrix, [w, h, d])\n",
    "    matrix = matrix.clip(0, 1)\n",
    "    return matrix"
   ]
  },
  {
   "cell_type": "markdown",
   "metadata": {},
   "source": [
    "# Load Boarders and Make Pic Colorful"
   ]
  },
  {
   "cell_type": "markdown",
   "metadata": {},
   "source": [
    "## 2015"
   ]
  },
  {
   "cell_type": "code",
   "execution_count": 9,
   "metadata": {
    "collapsed": true
   },
   "outputs": [],
   "source": [
    "FILE_forward = '/data/zonghua/satellite/Part3/data/quarterfinals_2015.tif'\n",
    "im_forward = tiff.imread(FILE_forward)\n",
    "im_forward = np.transpose(im_forward, [1, 2, 0])"
   ]
  },
  {
   "cell_type": "code",
   "execution_count": 6,
   "metadata": {
    "collapsed": true
   },
   "outputs": [],
   "source": [
    "forward_1 = cv2.imread(\"boarders/forward_1.bmp\")\n",
    "forward_2 = cv2.imread(\"boarders/forward_2.bmp\")\n",
    "forward_3 = cv2.imread(\"boarders/forward_3.bmp\")\n",
    "forward_4 = cv2.imread(\"boarders/forward_4.bmp\")"
   ]
  },
  {
   "cell_type": "code",
   "execution_count": 7,
   "metadata": {
    "collapsed": true
   },
   "outputs": [],
   "source": [
    "where_1 = np.where(forward_1 == 255)\n",
    "right_1 = min(np.max(where_1[1]) + 100, forward_1.shape[1])\n",
    "left_1  = max(np.min(where_1[1]) - 100, 0)\n",
    "forward_1_mask = convert_bmp_to_mask(forward_1[:, left_1: right_1])"
   ]
  },
  {
   "cell_type": "code",
   "execution_count": 10,
   "metadata": {
    "collapsed": false
   },
   "outputs": [
    {
     "ename": "ValueError",
     "evalue": "operands could not be broadcast together with shapes (3000,629,4) (4000,629,4) ",
     "output_type": "error",
     "traceback": [
      "\u001b[0;31m---------------------------------------------------------------------------\u001b[0m",
      "\u001b[0;31mValueError\u001b[0m                                Traceback (most recent call last)",
      "\u001b[0;32m<ipython-input-10-ae48f5feca3d>\u001b[0m in \u001b[0;36m<module>\u001b[0;34m()\u001b[0m\n\u001b[0;32m----> 1\u001b[0;31m \u001b[0mmask_forward_part1\u001b[0m \u001b[0;34m=\u001b[0m \u001b[0mforward_1_mask\u001b[0m \u001b[0;34m*\u001b[0m \u001b[0mim_forward\u001b[0m\u001b[0;34m[\u001b[0m\u001b[0;34m:\u001b[0m\u001b[0;34m,\u001b[0m \u001b[0mleft_1\u001b[0m\u001b[0;34m:\u001b[0m \u001b[0mright_1\u001b[0m\u001b[0;34m]\u001b[0m\u001b[0;34m\u001b[0m\u001b[0m\n\u001b[0m\u001b[1;32m      2\u001b[0m \u001b[0mforward_1_target\u001b[0m \u001b[0;34m=\u001b[0m \u001b[0mscale_percentile_2\u001b[0m\u001b[0;34m(\u001b[0m\u001b[0mmask_forward_part1\u001b[0m\u001b[0;34m)\u001b[0m\u001b[0;34m\u001b[0m\u001b[0m\n",
      "\u001b[0;31mValueError\u001b[0m: operands could not be broadcast together with shapes (3000,629,4) (4000,629,4) "
     ]
    }
   ],
   "source": [
    "mask_forward_part1 = forward_1_mask * im_forward[:, left_1: right_1]\n",
    "forward_1_target = scale_percentile_2(mask_forward_part1)"
   ]
  },
  {
   "cell_type": "code",
   "execution_count": null,
   "metadata": {
    "collapsed": true
   },
   "outputs": [],
   "source": [
    "where_2 = np.where(forward_2 == 255)\n",
    "right_2 = min(np.max(where_2[1]) + 100, forward_2.shape[1])\n",
    "left_2  = max(np.min(where_2[1]) - 100, 0)\n",
    "forward_2_mask = convert_bmp_to_mask(forward_2[:, left_2: right_2])"
   ]
  },
  {
   "cell_type": "code",
   "execution_count": null,
   "metadata": {
    "collapsed": true
   },
   "outputs": [],
   "source": [
    "mask_forward_part2 = forward_2_mask * im_forward[:, left_2: right_2]\n",
    "forward_2_target = scale_percentile_2(mask_forward_part2)"
   ]
  },
  {
   "cell_type": "code",
   "execution_count": null,
   "metadata": {
    "collapsed": true
   },
   "outputs": [],
   "source": [
    "where_3 = np.where(forward_3 == 255)\n",
    "right_3 = min(np.max(where_3[1]) + 100, forward_3.shape[1])\n",
    "left_3  = max(np.min(where_3[1]) - 100, 0)\n",
    "forward_3_mask = convert_bmp_to_mask(forward_3[:, left_3: right_3])"
   ]
  },
  {
   "cell_type": "code",
   "execution_count": null,
   "metadata": {
    "collapsed": true
   },
   "outputs": [],
   "source": [
    "mask_forward_part3 = forward_3_mask * im_forward[:, left_3: right_3]\n",
    "forward_3_target = scale_percentile_2(mask_forward_part3)"
   ]
  },
  {
   "cell_type": "code",
   "execution_count": null,
   "metadata": {
    "collapsed": true
   },
   "outputs": [],
   "source": [
    "where_4 = np.where(forward_4 == 255)\n",
    "right_4 = min(np.max(where_4[1]) + 100, forward_4.shape[1])\n",
    "left_4  = max(np.min(where_4[1]) - 100, 0)\n",
    "forward_4_mask = convert_bmp_to_mask(forward_4[:, left_4: right_4])"
   ]
  },
  {
   "cell_type": "code",
   "execution_count": null,
   "metadata": {
    "collapsed": true
   },
   "outputs": [],
   "source": [
    "mask_forward_part4 = forward_4_mask * im_forward[:, left_4: right_4]\n",
    "forward_4_target = scale_percentile_2(mask_forward_part4)"
   ]
  },
  {
   "cell_type": "code",
   "execution_count": null,
   "metadata": {
    "collapsed": false
   },
   "outputs": [],
   "source": [
    "forward_effective = np.zeros(forward_1.shape[:2] + (4,))\n",
    "forward_effective[:, left_1: right_1] += forward_1_target\n",
    "forward_effective[:, left_2: right_2] += forward_2_target\n",
    "forward_effective[:, left_3: right_3] += forward_3_target\n",
    "forward_effective[:, left_4: right_4] += forward_4_target"
   ]
  },
  {
   "cell_type": "code",
   "execution_count": 19,
   "metadata": {
    "collapsed": false
   },
   "outputs": [
    {
     "data": {
      "text/plain": [
       "True"
      ]
     },
     "execution_count": 19,
     "metadata": {},
     "output_type": "execute_result"
    }
   ],
   "source": [
    "cv2.imwrite('boarders/2015.jpg', forward_effective[:, :, :3] * 255)"
   ]
  },
  {
   "cell_type": "code",
   "execution_count": 20,
   "metadata": {
    "collapsed": true
   },
   "outputs": [],
   "source": [
    "np.save('/data/zonghua/satellite/Final/new_data/2015_data', forward_effective)"
   ]
  },
  {
   "cell_type": "code",
   "execution_count": null,
   "metadata": {
    "collapsed": true
   },
   "outputs": [],
   "source": []
  }
 ],
 "metadata": {
  "kernelspec": {
   "display_name": "Python 3",
   "language": "python",
   "name": "python3"
  },
  "language_info": {
   "codemirror_mode": {
    "name": "ipython",
    "version": 3
   },
   "file_extension": ".py",
   "mimetype": "text/x-python",
   "name": "python",
   "nbconvert_exporter": "python",
   "pygments_lexer": "ipython3",
   "version": "3.5.2"
  }
 },
 "nbformat": 4,
 "nbformat_minor": 1
}
