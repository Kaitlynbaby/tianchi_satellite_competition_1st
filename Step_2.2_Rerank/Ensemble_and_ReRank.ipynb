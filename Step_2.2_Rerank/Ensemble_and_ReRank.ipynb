{
 "cells": [
  {
   "cell_type": "code",
   "execution_count": 31,
   "metadata": {
    "collapsed": false
   },
   "outputs": [
    {
     "name": "stdout",
     "output_type": "stream",
     "text": [
      "The autoreload extension is already loaded. To reload it, use:\n",
      "  %reload_ext autoreload\n"
     ]
    }
   ],
   "source": [
    "import numpy as np\n",
    "import sys\n",
    "sys.path.append(\"/data/zonghua/satellite/Yuan/common/utlis/\")\n",
    "\n",
    "import yuan_tool\n",
    "import image_tool\n",
    "import cv2\n",
    "\n",
    "import tifffile as tiff\n",
    "import matplotlib.pyplot as plt\n",
    "\n",
    "%matplotlib inline\n",
    "plt.rcParams[\"figure.figsize\"] = (20, 20)\n",
    "\n",
    "%load_ext autoreload\n",
    "%autoreload 2"
   ]
  },
  {
   "cell_type": "code",
   "execution_count": 42,
   "metadata": {
    "collapsed": true
   },
   "outputs": [],
   "source": [
    "dense   = np.load(\"../Step_1_Prediction/result/Dense.npy\")\n",
    "dense_0 = np.load(\"../Step_1_Prediction/result/Dense_0.npy\")\n",
    "dense_1 = np.load(\"../Step_1_Prediction/result/Dense_1.npy\")\n",
    "dense_2 = np.load(\"../Step_1_Prediction/result/Dense_-1.npy\")"
   ]
  },
  {
   "cell_type": "code",
   "execution_count": 43,
   "metadata": {
    "collapsed": true
   },
   "outputs": [],
   "source": [
    "dense += dense_0\n",
    "dense += dense_1\n",
    "dense += dense_2\n",
    "dense /= 4."
   ]
  },
  {
   "cell_type": "code",
   "execution_count": 44,
   "metadata": {
    "collapsed": true
   },
   "outputs": [],
   "source": [
    "hed   = np.load(\"../Step_1_Prediction/result/HED.npy\")\n",
    "hed_0 = np.load(\"../Step_1_Prediction/result/HED_0.npy\")\n",
    "hed_1 = np.load(\"../Step_1_Prediction/result/HED_1.npy\")\n",
    "hed_2 = np.load(\"../Step_1_Prediction/result/HED_-1.npy\")"
   ]
  },
  {
   "cell_type": "code",
   "execution_count": 45,
   "metadata": {
    "collapsed": true
   },
   "outputs": [],
   "source": [
    "hed += hed_0\n",
    "hed += hed_1\n",
    "hed += hed_2\n",
    "hed /= 4."
   ]
  },
  {
   "cell_type": "code",
   "execution_count": 46,
   "metadata": {
    "collapsed": true
   },
   "outputs": [],
   "source": [
    "res   = np.load(\"../Step_1_Prediction/result/Res.npy\")\n",
    "res_0 = np.load(\"../Step_1_Prediction/result/Res_0.npy\")\n",
    "res_1 = np.load(\"../Step_1_Prediction/result/Res_1.npy\")\n",
    "res_2 = np.load(\"../Step_1_Prediction/result/Res_-1.npy\")"
   ]
  },
  {
   "cell_type": "code",
   "execution_count": 47,
   "metadata": {
    "collapsed": true
   },
   "outputs": [],
   "source": [
    "res += res_0\n",
    "res += res_1\n",
    "res += res_2\n",
    "res /= 4."
   ]
  },
  {
   "cell_type": "code",
   "execution_count": 49,
   "metadata": {
    "collapsed": true
   },
   "outputs": [],
   "source": [
    "ensemble_y = np.zeros([3000, 15106])\n",
    "ensemble_y += dense.reshape(3000, 15106)\n",
    "ensemble_y += hed.reshape(3000, 15106)\n",
    "ensemble_y += res.reshape(3000, 15106)\n",
    "ensemble_y /= 3.0\n",
    "ensemble_y = 1 - ensemble_y"
   ]
  },
  {
   "cell_type": "code",
   "execution_count": 50,
   "metadata": {
    "collapsed": false
   },
   "outputs": [
    {
     "name": "stdout",
     "output_type": "stream",
     "text": [
      "[=================================================>], 506/507, 99%, 0.57s "
     ]
    }
   ],
   "source": [
    "ensemble_y = ensemble_y\n",
    "positives, bounds, contours, remove_small, positive_arrs = image_tool.mask_positives(ensemble_y, threshold=0.4)\n",
    "positives, bounds, contours, remove_small_1, positive_arrs = image_tool.mask_positives(ensemble_y, threshold=0.5)\n",
    "ensemble_mask = image_tool.mask_rm_positives(remove_small_1, bounds, positives, contours, threshold=0.55)"
   ]
  },
  {
   "cell_type": "code",
   "execution_count": 51,
   "metadata": {
    "collapsed": false
   },
   "outputs": [],
   "source": [
    "ensemble_mask = np.asarray(ensemble_mask, np.uint8)"
   ]
  },
  {
   "cell_type": "code",
   "execution_count": 52,
   "metadata": {
    "collapsed": false
   },
   "outputs": [],
   "source": [
    "np.save(\"results/remove_small\", ensemble_mask)"
   ]
  },
  {
   "cell_type": "code",
   "execution_count": 53,
   "metadata": {
    "collapsed": false
   },
   "outputs": [
    {
     "data": {
      "text/plain": [
       "True"
      ]
     },
     "execution_count": 53,
     "metadata": {},
     "output_type": "execute_result"
    }
   ],
   "source": [
    "cv2.imwrite(\"results/mask.bmp\", ensemble_mask * 255)"
   ]
  },
  {
   "cell_type": "code",
   "execution_count": null,
   "metadata": {
    "collapsed": true
   },
   "outputs": [],
   "source": [
    "relabel = cv2.imread(\"results/relabel_mask.png\")\n",
    "relabel = relabel[:, :, 0]\n",
    "relabel[relabel <= 10] = 0\n",
    "relabel[relabel > 0] = 1"
   ]
  },
  {
   "cell_type": "code",
   "execution_count": null,
   "metadata": {
    "collapsed": true
   },
   "outputs": [],
   "source": [
    "save_tiff = np.asarray(relabel, np.uint8)\n",
    "tiff.imsave(\"submit/11_21_1.tiff\", save_tiff)"
   ]
  },
  {
   "cell_type": "code",
   "execution_count": 8,
   "metadata": {
    "collapsed": true
   },
   "outputs": [],
   "source": [
    "!mkdir /data/zonghua/satellite/Part3/11_19_analysis"
   ]
  },
  {
   "cell_type": "markdown",
   "metadata": {},
   "source": [
    "# Dense、HED、ResNet"
   ]
  },
  {
   "cell_type": "code",
   "execution_count": 39,
   "metadata": {
    "collapsed": false
   },
   "outputs": [
    {
     "name": "stdout",
     "output_type": "stream",
     "text": [
      "[=================================================>], 550/551, 99%, 0.61s "
     ]
    },
    {
     "data": {
      "text/plain": [
       "True"
      ]
     },
     "execution_count": 39,
     "metadata": {},
     "output_type": "execute_result"
    }
   ],
   "source": [
    "ensemble_y = 1 - dense\n",
    "positives, bounds, contours, remove_small, positive_arrs = image_tool.mask_positives(ensemble_y, threshold=0.5)\n",
    "ensemble_mask = image_tool.mask_rm_positives(remove_small, bounds, positives, contours, threshold=0.55)\n",
    "cv2.imwrite(\"results/mask_dense.bmp\", ensemble_mask * 255)"
   ]
  },
  {
   "cell_type": "code",
   "execution_count": 40,
   "metadata": {
    "collapsed": false
   },
   "outputs": [
    {
     "name": "stdout",
     "output_type": "stream",
     "text": [
      "[=================================================>], 554/555, 99%, 0.56s "
     ]
    },
    {
     "data": {
      "text/plain": [
       "True"
      ]
     },
     "execution_count": 40,
     "metadata": {},
     "output_type": "execute_result"
    }
   ],
   "source": [
    "ensemble_y = 1 - hed\n",
    "positives, bounds, contours, remove_small, positive_arrs = image_tool.mask_positives(ensemble_y, threshold=0.5)\n",
    "ensemble_mask = image_tool.mask_rm_positives(remove_small, bounds, positives, contours, threshold=0.55)\n",
    "cv2.imwrite(\"results/mask_vgg.bmp\", ensemble_mask * 255)"
   ]
  },
  {
   "cell_type": "code",
   "execution_count": 41,
   "metadata": {
    "collapsed": false
   },
   "outputs": [
    {
     "name": "stdout",
     "output_type": "stream",
     "text": [
      "[=================================================>], 657/658, 99%, 0.88s "
     ]
    },
    {
     "data": {
      "text/plain": [
       "True"
      ]
     },
     "execution_count": 41,
     "metadata": {},
     "output_type": "execute_result"
    }
   ],
   "source": [
    "ensemble_y = 1 - res\n",
    "positives, bounds, contours, remove_small, positive_arrs = image_tool.mask_positives(ensemble_y, threshold=0.5)\n",
    "ensemble_mask = image_tool.mask_rm_positives(remove_small, bounds, positives, contours, threshold=0.55)\n",
    "cv2.imwrite(\"results/mask_res.bmp\", ensemble_mask * 255)"
   ]
  },
  {
   "cell_type": "markdown",
   "metadata": {},
   "source": [
    "# Single "
   ]
  },
  {
   "cell_type": "code",
   "execution_count": 32,
   "metadata": {
    "collapsed": true
   },
   "outputs": [],
   "source": [
    "dense   = np.load(\"../Step_1_Prediction/result/Dense.npy\")\n",
    "res   = np.load(\"../Step_1_Prediction/result/Res.npy\")\n",
    "hed   = np.load(\"../Step_1_Prediction/result/HED.npy\")"
   ]
  },
  {
   "cell_type": "code",
   "execution_count": 34,
   "metadata": {
    "collapsed": false
   },
   "outputs": [],
   "source": [
    "ensemble_y = np.zeros([3000, 15106])\n",
    "ensemble_y += dense.reshape(3000, 15106)\n",
    "ensemble_y += hed.reshape(3000, 15106)\n",
    "ensemble_y += res.reshape(3000, 15106)\n",
    "ensemble_y /= 3.0\n",
    "ensemble_y = 1 - ensemble_y"
   ]
  },
  {
   "cell_type": "code",
   "execution_count": 35,
   "metadata": {
    "collapsed": false
   },
   "outputs": [
    {
     "name": "stdout",
     "output_type": "stream",
     "text": [
      "[=================================================>], 539/540, 99%, 0.62s "
     ]
    }
   ],
   "source": [
    "ensemble_y = ensemble_y\n",
    "positives, bounds, contours, remove_small, positive_arrs = image_tool.mask_positives(ensemble_y, threshold=0.4)\n",
    "positives, bounds, contours, remove_small_1, positive_arrs = image_tool.mask_positives(ensemble_y, threshold=0.5)\n",
    "ensemble_mask = image_tool.mask_rm_positives(remove_small_1, bounds, positives, contours, threshold=0.55)"
   ]
  },
  {
   "cell_type": "code",
   "execution_count": 38,
   "metadata": {
    "collapsed": false
   },
   "outputs": [
    {
     "data": {
      "text/plain": [
       "True"
      ]
     },
     "execution_count": 38,
     "metadata": {},
     "output_type": "execute_result"
    }
   ],
   "source": [
    "cv2.imwrite(\"results/mask_v1.bmp\", ensemble_mask * 255)"
   ]
  },
  {
   "cell_type": "code",
   "execution_count": 37,
   "metadata": {
    "collapsed": false
   },
   "outputs": [],
   "source": [
    "save_tiff = np.asarray(ensemble_mask, dtype=np.uint8)\n",
    "tiff.imsave(\"results/submit.tif\", save_tiff)"
   ]
  },
  {
   "cell_type": "code",
   "execution_count": 63,
   "metadata": {
    "collapsed": true
   },
   "outputs": [],
   "source": [
    "final_label = cv2.imread(\"final_v2.bmp\")"
   ]
  },
  {
   "cell_type": "code",
   "execution_count": 64,
   "metadata": {
    "collapsed": false
   },
   "outputs": [],
   "source": [
    "final_label = final_label[:, :, 0]\n",
    "final_label[final_label < 10] = 0\n",
    "final_label[final_label > 0]  = 1"
   ]
  },
  {
   "cell_type": "code",
   "execution_count": 65,
   "metadata": {
    "collapsed": true
   },
   "outputs": [],
   "source": [
    "save_tiff = np.asarray(final_label, dtype=np.uint8)\n",
    "tiff.imsave(\"results/submit.tif\", save_tiff)"
   ]
  },
  {
   "cell_type": "code",
   "execution_count": 66,
   "metadata": {
    "collapsed": false
   },
   "outputs": [
    {
     "data": {
      "text/plain": [
       "dtype('uint8')"
      ]
     },
     "execution_count": 66,
     "metadata": {},
     "output_type": "execute_result"
    }
   ],
   "source": [
    "save_tiff.dtype"
   ]
  },
  {
   "cell_type": "code",
   "execution_count": 67,
   "metadata": {
    "collapsed": false
   },
   "outputs": [
    {
     "data": {
      "text/plain": [
       "(3000, 15106)"
      ]
     },
     "execution_count": 67,
     "metadata": {},
     "output_type": "execute_result"
    }
   ],
   "source": [
    "save_tiff.shape"
   ]
  },
  {
   "cell_type": "code",
   "execution_count": null,
   "metadata": {
    "collapsed": true
   },
   "outputs": [],
   "source": []
  }
 ],
 "metadata": {
  "kernelspec": {
   "display_name": "Python 3",
   "language": "python",
   "name": "python3"
  },
  "language_info": {
   "codemirror_mode": {
    "name": "ipython",
    "version": 3
   },
   "file_extension": ".py",
   "mimetype": "text/x-python",
   "name": "python",
   "nbconvert_exporter": "python",
   "pygments_lexer": "ipython3",
   "version": "3.5.2"
  }
 },
 "nbformat": 4,
 "nbformat_minor": 1
}
